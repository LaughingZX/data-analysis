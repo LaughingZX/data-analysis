{
 "cells": [
  {
   "cell_type": "code",
   "execution_count": 29,
   "metadata": {},
   "outputs": [],
   "source": [
    "import pandas as pd\n",
    "from datetime import date, timedelta"
   ]
  },
  {
   "cell_type": "code",
   "execution_count": 30,
   "metadata": {},
   "outputs": [],
   "source": [
    "start_date =date( 2018,1,1)\n",
    "#累加月份转化为YY-MM-DD形式\n",
    "def add_month(d, md):\n",
    "    yd = md//12\n",
    "    m = d.month + md%12\n",
    "    if m != 12:\n",
    "        yd += m//12\n",
    "        m = m%12\n",
    "    return date(d.year+yd, m, d.day)"
   ]
  },
  {
   "cell_type": "code",
   "execution_count": 31,
   "metadata": {},
   "outputs": [
    {
     "name": "stdout",
     "output_type": "stream",
     "text": [
      "    id      name        date Instore\n",
      "0    1  book_001  2018-01-01     YES\n",
      "1    2  book_002  2018-02-01      NO\n",
      "2    3  book_003  2018-03-01     YES\n",
      "3    4  book_004  2018-04-01      NO\n",
      "4    5  book_005  2018-05-01     YES\n",
      "5    6  book_006  2018-06-01      NO\n",
      "6    7  book_007  2018-07-01     YES\n",
      "7    8  book_008  2018-08-01      NO\n",
      "8    9  book_009  2018-09-01     YES\n",
      "9   10  book_010  2018-10-01      NO\n",
      "10  11  book_011  2018-11-01     YES\n",
      "11  12  book_012  2018-12-01      NO\n",
      "12  13  book_013  2019-01-01     YES\n",
      "13  14  book_014  2019-02-01      NO\n",
      "14  15  book_015  2019-03-01     YES\n",
      "15  16  book_016  2019-04-01      NO\n",
      "16  17  book_017  2019-05-01     YES\n",
      "17  18  book_018  2019-06-01      NO\n",
      "18  19  book_019  2019-07-01     YES\n",
      "19  20  book_020  2019-08-01      NO\n",
      "20  21  book_021  2019-09-01     YES\n",
      "21  22  book_022  2019-10-01      NO\n",
      "22  23  book_023  2019-11-01     YES\n",
      "23  24  book_024  2019-12-01      NO\n"
     ]
    }
   ],
   "source": [
    "books = pd.read_excel('D:\\Python\\excel.xlsx',skiprows=3,usecols='c:f',index_col=None,dtype={'id':str,'date':str,'Instore':str})\n",
    "# books['id'].at[0]=100\n",
    "for i in books.index:  #用Series的at定位\n",
    "    books['id'].at[i]=i+1\n",
    "    books['Instore'].at[i]='YES' if i%2==0 else 'NO'\n",
    "    books['date'].at[i] = add_month(start_date,i)\n",
    "print(books)"
   ]
  },
  {
   "cell_type": "code",
   "execution_count": 32,
   "metadata": {},
   "outputs": [
    {
     "name": "stdout",
     "output_type": "stream",
     "text": [
      "    id      name        date Instore\n",
      "0    1  book_001  2018-01-01     YES\n",
      "1    2  book_002  2018-02-01      NO\n",
      "2    3  book_003  2018-03-01     YES\n",
      "3    4  book_004  2018-04-01      NO\n",
      "4    5  book_005  2018-05-01     YES\n",
      "5    6  book_006  2018-06-01      NO\n",
      "6    7  book_007  2018-07-01     YES\n",
      "7    8  book_008  2018-08-01      NO\n",
      "8    9  book_009  2018-09-01     YES\n",
      "9   10  book_010  2018-10-01      NO\n",
      "10  11  book_011  2018-11-01     YES\n",
      "11  12  book_012  2018-12-01      NO\n",
      "12  13  book_013  2019-01-01     YES\n",
      "13  14  book_014  2019-02-01      NO\n",
      "14  15  book_015  2019-03-01     YES\n",
      "15  16  book_016  2019-04-01      NO\n",
      "16  17  book_017  2019-05-01     YES\n",
      "17  18  book_018  2019-06-01      NO\n",
      "18  19  book_019  2019-07-01     YES\n",
      "19  20  book_020  2019-08-01      NO\n",
      "20  21  book_021  2019-09-01     YES\n",
      "21  22  book_022  2019-10-01      NO\n",
      "22  23  book_023  2019-11-01     YES\n",
      "23  24  book_024  2019-12-01      NO\n"
     ]
    }
   ],
   "source": [
    "for i in books.index:  #直接用dataframe的at定位单元格\n",
    "    books.at[i,'id'] = i+1\n",
    "    books.at[i,'Instore'] = 'YES' if i%2==0 else 'NO'\n",
    "    books.at[i,'date'] = add_month(start_date,i)\n",
    "print(books)"
   ]
  },
  {
   "cell_type": "code",
   "execution_count": 27,
   "metadata": {},
   "outputs": [],
   "source": [
    "books.set_index('id',inplace=True)\n",
    "books.to_excel('D:\\Python\\excel2.xlsx')"
   ]
  }
 ],
 "metadata": {
  "kernelspec": {
   "display_name": "Python 3",
   "language": "python",
   "name": "python3"
  },
  "language_info": {
   "codemirror_mode": {
    "name": "ipython",
    "version": 3
   },
   "file_extension": ".py",
   "mimetype": "text/x-python",
   "name": "python",
   "nbconvert_exporter": "python",
   "pygments_lexer": "ipython3",
   "version": "3.6.5"
  }
 },
 "nbformat": 4,
 "nbformat_minor": 2
}
