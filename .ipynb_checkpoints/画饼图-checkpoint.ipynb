{
 "cells": [
  {
   "cell_type": "code",
   "execution_count": 25,
   "metadata": {},
   "outputs": [],
   "source": [
    "import pandas as pd\n",
    "import matplotlib.pyplot as plt\n",
    "plt.rcParams['font.sans-serif']=['SimHei']\n",
    "plt.rcParams['axes.unicode_minus']=False"
   ]
  },
  {
   "cell_type": "code",
   "execution_count": 5,
   "metadata": {},
   "outputs": [
    {
     "data": {
      "text/html": [
       "<div>\n",
       "<style scoped>\n",
       "    .dataframe tbody tr th:only-of-type {\n",
       "        vertical-align: middle;\n",
       "    }\n",
       "\n",
       "    .dataframe tbody tr th {\n",
       "        vertical-align: top;\n",
       "    }\n",
       "\n",
       "    .dataframe thead th {\n",
       "        text-align: right;\n",
       "    }\n",
       "</style>\n",
       "<table border=\"1\" class=\"dataframe\">\n",
       "  <thead>\n",
       "    <tr style=\"text-align: right;\">\n",
       "      <th></th>\n",
       "      <th>城市</th>\n",
       "      <th>品牌</th>\n",
       "      <th>销量</th>\n",
       "      <th>价格</th>\n",
       "    </tr>\n",
       "  </thead>\n",
       "  <tbody>\n",
       "    <tr>\n",
       "      <th>0</th>\n",
       "      <td>广州</td>\n",
       "      <td>奥迪</td>\n",
       "      <td>10</td>\n",
       "      <td>56.36</td>\n",
       "    </tr>\n",
       "    <tr>\n",
       "      <th>1</th>\n",
       "      <td>深圳</td>\n",
       "      <td>奔驰</td>\n",
       "      <td>5</td>\n",
       "      <td>99.80</td>\n",
       "    </tr>\n",
       "    <tr>\n",
       "      <th>2</th>\n",
       "      <td>东莞</td>\n",
       "      <td>玛莎拉蒂</td>\n",
       "      <td>3</td>\n",
       "      <td>122.60</td>\n",
       "    </tr>\n",
       "    <tr>\n",
       "      <th>3</th>\n",
       "      <td>深圳</td>\n",
       "      <td>奥迪</td>\n",
       "      <td>20</td>\n",
       "      <td>63.11</td>\n",
       "    </tr>\n",
       "    <tr>\n",
       "      <th>4</th>\n",
       "      <td>深圳</td>\n",
       "      <td>玛莎拉蒂</td>\n",
       "      <td>11</td>\n",
       "      <td>206.31</td>\n",
       "    </tr>\n",
       "    <tr>\n",
       "      <th>5</th>\n",
       "      <td>广州</td>\n",
       "      <td>玛莎拉蒂</td>\n",
       "      <td>8</td>\n",
       "      <td>200.00</td>\n",
       "    </tr>\n",
       "    <tr>\n",
       "      <th>6</th>\n",
       "      <td>东莞</td>\n",
       "      <td>奥迪</td>\n",
       "      <td>12</td>\n",
       "      <td>42.50</td>\n",
       "    </tr>\n",
       "    <tr>\n",
       "      <th>7</th>\n",
       "      <td>天津</td>\n",
       "      <td>奥迪</td>\n",
       "      <td>21</td>\n",
       "      <td>39.15</td>\n",
       "    </tr>\n",
       "    <tr>\n",
       "      <th>8</th>\n",
       "      <td>北京</td>\n",
       "      <td>奔驰</td>\n",
       "      <td>45</td>\n",
       "      <td>88.00</td>\n",
       "    </tr>\n",
       "    <tr>\n",
       "      <th>9</th>\n",
       "      <td>上海</td>\n",
       "      <td>玛莎拉蒂</td>\n",
       "      <td>50</td>\n",
       "      <td>169.20</td>\n",
       "    </tr>\n",
       "    <tr>\n",
       "      <th>10</th>\n",
       "      <td>武汉</td>\n",
       "      <td>奔驰</td>\n",
       "      <td>13</td>\n",
       "      <td>77.90</td>\n",
       "    </tr>\n",
       "  </tbody>\n",
       "</table>\n",
       "</div>"
      ],
      "text/plain": [
       "    城市    品牌  销量      价格\n",
       "0   广州    奥迪  10   56.36\n",
       "1   深圳    奔驰   5   99.80\n",
       "2   东莞  玛莎拉蒂   3  122.60\n",
       "3   深圳    奥迪  20   63.11\n",
       "4   深圳  玛莎拉蒂  11  206.31\n",
       "5   广州  玛莎拉蒂   8  200.00\n",
       "6   东莞    奥迪  12   42.50\n",
       "7   天津    奥迪  21   39.15\n",
       "8   北京    奔驰  45   88.00\n",
       "9   上海  玛莎拉蒂  50  169.20\n",
       "10  武汉    奔驰  13   77.90"
      ]
     },
     "execution_count": 5,
     "metadata": {},
     "output_type": "execute_result"
    }
   ],
   "source": [
    "path = 'C:/Users/Administrator/Desktop/函数练习.xlsx'\n",
    "data = pd.read_excel(path,sheet_name='Sheet5')\n",
    "data"
   ]
  },
  {
   "cell_type": "code",
   "execution_count": 10,
   "metadata": {},
   "outputs": [
    {
     "data": {
      "text/plain": [
       "城市\n",
       "上海    50\n",
       "东莞    15\n",
       "北京    45\n",
       "天津    21\n",
       "广州    18\n",
       "武汉    13\n",
       "深圳    36\n",
       "Name: 销量, dtype: int64"
      ]
     },
     "execution_count": 10,
     "metadata": {},
     "output_type": "execute_result"
    }
   ],
   "source": [
    "df=data.groupby('城市')['销量'].sum()\n",
    "df"
   ]
  },
  {
   "cell_type": "code",
   "execution_count": 28,
   "metadata": {},
   "outputs": [
    {
     "data": {
      "text/plain": [
       "<matplotlib.axes._subplots.AxesSubplot at 0xa4258d0>"
      ]
     },
     "execution_count": 28,
     "metadata": {},
     "output_type": "execute_result"
    },
    {
     "data": {
      "image/png": "[encoded data removed]",
      "text/plain": [
       "<Figure size 432x288 with 1 Axes>"
      ]
     },
     "metadata": {},
     "output_type": "display_data"
    }
   ],
   "source": [
    "df.plot(kind='bar',fontsize=12,legend=)"
   ]
  },
  {
   "cell_type": "code",
   "execution_count": 36,
   "metadata": {},
   "outputs": [
    {
     "data": {
      "text/plain": [
       "Text(0,0.5,'销量')"
      ]
     },
     "execution_count": 36,
     "metadata": {},
     "output_type": "execute_result"
    },
    {
     "data": {
      "image/png": "[encoded data removed]",
      "text/plain": [
       "<Figure size 432x288 with 1 Axes>"
      ]
     },
     "metadata": {},
     "output_type": "display_data"
    }
   ],
   "source": [
    "plt.bar(df.index,df.values,color=['red','orange','green','blue','pink','grey','yellow'])\n",
    "plt.xticks(rotation=30)\n",
    "plt.xlabel('城市')\n",
    "plt.ylabel('销量')"
   ]
  },
  {
   "cell_type": "code",
   "execution_count": null,
   "metadata": {},
   "outputs": [],
   "source": []
  }
 ],
 "metadata": {
  "kernelspec": {
   "display_name": "Python 3",
   "language": "python",
   "name": "python3"
  },
  "language_info": {
   "codemirror_mode": {
    "name": "ipython",
    "version": 3
   },
   "file_extension": ".py",
   "mimetype": "text/x-python",
   "name": "python",
   "nbconvert_exporter": "python",
   "pygments_lexer": "ipython3",
   "version": "3.6.5"
  }
 },
 "nbformat": 4,
 "nbformat_minor": 2
}
