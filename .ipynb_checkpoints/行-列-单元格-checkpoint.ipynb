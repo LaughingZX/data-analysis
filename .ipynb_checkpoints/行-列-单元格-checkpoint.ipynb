{
 "cells": [
  {
   "cell_type": "code",
   "execution_count": 1,
   "metadata": {},
   "outputs": [],
   "source": [
    "import pandas as pd\n"
   ]
  },
  {
   "cell_type": "code",
   "execution_count": 3,
   "metadata": {},
   "outputs": [
    {
     "name": "stdout",
     "output_type": "stream",
     "text": [
      "x    100\n",
      "y    200\n",
      "z    300\n",
      "dtype: int64\n"
     ]
    }
   ],
   "source": [
    "d = {'x':100,'y':200,'z':300}\n",
    "s1 = pd.Series(d)\n",
    "print(s1)"
   ]
  },
  {
   "cell_type": "code",
   "execution_count": 5,
   "metadata": {},
   "outputs": [
    {
     "name": "stdout",
     "output_type": "stream",
     "text": [
      "x    100\n",
      "y    200\n",
      "z    300\n",
      "dtype: int64\n"
     ]
    }
   ],
   "source": [
    "L1 = [100,200,300]\n",
    "L2 = ['x','y','z']\n",
    "s2 = pd.Series(L1,index=L2)\n",
    "print(s2)"
   ]
  },
  {
   "cell_type": "code",
   "execution_count": 13,
   "metadata": {},
   "outputs": [
    {
     "name": "stdout",
     "output_type": "stream",
     "text": [
      "   A   B    C\n",
      "1  1  10  100\n",
      "2  2  20  200\n",
      "3  3  30  300\n"
     ]
    }
   ],
   "source": [
    "#以列的形式加入excel，以dictionary加\n",
    "s3 = pd.Series([1,2,3],index=[1,2,3],name='A')\n",
    "s4 = pd.Series([10,20,30],index=[1,2,3],name='B')\n",
    "s5= pd.Series([100,200,300],index=[1,2,3],name='C')\n",
    "df = pd.DataFrame({s3.name:s3, s4.name:s4, s5.name:s5})\n",
    "print(df)\n",
    "df.set_index('A',inplace=True)\n",
    "df.to_excel('D:\\Python\\excel3.xlsx')"
   ]
  },
  {
   "cell_type": "code",
   "execution_count": 16,
   "metadata": {},
   "outputs": [
    {
     "name": "stdout",
     "output_type": "stream",
     "text": [
      "     1    2    3\n",
      "A    1    2    3\n",
      "B   10   20   30\n",
      "C  100  200  300\n"
     ]
    }
   ],
   "source": [
    "#以行的形式加入excel,以list形式加\n",
    "df2 = pd.DataFrame([s3,s4,s5])\n",
    "print(df2)\n",
    "df2.to_excel('D:\\Python\\excel4.xlsx',header=1,index=None)"
   ]
  }
 ],
 "metadata": {
  "kernelspec": {
   "display_name": "Python 3",
   "language": "python",
   "name": "python3"
  },
  "language_info": {
   "codemirror_mode": {
    "name": "ipython",
    "version": 3
   },
   "file_extension": ".py",
   "mimetype": "text/x-python",
   "name": "python",
   "nbconvert_exporter": "python",
   "pygments_lexer": "ipython3",
   "version": "3.6.5"
  }
 },
 "nbformat": 4,
 "nbformat_minor": 2
}
