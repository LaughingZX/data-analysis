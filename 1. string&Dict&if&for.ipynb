{
 "cells": [
  {
   "cell_type": "markdown",
   "metadata": {},
   "source": [
    "## 5. 字符串操作      无法删除字符串里面的字符"
   ]
  },
  {
   "cell_type": "markdown",
   "metadata": {},
   "source": [
    "### 5.1 字符串格式化"
   ]
  },
  {
   "cell_type": "markdown",
   "metadata": {},
   "source": [
    "字符串格式化使用字符串格式化操作符即百分号%来实现"
   ]
  },
  {
   "cell_type": "code",
   "execution_count": null,
   "metadata": {},
   "outputs": [],
   "source": [
    "#针对字符串\n",
    "s='Where %s %s from?'\n",
    "value = ('are','you')\n",
    "s % value"
   ]
  },
  {
   "cell_type": "code",
   "execution_count": null,
   "metadata": {},
   "outputs": [],
   "source": [
    "print('Where %s %s from?'%('are', 'you'))"
   ]
  },
  {
   "cell_type": "code",
   "execution_count": null,
   "metadata": {},
   "outputs": [],
   "source": [
    "import math\n",
    "#针对实数\n",
    "pi=math.pi\n",
    "s='Pi is %.3f' % pi  #  f是浮点数 .前面和后面的数字表示保留的位数  .3f表示保留三位小数的浮点数\n",
    "print(s)"
   ]
  },
  {
   "cell_type": "code",
   "execution_count": null,
   "metadata": {},
   "outputs": [],
   "source": [
    "#用help(math)查找函数的一些参数\n",
    "help(math)"
   ]
  },
  {
   "cell_type": "markdown",
   "metadata": {},
   "source": [
    "### 5.2 字符串方法"
   ]
  },
  {
   "cell_type": "markdown",
   "metadata": {},
   "source": [
    "字符串内置的方法比较多，这里只介绍几种常用的。"
   ]
  },
  {
   "cell_type": "markdown",
   "metadata": {},
   "source": [
    "**(1)find**"
   ]
  },
  {
   "cell_type": "markdown",
   "metadata": {},
   "source": [
    "检测 str 是否包含在字符串中，如果指定范围 begin 和 end ，则检查是否包含在指定范围内，如果包含返回开始的索引值，否则返回-1"
   ]
  },
  {
   "cell_type": "code",
   "execution_count": null,
   "metadata": {},
   "outputs": [],
   "source": [
    "title='This is a question'\n",
    "title.find('is')"
   ]
  },
  {
   "cell_type": "code",
   "execution_count": null,
   "metadata": {},
   "outputs": [],
   "source": [
    "title.find('a',9,20)"
   ]
  },
  {
   "cell_type": "markdown",
   "metadata": {},
   "source": [
    "**(2)join**"
   ]
  },
  {
   "cell_type": "markdown",
   "metadata": {},
   "source": [
    "以指定字符串作为分隔符，将 seq 中所有的元素(的字符串表示)合并为一个新的字符串,split的逆方法"
   ]
  },
  {
   "cell_type": "code",
   "execution_count": 13,
   "metadata": {
    "scrolled": true
   },
   "outputs": [
    {
     "data": {
      "text/plain": [
       "'1+2+3+4'"
      ]
     },
     "execution_count": 13,
     "metadata": {},
     "output_type": "execute_result"
    }
   ],
   "source": [
    "seq=['1','2','3','4']\n",
    "sep='+'\n",
    "sep.join(seq)"
   ]
  },
  {
   "cell_type": "code",
   "execution_count": 15,
   "metadata": {},
   "outputs": [
    {
     "data": {
      "text/plain": [
       "'1/2/3/4'"
      ]
     },
     "execution_count": 15,
     "metadata": {},
     "output_type": "execute_result"
    }
   ],
   "source": [
    "seq=['1','2','3','4']\n",
    "s='/'\n",
    "s.join(seq)"
   ]
  },
  {
   "cell_type": "code",
   "execution_count": 1,
   "metadata": {},
   "outputs": [
    {
     "data": {
      "text/plain": [
       "'baidu taobao jd'"
      ]
     },
     "execution_count": 1,
     "metadata": {},
     "output_type": "execute_result"
    }
   ],
   "source": [
    "seq=['baidu','taobao','jd']\n",
    "a=' '\n",
    "a.join(seq)"
   ]
  },
  {
   "cell_type": "markdown",
   "metadata": {},
   "source": [
    "**(3)split**"
   ]
  },
  {
   "cell_type": "markdown",
   "metadata": {},
   "source": [
    "以指定的分隔符进行分割，非常重要的一个方法，它是join的逆方法。"
   ]
  },
  {
   "cell_type": "code",
   "execution_count": 7,
   "metadata": {},
   "outputs": [
    {
     "data": {
      "text/plain": [
       "['baidu', 'jd', 'taobao']"
      ]
     },
     "execution_count": 7,
     "metadata": {},
     "output_type": "execute_result"
    }
   ],
   "source": [
    "s='baidu/jd/taobao'\n",
    "s.split('/')"
   ]
  },
  {
   "cell_type": "code",
   "execution_count": 6,
   "metadata": {},
   "outputs": [
    {
     "data": {
      "text/plain": [
       "['This', 'is', 'a', 'question']"
      ]
     },
     "execution_count": 6,
     "metadata": {},
     "output_type": "execute_result"
    }
   ],
   "source": [
    "'This is a question'.split(' ')"
   ]
  },
  {
   "cell_type": "markdown",
   "metadata": {},
   "source": [
    "**(4)strip**"
   ]
  },
  {
   "cell_type": "markdown",
   "metadata": {},
   "source": [
    "去除两侧（不包括内部）空格"
   ]
  },
  {
   "cell_type": "code",
   "execution_count": null,
   "metadata": {},
   "outputs": [],
   "source": [
    "'    oh,my god   '.strip()"
   ]
  },
  {
   "cell_type": "code",
   "execution_count": null,
   "metadata": {},
   "outputs": [],
   "source": [
    "'    oh,my god   '.lstrip() #去左边的空格"
   ]
  },
  {
   "cell_type": "code",
   "execution_count": null,
   "metadata": {},
   "outputs": [],
   "source": [
    "'    oh,my god   '.rstrip() #去右边的空格"
   ]
  },
  {
   "cell_type": "markdown",
   "metadata": {},
   "source": [
    "**(5)lower和upper**"
   ]
  },
  {
   "cell_type": "code",
   "execution_count": 6,
   "metadata": {},
   "outputs": [
    {
     "data": {
      "text/plain": [
       "'this is a question'"
      ]
     },
     "execution_count": 6,
     "metadata": {},
     "output_type": "execute_result"
    }
   ],
   "source": [
    "'This Is a Question'.lower()#所有的字符转为小写\n"
   ]
  },
  {
   "cell_type": "code",
   "execution_count": 3,
   "metadata": {},
   "outputs": [
    {
     "data": {
      "text/plain": [
       "'This Is A Question'"
      ]
     },
     "execution_count": 3,
     "metadata": {},
     "output_type": "execute_result"
    }
   ],
   "source": [
    "'this is a question'.title()\n"
   ]
  },
  {
   "cell_type": "code",
   "execution_count": 7,
   "metadata": {},
   "outputs": [
    {
     "data": {
      "text/plain": [
       "'THIS IS A QUESTION'"
      ]
     },
     "execution_count": 7,
     "metadata": {},
     "output_type": "execute_result"
    }
   ],
   "source": [
    "'This Is a Question'.upper()#所有的字符转为大写"
   ]
  },
  {
   "cell_type": "code",
   "execution_count": 9,
   "metadata": {},
   "outputs": [
    {
     "data": {
      "text/plain": [
       "'This Is A Question'"
      ]
     },
     "execution_count": 9,
     "metadata": {},
     "output_type": "execute_result"
    }
   ],
   "source": [
    "s='this is a question'\n",
    "s.title() ####首字母大写"
   ]
  },
  {
   "cell_type": "markdown",
   "metadata": {},
   "source": [
    "**(6)replace**"
   ]
  },
  {
   "cell_type": "markdown",
   "metadata": {},
   "source": [
    "把 将字符串中的 str1 替换成 str2,如果 max 指定，则替换不超过 max 次。"
   ]
  },
  {
   "cell_type": "code",
   "execution_count": 3,
   "metadata": {
    "scrolled": true
   },
   "outputs": [
    {
     "name": "stdout",
     "output_type": "stream",
     "text": [
      "Oh no,the world as is good\n"
     ]
    }
   ],
   "source": [
    "s='Oh no,the world is is good'\n",
    "s=s.replace('is', 'as',1)\n",
    "print(s)"
   ]
  },
  {
   "cell_type": "code",
   "execution_count": 7,
   "metadata": {},
   "outputs": [
    {
     "name": "stdout",
     "output_type": "stream",
     "text": [
      "oh no,the world as as is good\n"
     ]
    }
   ],
   "source": [
    "d=\"oh no,the world is is is good\"\n",
    "d=d.replace('is','as',2)\n",
    "print(d)"
   ]
  },
  {
   "cell_type": "markdown",
   "metadata": {},
   "source": [
    "更多的字符串操作方法可以参考：http://www.runoob.com/python3/python3-string.html"
   ]
  },
  {
   "cell_type": "markdown",
   "metadata": {},
   "source": [
    "### 练习"
   ]
  },
  {
   "cell_type": "code",
   "execution_count": null,
   "metadata": {},
   "outputs": [],
   "source": [
    "content='  2018我要泡妞/2018年为什么不能结婚/2018欢乐多  '"
   ]
  },
  {
   "cell_type": "markdown",
   "metadata": {},
   "source": [
    "针对以上文本：\n",
    "1. 请输出其内容。\n",
    "2. 请计算该文本的原始长度。\n",
    "3. 去除字符串两边的空格；\n",
    "3. 请替换其中的字符”2018”为”2019”。\n",
    "4. 请取出最中间的长度为5的子串。\n",
    "5. 请取出最后2个字符。\n",
    "6. 请从字符串的最初开始，截断该字符串，使其长度为11.\n",
    "7. 对该字符串以‘/’进行分割"
   ]
  },
  {
   "cell_type": "code",
   "execution_count": 25,
   "metadata": {},
   "outputs": [
    {
     "name": "stdout",
     "output_type": "stream",
     "text": [
      "33\n",
      "2018我要泡妞/2018年为什么不能结婚/2018欢乐多\n",
      "  2019我要泡妞/2019年为什么不能结婚/2019欢乐多  \n"
     ]
    }
   ],
   "source": [
    "content='  2018我要泡妞/2018年为什么不能结婚/2018欢乐多  '\n",
    "print(len(content))\n",
    "d=content.strip()\n",
    "print(d)\n",
    "print(content.replace('2018','2019'))"
   ]
  },
  {
   "cell_type": "code",
   "execution_count": 35,
   "metadata": {},
   "outputs": [
    {
     "name": "stdout",
     "output_type": "stream",
     "text": [
      "8年为什么\n",
      "var1[0]:  H\n",
      "var2[1:5]:  unoo\n"
     ]
    }
   ],
   "source": [
    "content='  2018我要泡妞/2018年为什么不能结婚/2018欢乐多  '\n",
    "# x=len(content)/2\n",
    "# y=5/2\n",
    "# z=int(x-y)\n",
    "print(content[z:z+5])   #切片中间用冒号："
   ]
  },
  {
   "cell_type": "markdown",
   "metadata": {},
   "source": [
    "## 6. 字典"
   ]
  },
  {
   "cell_type": "markdown",
   "metadata": {},
   "source": [
    "列表这种结构适用于将数值组织到一个结构里面，通过编号进行引用。"
   ]
  },
  {
   "cell_type": "markdown",
   "metadata": {},
   "source": [
    "字典是通过名字来引用值的结构，这种类型的结构称为映射。字典是python里面唯一内建的映射类型。没有特殊的顺序，但是都存储在一个特定的键下，键可以是数值、字符串或者元组。"
   ]
  },
  {
   "cell_type": "markdown",
   "metadata": {},
   "source": [
    "某些情况字典更加适用：\n",
    "+ 表示游戏棋盘的状态，每个键都是由坐标组成的元组\n",
    "+ 存储文件修改时间，用文件名作为键\n",
    "+ 电话薄，姓名作为键。"
   ]
  },
  {
   "cell_type": "markdown",
   "metadata": {},
   "source": [
    "### 6.1 字典的使用"
   ]
  },
  {
   "cell_type": "code",
   "execution_count": 37,
   "metadata": {},
   "outputs": [
    {
     "data": {
      "text/plain": [
       "'124'"
      ]
     },
     "execution_count": 37,
     "metadata": {},
     "output_type": "execute_result"
    }
   ],
   "source": [
    "#列表的形式\n",
    "names = ['Bob','Jim','Jack','White']\n",
    "phones=['123','124','011','120']\n",
    "phones[names.index('Jim')]"
   ]
  },
  {
   "cell_type": "code",
   "execution_count": 36,
   "metadata": {},
   "outputs": [
    {
     "name": "stdout",
     "output_type": "stream",
     "text": [
      "{'Bob': '110', 'Jim': '120', 'Jack': '159', 'White': '119'}\n"
     ]
    }
   ],
   "source": [
    "#字典可以通过下面的方法创建  key键+values值\n",
    "phone={'Bob':'110','Jim':'120','Jack':'159','White':'119'}\n",
    "print(phone)"
   ]
  },
  {
   "cell_type": "markdown",
   "metadata": {},
   "source": [
    "字典由多个键以及对应的值构成的键-值对组成，上例中名字是键，号码是值。"
   ]
  },
  {
   "cell_type": "code",
   "execution_count": null,
   "metadata": {},
   "outputs": [],
   "source": [
    "print(phone.keys())#获取键"
   ]
  },
  {
   "cell_type": "code",
   "execution_count": null,
   "metadata": {},
   "outputs": [],
   "source": [
    "print(phone.values())#获取值"
   ]
  },
  {
   "cell_type": "markdown",
   "metadata": {},
   "source": [
    "也可以通过dict函数，通过其他的映射对的序列建立字典："
   ]
  },
  {
   "cell_type": "code",
   "execution_count": null,
   "metadata": {},
   "outputs": [],
   "source": [
    "items = [('names','Bob'),('age',42)]\n",
    "d=dict(items)\n",
    "print(d)"
   ]
  },
  {
   "cell_type": "code",
   "execution_count": 17,
   "metadata": {},
   "outputs": [
    {
     "data": {
      "text/plain": [
       "[('Bob', '123'), ('Jim', '124'), ('Jack', '011'), ('White', '120')]"
      ]
     },
     "execution_count": 17,
     "metadata": {},
     "output_type": "execute_result"
    }
   ],
   "source": [
    "names = ['Bob','Jim','Jack','White']\n",
    "phones=['123','124','011','120']\n",
    "list(zip(names,phones))   #将对应两个列表的元素凑对打包"
   ]
  },
  {
   "cell_type": "code",
   "execution_count": null,
   "metadata": {},
   "outputs": [],
   "source": [
    "ph_book={}\n",
    "names = ['Bob','Jim','Jack','White']\n",
    "phones=['123','124','011','120']\n",
    "for key,value in zip(names,phones):\n",
    "    ph_book[key]=value\n",
    "print(ph_book)"
   ]
  },
  {
   "cell_type": "code",
   "execution_count": null,
   "metadata": {},
   "outputs": [],
   "source": [
    "p_book ={}\n",
    "names = ['Bob','Jim','Jack','White']\n",
    "phones=['123','124','011','120']\n",
    "address=['45号','47号','12号','38号']\n",
    "label = ['number','adress']\n",
    "for name,ph,addr in zip(names,phones,address):\n",
    "    p_book[name]={}\n",
    "    p_book[name][label[0]]=ph\n",
    "    p_book[name][label[1]]=addr\n",
    "print(p_book)"
   ]
  },
  {
   "cell_type": "markdown",
   "metadata": {},
   "source": [
    "### 6.2 字典的基本操作"
   ]
  },
  {
   "cell_type": "markdown",
   "metadata": {},
   "source": [
    "字典的基本行为和序列类似"
   ]
  },
  {
   "cell_type": "code",
   "execution_count": null,
   "metadata": {},
   "outputs": [],
   "source": [
    "len(ph_book)#字典的长度"
   ]
  },
  {
   "cell_type": "code",
   "execution_count": null,
   "metadata": {},
   "outputs": [],
   "source": [
    "print(ph_book['Jim'])#索引"
   ]
  },
  {
   "cell_type": "code",
   "execution_count": null,
   "metadata": {},
   "outputs": [],
   "source": [
    "ph_book['Jim']='13570988004'#重新赋值\n",
    "ph_book['张又亮']='777777'#没有对应的键也可以赋值\n",
    "print(ph_book)"
   ]
  },
  {
   "cell_type": "code",
   "execution_count": null,
   "metadata": {},
   "outputs": [],
   "source": [
    "del ph_book['Jim']#删除某个键值对\n",
    "print(ph_book)"
   ]
  },
  {
   "cell_type": "code",
   "execution_count": null,
   "metadata": {},
   "outputs": [],
   "source": [
    "print('Bob' in ph_book)#检查字典是否含有某个键,跟列表有所区别"
   ]
  },
  {
   "cell_type": "markdown",
   "metadata": {},
   "source": [
    "**字符串格式化**"
   ]
  },
  {
   "cell_type": "code",
   "execution_count": 22,
   "metadata": {},
   "outputs": [
    {
     "name": "stdout",
     "output_type": "stream",
     "text": [
      "Bob's telephone number is 110\n"
     ]
    }
   ],
   "source": [
    "phone={'Bob': '110', 'Jim': '120', 'Jack': '159', 'White': '119'}\n",
    "s='Bob\\'s telephone number is %(Bob)s'\n",
    "print(s % phone)"
   ]
  },
  {
   "cell_type": "code",
   "execution_count": 23,
   "metadata": {},
   "outputs": [
    {
     "name": "stdout",
     "output_type": "stream",
     "text": [
      "Bob's telephone number is 110\n"
     ]
    }
   ],
   "source": [
    "phone={'Bob': '110', 'Jim': '120', 'Jack': '159', 'White': '119'}\n",
    "a='Bob\\'s telephone number is %s'\n",
    "print(a % phone['Bob'] )"
   ]
  },
  {
   "cell_type": "markdown",
   "metadata": {},
   "source": [
    "### 6.3 字典的方法"
   ]
  },
  {
   "cell_type": "markdown",
   "metadata": {},
   "source": [
    "**(1)clear**"
   ]
  },
  {
   "cell_type": "code",
   "execution_count": 28,
   "metadata": {},
   "outputs": [
    {
     "name": "stdout",
     "output_type": "stream",
     "text": [
      "{}\n"
     ]
    }
   ],
   "source": [
    "phone={'Bob': '110', 'Jim': '120', 'Jack': '159', 'White': '119'}\n",
    "phone.clear()\n",
    "print(phone)"
   ]
  },
  {
   "cell_type": "markdown",
   "metadata": {},
   "source": [
    "**(2)copy**"
   ]
  },
  {
   "cell_type": "markdown",
   "metadata": {},
   "source": [
    "返回一个字典的浅复制"
   ]
  },
  {
   "cell_type": "code",
   "execution_count": null,
   "metadata": {},
   "outputs": [],
   "source": [
    "x=phone#这样直接赋值，就会使这两个变量指向同一个内存\n",
    "x['heige']='123'\n",
    "print(phone)"
   ]
  },
  {
   "cell_type": "code",
   "execution_count": null,
   "metadata": {},
   "outputs": [],
   "source": [
    "x=phone.copy()\n",
    "x['heige']='12345'\n",
    "print(phone)"
   ]
  },
  {
   "cell_type": "markdown",
   "metadata": {},
   "source": [
    "**(3)get**"
   ]
  },
  {
   "cell_type": "markdown",
   "metadata": {},
   "source": [
    "get(key, default=None)返回指定键的值，如果值不在字典中返回default值"
   ]
  },
  {
   "cell_type": "code",
   "execution_count": 26,
   "metadata": {},
   "outputs": [
    {
     "ename": "KeyError",
     "evalue": "'zhang'",
     "output_type": "error",
     "traceback": [
      "\u001b[1;31m---------------------------------------------------------------------------\u001b[0m",
      "\u001b[1;31mKeyError\u001b[0m                                  Traceback (most recent call last)",
      "\u001b[1;32m<ipython-input-26-b11a5848d2a2>\u001b[0m in \u001b[0;36m<module>\u001b[1;34m()\u001b[0m\n\u001b[0;32m      1\u001b[0m \u001b[0mphone\u001b[0m\u001b[1;33m=\u001b[0m\u001b[1;33m{\u001b[0m\u001b[1;34m'Bob'\u001b[0m\u001b[1;33m:\u001b[0m \u001b[1;34m'110'\u001b[0m\u001b[1;33m,\u001b[0m \u001b[1;34m'Jim'\u001b[0m\u001b[1;33m:\u001b[0m \u001b[1;34m'120'\u001b[0m\u001b[1;33m,\u001b[0m \u001b[1;34m'Jack'\u001b[0m\u001b[1;33m:\u001b[0m \u001b[1;34m'159'\u001b[0m\u001b[1;33m,\u001b[0m \u001b[1;34m'White'\u001b[0m\u001b[1;33m:\u001b[0m \u001b[1;34m'119'\u001b[0m\u001b[1;33m}\u001b[0m\u001b[1;33m\u001b[0m\u001b[0m\n\u001b[1;32m----> 2\u001b[1;33m \u001b[0mprint\u001b[0m\u001b[1;33m(\u001b[0m\u001b[0mphone\u001b[0m\u001b[1;33m[\u001b[0m\u001b[1;34m'zhang'\u001b[0m\u001b[1;33m]\u001b[0m\u001b[1;33m)\u001b[0m\u001b[1;33m\u001b[0m\u001b[0m\n\u001b[0m",
      "\u001b[1;31mKeyError\u001b[0m: 'zhang'"
     ]
    }
   ],
   "source": [
    "phone={'Bob': '110', 'Jim': '120', 'Jack': '159', 'White': '119'}\n",
    "print(phone['zhang'])"
   ]
  },
  {
   "cell_type": "code",
   "execution_count": null,
   "metadata": {},
   "outputs": [],
   "source": [
    "print(phone.get('zhang','不存在'))"
   ]
  },
  {
   "cell_type": "markdown",
   "metadata": {},
   "source": [
    "**(4)pop**"
   ]
  },
  {
   "cell_type": "code",
   "execution_count": 27,
   "metadata": {},
   "outputs": [
    {
     "name": "stdout",
     "output_type": "stream",
     "text": [
      "{'Bob': '110', 'Jack': '159', 'White': '119'}\n"
     ]
    }
   ],
   "source": [
    "phone={'Bob': '110', 'Jim': '120', 'Jack': '159', 'White': '119'}\n",
    "phone.pop('Jim')\n",
    "print(phone)"
   ]
  },
  {
   "cell_type": "markdown",
   "metadata": {},
   "source": [
    "**(5)items**"
   ]
  },
  {
   "cell_type": "markdown",
   "metadata": {},
   "source": [
    "以列表返回可遍历的(键, 值) 元组数组"
   ]
  },
  {
   "cell_type": "code",
   "execution_count": 24,
   "metadata": {},
   "outputs": [
    {
     "name": "stdout",
     "output_type": "stream",
     "text": [
      "dict_items([('Bob', '110'), ('Jim', '120'), ('Jack', '159'), ('White', '119')])\n"
     ]
    }
   ],
   "source": [
    "phone={'Bob': '110', 'Jim': '120', 'Jack': '159', 'White': '119'}\n",
    "print(phone.items())"
   ]
  },
  {
   "cell_type": "markdown",
   "metadata": {},
   "source": [
    "**(6)setdefault**"
   ]
  },
  {
   "cell_type": "markdown",
   "metadata": {},
   "source": [
    "和get()类似, 但如果键不存在于字典中，将会添加键并将值设为default"
   ]
  },
  {
   "cell_type": "code",
   "execution_count": 25,
   "metadata": {},
   "outputs": [
    {
     "name": "stdout",
     "output_type": "stream",
     "text": [
      "{'Bob': '110', 'Jim': '120', 'Jack': '159', 'White': '119', 'Zhang': '123456'}\n"
     ]
    }
   ],
   "source": [
    "phone={'Bob': '110', 'Jim': '120', 'Jack': '159', 'White': '119'}\n",
    "phone.setdefault('Zhang','123456')\n",
    "print(phone)"
   ]
  },
  {
   "cell_type": "markdown",
   "metadata": {},
   "source": [
    "**(7)update**"
   ]
  },
  {
   "cell_type": "markdown",
   "metadata": {},
   "source": [
    "利用一个字典更新另一个字典"
   ]
  },
  {
   "cell_type": "code",
   "execution_count": null,
   "metadata": {},
   "outputs": [],
   "source": [
    "phone={'Bob': '110', 'Jim': '120', 'Jack': '159', 'White': '119'}\n",
    "p1={'zhang':'123','yang':'14567'}\n",
    "phone.update(p1)\n",
    "print(phone)"
   ]
  },
  {
   "cell_type": "markdown",
   "metadata": {},
   "source": [
    "### 练习"
   ]
  },
  {
   "cell_type": "markdown",
   "metadata": {},
   "source": [
    "已知字典：ainfo = {‘ab’:’liming’,’ac’:20}, 完成下面的操作\n",
    "1. 使用2个方法，输出的结果：ainfo = {‘ab’:’liming’,’ac’:20,’sex’:’man’,’age’:20}\n",
    "2. 取出键\n",
    "3. 输出值\n",
    "4. 通过2个方法返回键名ab对应的值。\n",
    "5. 通过2个方法删除键名ac对应的值。"
   ]
  },
  {
   "cell_type": "markdown",
   "metadata": {},
   "source": [
    "## 7. 条件语句"
   ]
  },
  {
   "cell_type": "markdown",
   "metadata": {},
   "source": [
    "假如你是王思聪\n",
    "    大喊：‘嫁给我！’\n",
    "假如你是黑哥\n",
    "    大喊: '臭屌丝，滚远点'\n",
    "其他\n",
    "    不要喊！"
   ]
  },
  {
   "cell_type": "markdown",
   "metadata": {},
   "source": [
    "### 7.1 条件判断和if语句"
   ]
  },
  {
   "cell_type": "markdown",
   "metadata": {},
   "source": [
    "if对应的语句，如果满足条件就进行执行，如果不满足，就直接跳过"
   ]
  },
  {
   "cell_type": "code",
   "execution_count": null,
   "metadata": {
    "scrolled": true
   },
   "outputs": [],
   "source": [
    "a=input('输入名字：')\n",
    "if 'ang' in a:\n",
    "    print('名字包含‘ang’')"
   ]
  },
  {
   "cell_type": "markdown",
   "metadata": {},
   "source": [
    "### 7.2 else子句"
   ]
  },
  {
   "cell_type": "markdown",
   "metadata": {},
   "source": [
    "如果if语句没有满足条件，就会继续往下执行。通过else子句增加一种选择。"
   ]
  },
  {
   "cell_type": "code",
   "execution_count": null,
   "metadata": {},
   "outputs": [],
   "source": [
    "a=input('输入名字：')\n",
    "if 'ang' in a:\n",
    "    print('名字包含‘ang’')\n",
    "else:\n",
    "    print('名字不包含‘ang’')"
   ]
  },
  {
   "cell_type": "markdown",
   "metadata": {},
   "source": [
    "### 7.3 elif子句"
   ]
  },
  {
   "cell_type": "markdown",
   "metadata": {},
   "source": [
    "如果需要检查多个条件，就用elif。"
   ]
  },
  {
   "cell_type": "code",
   "execution_count": null,
   "metadata": {},
   "outputs": [],
   "source": [
    "name=input('请输入一个名字:')\n",
    "if name=='王思聪':\n",
    "    print(name,'我要嫁给你！')\n",
    "elif name=='黑哥':\n",
    "    print(name,'臭屌丝，滚远点')\n",
    "else:\n",
    "    print(name,'再瞅瞅')"
   ]
  },
  {
   "cell_type": "markdown",
   "metadata": {},
   "source": [
    "可以通过逻辑运算符和比较运算符，来构建判断条件"
   ]
  },
  {
   "cell_type": "code",
   "execution_count": null,
   "metadata": {},
   "outputs": [],
   "source": [
    "money = float(input('请输入你的年薪：'))\n",
    "if money<10:\n",
    "    print('穷')\n",
    "elif money>=10 and money<20:\n",
    "    print('继续努力')\n",
    "elif money>=20 and money<30:\n",
    "    print('小样，不错')\n",
    "elif money>=30 and money<40:\n",
    "    print('你他妈干嘛的')\n",
    "else:\n",
    "    print('带我飞')"
   ]
  },
  {
   "cell_type": "markdown",
   "metadata": {},
   "source": [
    "### 7.4 嵌套语句"
   ]
  },
  {
   "cell_type": "markdown",
   "metadata": {},
   "source": [
    "if语句里面可以if嵌套语句"
   ]
  },
  {
   "cell_type": "code",
   "execution_count": null,
   "metadata": {},
   "outputs": [],
   "source": [
    "name = input('你叫什么名字：')\n",
    "# lower()是小写转换函数\n",
    "if name.lower().endswith('zhang'):\n",
    "    if name.lower().startswith('mr'):\n",
    "        print('Hello,Mr Zhang')\n",
    "    elif name.lower().startswith('mrs'):\n",
    "        print('Hello,Mrs Zhang')\n",
    "    else:\n",
    "        print('Hello,Zhang')\n",
    "else:\n",
    "    print('Hello,stranger')"
   ]
  },
  {
   "cell_type": "markdown",
   "metadata": {},
   "source": [
    "### 练习"
   ]
  },
  {
   "cell_type": "markdown",
   "metadata": {},
   "source": [
    "+ 1.注册用户信息，填写用户名，两次密码，判断两次密码是否一致，如果一致则打印：您通过测试，如果两次密码不一致，打印：您两次输入的密码不一致\n",
    "+ 2.目前购物车中只有一件商品，商品名称是ball，价格100，如果再次购买，则第二个半价。如果购买其他商品，则提示无货\n",
    "+ 3.登录用户，填写用户名，密码和验证码，验证码有3种方式(1.数字图片，2滑动图片，3文字图片)，数字图片则打印：请输入您的数字验证码，滑动图片则打印把图中拼图滑动到指定位置，文字图片则打印：请输入您的文字验证码#(随机一种)"
   ]
  },
  {
   "cell_type": "markdown",
   "metadata": {},
   "source": [
    "## 8. 循环"
   ]
  },
  {
   "cell_type": "markdown",
   "metadata": {},
   "source": [
    "假设我们想打印1——100的所有数字，可以使用这个本办法来实现：\n",
    "print(1)\n",
    "print(2)\n",
    "...\n",
    "print(100)"
   ]
  },
  {
   "cell_type": "markdown",
   "metadata": {},
   "source": [
    "### 8.1 while循环"
   ]
  },
  {
   "cell_type": "markdown",
   "metadata": {},
   "source": [
    "为了避免以上笨办法，我们可以通过while循环实现："
   ]
  },
  {
   "cell_type": "code",
   "execution_count": null,
   "metadata": {
    "scrolled": true
   },
   "outputs": [],
   "source": [
    "x=1\n",
    "while x<=10:\n",
    "    print(x)\n",
    "    x += 1"
   ]
  },
  {
   "cell_type": "markdown",
   "metadata": {},
   "source": [
    "再考虑一个情况：如果用户不输入名字就不退出，直到输入名字"
   ]
  },
  {
   "cell_type": "code",
   "execution_count": null,
   "metadata": {},
   "outputs": [],
   "source": [
    "name = ''  #相当于false\n",
    "while not name.strip():   #相当于true ; strip是去空格\n",
    "    name = input('请输入你的名字')\n",
    "print('Hello',name)"
   ]
  },
  {
   "cell_type": "markdown",
   "metadata": {},
   "source": [
    "### 8.2 for循环"
   ]
  },
  {
   "cell_type": "markdown",
   "metadata": {},
   "source": [
    "while语句已经非常灵活了，它可以用来在任何条件为真的情况下重复执行一个代码块。一般情况下已经够用了，但是有些时候害的量体裁衣。比如针对一个集合或序列的每个元素执行一个代码块。"
   ]
  },
  {
   "cell_type": "code",
   "execution_count": null,
   "metadata": {},
   "outputs": [],
   "source": [
    "money=[10000,20000,15000,5000]\n",
    "for n in money:\n",
    "    if n<10000:\n",
    "        print(n,'让他滚！')\n",
    "    elif n<15000 and n>=10000:\n",
    "        print(n,'是公务员吗？')\n",
    "    else:\n",
    "        print(n,'可以聊聊')"
   ]
  },
  {
   "cell_type": "code",
   "execution_count": null,
   "metadata": {},
   "outputs": [],
   "source": [
    "for n in range(10):\n",
    "    print(n)"
   ]
  },
  {
   "cell_type": "markdown",
   "metadata": {},
   "source": [
    "判断10以内奇数和偶数"
   ]
  },
  {
   "cell_type": "code",
   "execution_count": null,
   "metadata": {},
   "outputs": [],
   "source": [
    "ou=[]#存偶数的列表\n",
    "ji=[]#存奇数的列表\n",
    "for i in range(1,11):\n",
    "    if i%2==0:\n",
    "        ou.append(i)\n",
    "    else:\n",
    "        ji.append(i)\n",
    "print(ou)\n",
    "print(ji)"
   ]
  },
  {
   "cell_type": "markdown",
   "metadata": {},
   "source": [
    "构建一个简单的字典"
   ]
  },
  {
   "cell_type": "code",
   "execution_count": null,
   "metadata": {},
   "outputs": [],
   "source": [
    "ph_book={}\n",
    "names = ['Bob','Jim','Jack','White']\n",
    "phones=['123','124','011','120']\n",
    "for key,value in zip(names,phones):#zip实现并行迭代\n",
    "    ph_book[key]=value\n",
    "print(ph_book)"
   ]
  },
  {
   "cell_type": "markdown",
   "metadata": {},
   "source": [
    "遍历字典"
   ]
  },
  {
   "cell_type": "code",
   "execution_count": null,
   "metadata": {},
   "outputs": [],
   "source": [
    "for name,tel in ph_book.items():\n",
    "    print(name,tel)"
   ]
  },
  {
   "cell_type": "code",
   "execution_count": null,
   "metadata": {},
   "outputs": [],
   "source": [
    "for n in ph_book:\n",
    "    print(n,ph_book[n])"
   ]
  },
  {
   "cell_type": "markdown",
   "metadata": {},
   "source": [
    "### 8.3 跳出循环"
   ]
  },
  {
   "cell_type": "markdown",
   "metadata": {},
   "source": [
    "一般情况下，循环会执行到条件为假，或者序列的元素结束。但有些时候想要提前结束一个循环。"
   ]
  },
  {
   "cell_type": "markdown",
   "metadata": {},
   "source": [
    "#### 8.3.1 break"
   ]
  },
  {
   "cell_type": "markdown",
   "metadata": {},
   "source": [
    "结束循环可以用break"
   ]
  },
  {
   "cell_type": "markdown",
   "metadata": {},
   "source": [
    "假设需要寻找100以内的最大平方整数，那么程序可以从99往下迭代："
   ]
  },
  {
   "cell_type": "code",
   "execution_count": 5,
   "metadata": {},
   "outputs": [
    {
     "name": "stdout",
     "output_type": "stream",
     "text": [
      "9.0\n"
     ]
    }
   ],
   "source": [
    "from math import sqrt\n",
    "for i in range(99,0,-1):\n",
    "    root = sqrt(i)\n",
    "    if root == int(root):\n",
    "        print(root)\n",
    "        break"
   ]
  },
  {
   "cell_type": "code",
   "execution_count": 4,
   "metadata": {},
   "outputs": [
    {
     "name": "stdout",
     "output_type": "stream",
     "text": [
      "9.0\n"
     ]
    }
   ],
   "source": [
    "#导入模块方法2\n",
    "import math\n",
    "for i in range(99,0,-1):\n",
    "    root = math.sqrt(i)\n",
    "    if root == int(root):\n",
    "        print(root)\n",
    "        break"
   ]
  },
  {
   "cell_type": "code",
   "execution_count": null,
   "metadata": {},
   "outputs": [],
   "source": [
    "a = ['A','B','C']\n",
    "b=[5,6,7]\n",
    "for i in a:\n",
    "    if i=='B':\n",
    "        break\n",
    "    print(i)\n",
    "    for j in b:        \n",
    "        if j>5:\n",
    "            #break\n",
    "            pass\n",
    "        print(j)"
   ]
  },
  {
   "cell_type": "markdown",
   "metadata": {},
   "source": [
    "#### 8.3.2 continue"
   ]
  },
  {
   "cell_type": "markdown",
   "metadata": {},
   "source": [
    "continue比break用的相对来说少一点，continue的作用是，结束当前的迭代，进入下一轮的循环。"
   ]
  },
  {
   "cell_type": "code",
   "execution_count": 8,
   "metadata": {},
   "outputs": [
    {
     "name": "stdout",
     "output_type": "stream",
     "text": [
      "a的s值9\n",
      "a的s值8\n",
      "a的s值7\n",
      "贼牛逼\n",
      "a的s值5\n",
      "a的s值4\n",
      "a的s值3\n",
      "a的s值2\n",
      "a的s值1\n",
      "a的s值0\n"
     ]
    }
   ],
   "source": [
    "a=10\n",
    "while a>0: \n",
    "    a=a-1\n",
    "    if a==6:\n",
    "        print('贼牛逼')\n",
    "        continue\n",
    "    print('a的s值%d'%a)"
   ]
  },
  {
   "cell_type": "markdown",
   "metadata": {},
   "source": [
    "### 练习"
   ]
  },
  {
   "cell_type": "markdown",
   "metadata": {},
   "source": [
    "1.猜字谜游戏：生成一个0-100之间数字，用户尝试猜出来这个数字，程序给出猜测方向(过大，过小)，让用户继续进行猜测，直到用户猜测成功或者0-100之外的数字退出游戏\n",
    "+ a.猜测\n",
    "+ b.随机数\n",
    "+ c.循环\n",
    "1. import random\n",
    "2. print(random.randint(1,3))  #[1,3]    大于等于1且小于等于3之间的整数"
   ]
  },
  {
   "cell_type": "code",
   "execution_count": 39,
   "metadata": {},
   "outputs": [
    {
     "name": "stdout",
     "output_type": "stream",
     "text": [
      "请猜测0-100一个数字：20\n",
      "往下测0-100一个数字：10\n",
      "往下测0-100一个数字：5\n",
      "往下测0-100一个数字：1\n",
      "往上测0-100一个数字：3\n",
      "猜测正确！ 3\n"
     ]
    }
   ],
   "source": [
    "import random\n",
    "a = random.randint(0,100)\n",
    "guess=int(input('请猜测0-100一个数字：'))\n",
    "while True:\n",
    "    if guess>100 or guess<0:\n",
    "        print('不玩了，滚！')\n",
    "        break\n",
    "    if a==guess:\n",
    "        print('猜测正确！',a)\n",
    "        break\n",
    "    elif a>guess:\n",
    "        guess=int(input('往上测0-100一个数字：'))\n",
    "    else:\n",
    "        guess=int(input('往下测0-100一个数字：'))    "
   ]
  },
  {
   "cell_type": "markdown",
   "metadata": {},
   "source": [
    "2.用程序查询出1000之内的水仙花数\n",
    "+ 水仙花数（Narcissistic number）也被称为超完全数字不变数（pluperfect digital invariant, PPDI）、自恋数、自幂数、阿姆斯壮数或阿姆斯特朗数（Armstrong number），水仙花数是指一个 n 位数（n≥3 ），它的每个位上的数字的 n 次幂之和等于它本身（例如：1^3 + 5^3+ 3^3 = 153）\n",
    "+ $abc=a^3+b^3+c^3$"
   ]
  },
  {
   "cell_type": "markdown",
   "metadata": {},
   "source": [
    "3.输入3个边长的值，先判断是否为三角形，如果为三角形，再判断三角形为什么类型(等边、等腰、直角、普通)\n",
    "+ 三角形成立的条件为“任意两边的和大于第三边”且“该两边的差小于第三边”"
   ]
  },
  {
   "cell_type": "markdown",
   "metadata": {},
   "source": [
    "4.输入一个年份，判断该年份为平年还是闰年（能被4整除且不能被100整除的为闰年）"
   ]
  }
 ],
 "metadata": {
  "kernelspec": {
   "display_name": "Python 3",
   "language": "python",
   "name": "python3"
  },
  "language_info": {
   "codemirror_mode": {
    "name": "ipython",
    "version": 3
   },
   "file_extension": ".py",
   "mimetype": "text/x-python",
   "name": "python",
   "nbconvert_exporter": "python",
   "pygments_lexer": "ipython3",
   "version": "3.6.6rc1"
  }
 },
 "nbformat": 4,
 "nbformat_minor": 2
}
