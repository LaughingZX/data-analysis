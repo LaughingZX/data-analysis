{
 "cells": [
  {
   "cell_type": "markdown",
   "metadata": {},
   "source": [
    "# 4. 数据清洗"
   ]
  },
  {
   "cell_type": "markdown",
   "metadata": {},
   "source": [
    "主要介绍缺失值的处理、字符串的处理、重复项和赋值问题等。"
   ]
  },
  {
   "cell_type": "markdown",
   "metadata": {},
   "source": [
    "+ 格式转换\n",
    "+ 缺失值处理\n",
    "+ 异常值处理"
   ]
  },
  {
   "cell_type": "code",
   "execution_count": 2,
   "metadata": {},
   "outputs": [],
   "source": [
    "import pandas as pd\n",
    "import numpy as np"
   ]
  },
  {
   "cell_type": "markdown",
   "metadata": {},
   "source": [
    "##  4.1 处理缺失值"
   ]
  },
  {
   "cell_type": "markdown",
   "metadata": {},
   "source": [
    "缺失数据在大部分数据分析应用里面都很常见。pandas的设计目标之一就是让缺失数据处理起来尽量轻松。主要有如下函数，详细的介绍见[官方文档](http://pandas.pydata.org/pandas-docs/stable/api.html#api-dataframe-missing)"
   ]
  },
  {
   "attachments": {
    "Pandas%E7%9A%84%E7%BC%BA%E5%A4%B1%E5%80%BC%E7%9A%84%E5%A4%84%E7%90%86.png": {
     "image/png": "[encoded data removed]"
    }
   },
   "cell_type": "markdown",
   "metadata": {},
   "source": [
    "![Pandas的缺失值的处理](attachment:Pandas%E7%9A%84%E7%BC%BA%E5%A4%B1%E5%80%BC%E7%9A%84%E5%A4%84%E7%90%86.png)"
   ]
  },
  {
   "cell_type": "markdown",
   "metadata": {},
   "source": [
    "**滤除缺失值**，用dropna函数进行滤除"
   ]
  },
  {
   "cell_type": "code",
   "execution_count": 109,
   "metadata": {},
   "outputs": [],
   "source": [
    "data = {'id':[1001,1002,1003,1004,1005,1006], \n",
    "        'date':pd.date_range('20130102', periods=6),\n",
    "        'city':['Beijing ', np.nan, ' guangzhou ', 'Shenzhen', 'shanghai', 'BEIJING '],\n",
    "        'age':[23,44,54,32,34,32],\n",
    "        'category':['100-A','100-B','110-A','110-C','210-A','130-F'],\n",
    "        'price':[1200,np.nan,2133,5433,np.nan,4432]}\n",
    "df = pd.DataFrame(data,columns =['id','date','city','category','age','price'],index=['one','two','three','four','five','six'])"
   ]
  },
  {
   "cell_type": "code",
   "execution_count": 3,
   "metadata": {
    "scrolled": true
   },
   "outputs": [
    {
     "data": {
      "text/html": [
       "<div>\n",
       "<style scoped>\n",
       "    .dataframe tbody tr th:only-of-type {\n",
       "        vertical-align: middle;\n",
       "    }\n",
       "\n",
       "    .dataframe tbody tr th {\n",
       "        vertical-align: top;\n",
       "    }\n",
       "\n",
       "    .dataframe thead th {\n",
       "        text-align: right;\n",
       "    }\n",
       "</style>\n",
       "<table border=\"1\" class=\"dataframe\">\n",
       "  <thead>\n",
       "    <tr style=\"text-align: right;\">\n",
       "      <th></th>\n",
       "      <th>id</th>\n",
       "      <th>date</th>\n",
       "      <th>city</th>\n",
       "      <th>category</th>\n",
       "      <th>age</th>\n",
       "      <th>price</th>\n",
       "    </tr>\n",
       "  </thead>\n",
       "  <tbody>\n",
       "    <tr>\n",
       "      <th>one</th>\n",
       "      <td>1001</td>\n",
       "      <td>2013-01-02</td>\n",
       "      <td>Beijing</td>\n",
       "      <td>100-A</td>\n",
       "      <td>23</td>\n",
       "      <td>1200.0</td>\n",
       "    </tr>\n",
       "    <tr>\n",
       "      <th>two</th>\n",
       "      <td>1002</td>\n",
       "      <td>2013-01-03</td>\n",
       "      <td>NaN</td>\n",
       "      <td>100-B</td>\n",
       "      <td>44</td>\n",
       "      <td>NaN</td>\n",
       "    </tr>\n",
       "    <tr>\n",
       "      <th>three</th>\n",
       "      <td>1003</td>\n",
       "      <td>2013-01-04</td>\n",
       "      <td>guangzhou</td>\n",
       "      <td>110-A</td>\n",
       "      <td>54</td>\n",
       "      <td>2133.0</td>\n",
       "    </tr>\n",
       "    <tr>\n",
       "      <th>four</th>\n",
       "      <td>1004</td>\n",
       "      <td>2013-01-05</td>\n",
       "      <td>Shenzhen</td>\n",
       "      <td>110-C</td>\n",
       "      <td>32</td>\n",
       "      <td>5433.0</td>\n",
       "    </tr>\n",
       "    <tr>\n",
       "      <th>five</th>\n",
       "      <td>1005</td>\n",
       "      <td>2013-01-06</td>\n",
       "      <td>shanghai</td>\n",
       "      <td>210-A</td>\n",
       "      <td>34</td>\n",
       "      <td>NaN</td>\n",
       "    </tr>\n",
       "    <tr>\n",
       "      <th>six</th>\n",
       "      <td>1006</td>\n",
       "      <td>2013-01-07</td>\n",
       "      <td>BEIJING</td>\n",
       "      <td>130-F</td>\n",
       "      <td>32</td>\n",
       "      <td>4432.0</td>\n",
       "    </tr>\n",
       "  </tbody>\n",
       "</table>\n",
       "</div>"
      ],
      "text/plain": [
       "         id       date         city category  age   price\n",
       "one    1001 2013-01-02     Beijing     100-A   23  1200.0\n",
       "two    1002 2013-01-03          NaN    100-B   44     NaN\n",
       "three  1003 2013-01-04   guangzhou     110-A   54  2133.0\n",
       "four   1004 2013-01-05     Shenzhen    110-C   32  5433.0\n",
       "five   1005 2013-01-06     shanghai    210-A   34     NaN\n",
       "six    1006 2013-01-07     BEIJING     130-F   32  4432.0"
      ]
     },
     "execution_count": 3,
     "metadata": {},
     "output_type": "execute_result"
    }
   ],
   "source": [
    "df"
   ]
  },
  {
   "cell_type": "code",
   "execution_count": 117,
   "metadata": {},
   "outputs": [
    {
     "data": {
      "text/html": [
       "<div>\n",
       "<style scoped>\n",
       "    .dataframe tbody tr th:only-of-type {\n",
       "        vertical-align: middle;\n",
       "    }\n",
       "\n",
       "    .dataframe tbody tr th {\n",
       "        vertical-align: top;\n",
       "    }\n",
       "\n",
       "    .dataframe thead th {\n",
       "        text-align: right;\n",
       "    }\n",
       "</style>\n",
       "<table border=\"1\" class=\"dataframe\">\n",
       "  <thead>\n",
       "    <tr style=\"text-align: right;\">\n",
       "      <th></th>\n",
       "      <th>id</th>\n",
       "      <th>date</th>\n",
       "      <th>city</th>\n",
       "      <th>category</th>\n",
       "      <th>age</th>\n",
       "      <th>price</th>\n",
       "    </tr>\n",
       "  </thead>\n",
       "  <tbody>\n",
       "    <tr>\n",
       "      <th>one</th>\n",
       "      <td>1001.0</td>\n",
       "      <td>2013-01-02</td>\n",
       "      <td>Beijing</td>\n",
       "      <td>100-A</td>\n",
       "      <td>23.0</td>\n",
       "      <td>1200.0</td>\n",
       "    </tr>\n",
       "    <tr>\n",
       "      <th>two</th>\n",
       "      <td>1002.0</td>\n",
       "      <td>2013-01-03</td>\n",
       "      <td>NaN</td>\n",
       "      <td>100-B</td>\n",
       "      <td>44.0</td>\n",
       "      <td>NaN</td>\n",
       "    </tr>\n",
       "    <tr>\n",
       "      <th>three</th>\n",
       "      <td>1003.0</td>\n",
       "      <td>2013-01-04</td>\n",
       "      <td>guangzhou</td>\n",
       "      <td>110-A</td>\n",
       "      <td>54.0</td>\n",
       "      <td>2133.0</td>\n",
       "    </tr>\n",
       "    <tr>\n",
       "      <th>four</th>\n",
       "      <td>1004.0</td>\n",
       "      <td>2013-01-05</td>\n",
       "      <td>Shenzhen</td>\n",
       "      <td>110-C</td>\n",
       "      <td>32.0</td>\n",
       "      <td>5433.0</td>\n",
       "    </tr>\n",
       "    <tr>\n",
       "      <th>five</th>\n",
       "      <td>1005.0</td>\n",
       "      <td>2013-01-06</td>\n",
       "      <td>shanghai</td>\n",
       "      <td>210-A</td>\n",
       "      <td>34.0</td>\n",
       "      <td>NaN</td>\n",
       "    </tr>\n",
       "    <tr>\n",
       "      <th>six</th>\n",
       "      <td>1006.0</td>\n",
       "      <td>2013-01-07</td>\n",
       "      <td>BEIJING</td>\n",
       "      <td>130-F</td>\n",
       "      <td>32.0</td>\n",
       "      <td>4432.0</td>\n",
       "    </tr>\n",
       "    <tr>\n",
       "      <th>severn</th>\n",
       "      <td>NaN</td>\n",
       "      <td>NaT</td>\n",
       "      <td>NaN</td>\n",
       "      <td>NaN</td>\n",
       "      <td>NaN</td>\n",
       "      <td>NaN</td>\n",
       "    </tr>\n",
       "  </tbody>\n",
       "</table>\n",
       "</div>"
      ],
      "text/plain": [
       "            id       date         city category   age   price\n",
       "one     1001.0 2013-01-02     Beijing     100-A  23.0  1200.0\n",
       "two     1002.0 2013-01-03          NaN    100-B  44.0     NaN\n",
       "three   1003.0 2013-01-04   guangzhou     110-A  54.0  2133.0\n",
       "four    1004.0 2013-01-05     Shenzhen    110-C  32.0  5433.0\n",
       "five    1005.0 2013-01-06     shanghai    210-A  34.0     NaN\n",
       "six     1006.0 2013-01-07     BEIJING     130-F  32.0  4432.0\n",
       "severn     NaN        NaT          NaN      NaN   NaN     NaN"
      ]
     },
     "execution_count": 117,
     "metadata": {},
     "output_type": "execute_result"
    }
   ],
   "source": [
    "# index1 = list(df.index)\n",
    "# index1.append('seven')\n",
    "# print(index1)\n",
    "# df1 = pd.DataFrame(df,index=index1)\n",
    "\n",
    "df.loc['severn'] = np.nan #赋值增加一行\n",
    "# #df = df.drop('severn')  #删除行，默认axis=0\n",
    "df"
   ]
  },
  {
   "cell_type": "code",
   "execution_count": 126,
   "metadata": {},
   "outputs": [
    {
     "data": {
      "text/plain": [
       "2"
      ]
     },
     "execution_count": 126,
     "metadata": {},
     "output_type": "execute_result"
    }
   ],
   "source": [
    "index = [1,2]\n",
    "index.append(4)\n",
    "index.pop(1)"
   ]
  },
  {
   "cell_type": "code",
   "execution_count": 13,
   "metadata": {},
   "outputs": [
    {
     "data": {
      "text/html": [
       "<div>\n",
       "<style scoped>\n",
       "    .dataframe tbody tr th:only-of-type {\n",
       "        vertical-align: middle;\n",
       "    }\n",
       "\n",
       "    .dataframe tbody tr th {\n",
       "        vertical-align: top;\n",
       "    }\n",
       "\n",
       "    .dataframe thead th {\n",
       "        text-align: right;\n",
       "    }\n",
       "</style>\n",
       "<table border=\"1\" class=\"dataframe\">\n",
       "  <thead>\n",
       "    <tr style=\"text-align: right;\">\n",
       "      <th></th>\n",
       "      <th>id</th>\n",
       "      <th>date</th>\n",
       "      <th>city</th>\n",
       "      <th>category</th>\n",
       "      <th>age</th>\n",
       "      <th>price</th>\n",
       "    </tr>\n",
       "  </thead>\n",
       "  <tbody>\n",
       "    <tr>\n",
       "      <th>one</th>\n",
       "      <td>1001.0</td>\n",
       "      <td>2013-01-02</td>\n",
       "      <td>Beijing</td>\n",
       "      <td>100-A</td>\n",
       "      <td>23.0</td>\n",
       "      <td>1200.0</td>\n",
       "    </tr>\n",
       "    <tr>\n",
       "      <th>three</th>\n",
       "      <td>1003.0</td>\n",
       "      <td>2013-01-04</td>\n",
       "      <td>guangzhou</td>\n",
       "      <td>110-A</td>\n",
       "      <td>54.0</td>\n",
       "      <td>2133.0</td>\n",
       "    </tr>\n",
       "    <tr>\n",
       "      <th>four</th>\n",
       "      <td>1004.0</td>\n",
       "      <td>2013-01-05</td>\n",
       "      <td>Shenzhen</td>\n",
       "      <td>110-C</td>\n",
       "      <td>32.0</td>\n",
       "      <td>5433.0</td>\n",
       "    </tr>\n",
       "    <tr>\n",
       "      <th>five</th>\n",
       "      <td>1005.0</td>\n",
       "      <td>2013-01-06</td>\n",
       "      <td>shanghai</td>\n",
       "      <td>210-A</td>\n",
       "      <td>34.0</td>\n",
       "      <td>NaN</td>\n",
       "    </tr>\n",
       "    <tr>\n",
       "      <th>six</th>\n",
       "      <td>1006.0</td>\n",
       "      <td>2013-01-07</td>\n",
       "      <td>BEIJING</td>\n",
       "      <td>130-F</td>\n",
       "      <td>32.0</td>\n",
       "      <td>4432.0</td>\n",
       "    </tr>\n",
       "  </tbody>\n",
       "</table>\n",
       "</div>"
      ],
      "text/plain": [
       "           id       date         city category   age   price\n",
       "one    1001.0 2013-01-02     Beijing     100-A  23.0  1200.0\n",
       "three  1003.0 2013-01-04   guangzhou     110-A  54.0  2133.0\n",
       "four   1004.0 2013-01-05     Shenzhen    110-C  32.0  5433.0\n",
       "five   1005.0 2013-01-06     shanghai    210-A  34.0     NaN\n",
       "six    1006.0 2013-01-07     BEIJING     130-F  32.0  4432.0"
      ]
     },
     "execution_count": 13,
     "metadata": {},
     "output_type": "execute_result"
    }
   ],
   "source": [
    "df.dropna(thresh=5) #至少需要5个非空数才删除对应的行"
   ]
  },
  {
   "cell_type": "code",
   "execution_count": 14,
   "metadata": {
    "scrolled": true
   },
   "outputs": [
    {
     "data": {
      "text/html": [
       "<div>\n",
       "<style scoped>\n",
       "    .dataframe tbody tr th:only-of-type {\n",
       "        vertical-align: middle;\n",
       "    }\n",
       "\n",
       "    .dataframe tbody tr th {\n",
       "        vertical-align: top;\n",
       "    }\n",
       "\n",
       "    .dataframe thead th {\n",
       "        text-align: right;\n",
       "    }\n",
       "</style>\n",
       "<table border=\"1\" class=\"dataframe\">\n",
       "  <thead>\n",
       "    <tr style=\"text-align: right;\">\n",
       "      <th></th>\n",
       "      <th>id</th>\n",
       "      <th>date</th>\n",
       "      <th>city</th>\n",
       "      <th>category</th>\n",
       "      <th>age</th>\n",
       "      <th>price</th>\n",
       "    </tr>\n",
       "  </thead>\n",
       "  <tbody>\n",
       "    <tr>\n",
       "      <th>one</th>\n",
       "      <td>1001.0</td>\n",
       "      <td>2013-01-02</td>\n",
       "      <td>Beijing</td>\n",
       "      <td>100-A</td>\n",
       "      <td>23.0</td>\n",
       "      <td>1200.0</td>\n",
       "    </tr>\n",
       "    <tr>\n",
       "      <th>two</th>\n",
       "      <td>1002.0</td>\n",
       "      <td>2013-01-03</td>\n",
       "      <td>NaN</td>\n",
       "      <td>100-B</td>\n",
       "      <td>44.0</td>\n",
       "      <td>NaN</td>\n",
       "    </tr>\n",
       "    <tr>\n",
       "      <th>three</th>\n",
       "      <td>1003.0</td>\n",
       "      <td>2013-01-04</td>\n",
       "      <td>guangzhou</td>\n",
       "      <td>110-A</td>\n",
       "      <td>54.0</td>\n",
       "      <td>2133.0</td>\n",
       "    </tr>\n",
       "    <tr>\n",
       "      <th>four</th>\n",
       "      <td>1004.0</td>\n",
       "      <td>2013-01-05</td>\n",
       "      <td>Shenzhen</td>\n",
       "      <td>110-C</td>\n",
       "      <td>32.0</td>\n",
       "      <td>5433.0</td>\n",
       "    </tr>\n",
       "    <tr>\n",
       "      <th>five</th>\n",
       "      <td>1005.0</td>\n",
       "      <td>2013-01-06</td>\n",
       "      <td>shanghai</td>\n",
       "      <td>210-A</td>\n",
       "      <td>34.0</td>\n",
       "      <td>NaN</td>\n",
       "    </tr>\n",
       "    <tr>\n",
       "      <th>six</th>\n",
       "      <td>1006.0</td>\n",
       "      <td>2013-01-07</td>\n",
       "      <td>BEIJING</td>\n",
       "      <td>130-F</td>\n",
       "      <td>32.0</td>\n",
       "      <td>4432.0</td>\n",
       "    </tr>\n",
       "    <tr>\n",
       "      <th>severn</th>\n",
       "      <td>NaN</td>\n",
       "      <td>NaT</td>\n",
       "      <td>NaN</td>\n",
       "      <td>NaN</td>\n",
       "      <td>NaN</td>\n",
       "      <td>NaN</td>\n",
       "    </tr>\n",
       "  </tbody>\n",
       "</table>\n",
       "</div>"
      ],
      "text/plain": [
       "            id       date         city category   age   price\n",
       "one     1001.0 2013-01-02     Beijing     100-A  23.0  1200.0\n",
       "two     1002.0 2013-01-03          NaN    100-B  44.0     NaN\n",
       "three   1003.0 2013-01-04   guangzhou     110-A  54.0  2133.0\n",
       "four    1004.0 2013-01-05     Shenzhen    110-C  32.0  5433.0\n",
       "five    1005.0 2013-01-06     shanghai    210-A  34.0     NaN\n",
       "six     1006.0 2013-01-07     BEIJING     130-F  32.0  4432.0\n",
       "severn     NaN        NaT          NaN      NaN   NaN     NaN"
      ]
     },
     "execution_count": 14,
     "metadata": {},
     "output_type": "execute_result"
    }
   ],
   "source": [
    "df"
   ]
  },
  {
   "cell_type": "code",
   "execution_count": 15,
   "metadata": {},
   "outputs": [
    {
     "data": {
      "text/html": [
       "<div>\n",
       "<style scoped>\n",
       "    .dataframe tbody tr th:only-of-type {\n",
       "        vertical-align: middle;\n",
       "    }\n",
       "\n",
       "    .dataframe tbody tr th {\n",
       "        vertical-align: top;\n",
       "    }\n",
       "\n",
       "    .dataframe thead th {\n",
       "        text-align: right;\n",
       "    }\n",
       "</style>\n",
       "<table border=\"1\" class=\"dataframe\">\n",
       "  <thead>\n",
       "    <tr style=\"text-align: right;\">\n",
       "      <th></th>\n",
       "      <th>id</th>\n",
       "      <th>date</th>\n",
       "      <th>city</th>\n",
       "      <th>category</th>\n",
       "      <th>age</th>\n",
       "    </tr>\n",
       "  </thead>\n",
       "  <tbody>\n",
       "    <tr>\n",
       "      <th>one</th>\n",
       "      <td>1001.0</td>\n",
       "      <td>2013-01-02</td>\n",
       "      <td>Beijing</td>\n",
       "      <td>100-A</td>\n",
       "      <td>23.0</td>\n",
       "    </tr>\n",
       "    <tr>\n",
       "      <th>two</th>\n",
       "      <td>1002.0</td>\n",
       "      <td>2013-01-03</td>\n",
       "      <td>NaN</td>\n",
       "      <td>100-B</td>\n",
       "      <td>44.0</td>\n",
       "    </tr>\n",
       "    <tr>\n",
       "      <th>three</th>\n",
       "      <td>1003.0</td>\n",
       "      <td>2013-01-04</td>\n",
       "      <td>guangzhou</td>\n",
       "      <td>110-A</td>\n",
       "      <td>54.0</td>\n",
       "    </tr>\n",
       "    <tr>\n",
       "      <th>four</th>\n",
       "      <td>1004.0</td>\n",
       "      <td>2013-01-05</td>\n",
       "      <td>Shenzhen</td>\n",
       "      <td>110-C</td>\n",
       "      <td>32.0</td>\n",
       "    </tr>\n",
       "    <tr>\n",
       "      <th>five</th>\n",
       "      <td>1005.0</td>\n",
       "      <td>2013-01-06</td>\n",
       "      <td>shanghai</td>\n",
       "      <td>210-A</td>\n",
       "      <td>34.0</td>\n",
       "    </tr>\n",
       "    <tr>\n",
       "      <th>six</th>\n",
       "      <td>1006.0</td>\n",
       "      <td>2013-01-07</td>\n",
       "      <td>BEIJING</td>\n",
       "      <td>130-F</td>\n",
       "      <td>32.0</td>\n",
       "    </tr>\n",
       "    <tr>\n",
       "      <th>severn</th>\n",
       "      <td>NaN</td>\n",
       "      <td>NaT</td>\n",
       "      <td>NaN</td>\n",
       "      <td>NaN</td>\n",
       "      <td>NaN</td>\n",
       "    </tr>\n",
       "  </tbody>\n",
       "</table>\n",
       "</div>"
      ],
      "text/plain": [
       "            id       date         city category   age\n",
       "one     1001.0 2013-01-02     Beijing     100-A  23.0\n",
       "two     1002.0 2013-01-03          NaN    100-B  44.0\n",
       "three   1003.0 2013-01-04   guangzhou     110-A  54.0\n",
       "four    1004.0 2013-01-05     Shenzhen    110-C  32.0\n",
       "five    1005.0 2013-01-06     shanghai    210-A  34.0\n",
       "six     1006.0 2013-01-07     BEIJING     130-F  32.0\n",
       "severn     NaN        NaT          NaN      NaN   NaN"
      ]
     },
     "execution_count": 15,
     "metadata": {},
     "output_type": "execute_result"
    }
   ],
   "source": [
    "df.dropna(axis=1,thresh=5) #按行删除，对应行满足非缺失值少于5个就会删除"
   ]
  },
  {
   "cell_type": "code",
   "execution_count": 4,
   "metadata": {},
   "outputs": [
    {
     "data": {
      "text/html": [
       "<div>\n",
       "<style scoped>\n",
       "    .dataframe tbody tr th:only-of-type {\n",
       "        vertical-align: middle;\n",
       "    }\n",
       "\n",
       "    .dataframe tbody tr th {\n",
       "        vertical-align: top;\n",
       "    }\n",
       "\n",
       "    .dataframe thead th {\n",
       "        text-align: right;\n",
       "    }\n",
       "</style>\n",
       "<table border=\"1\" class=\"dataframe\">\n",
       "  <thead>\n",
       "    <tr style=\"text-align: right;\">\n",
       "      <th></th>\n",
       "      <th>id</th>\n",
       "      <th>date</th>\n",
       "      <th>city</th>\n",
       "      <th>category</th>\n",
       "      <th>age</th>\n",
       "      <th>price</th>\n",
       "    </tr>\n",
       "  </thead>\n",
       "  <tbody>\n",
       "    <tr>\n",
       "      <th>one</th>\n",
       "      <td>1001</td>\n",
       "      <td>2013-01-02</td>\n",
       "      <td>Beijing</td>\n",
       "      <td>100-A</td>\n",
       "      <td>23</td>\n",
       "      <td>1200.0</td>\n",
       "    </tr>\n",
       "    <tr>\n",
       "      <th>three</th>\n",
       "      <td>1003</td>\n",
       "      <td>2013-01-04</td>\n",
       "      <td>guangzhou</td>\n",
       "      <td>110-A</td>\n",
       "      <td>54</td>\n",
       "      <td>2133.0</td>\n",
       "    </tr>\n",
       "    <tr>\n",
       "      <th>four</th>\n",
       "      <td>1004</td>\n",
       "      <td>2013-01-05</td>\n",
       "      <td>Shenzhen</td>\n",
       "      <td>110-C</td>\n",
       "      <td>32</td>\n",
       "      <td>5433.0</td>\n",
       "    </tr>\n",
       "    <tr>\n",
       "      <th>six</th>\n",
       "      <td>1006</td>\n",
       "      <td>2013-01-07</td>\n",
       "      <td>BEIJING</td>\n",
       "      <td>130-F</td>\n",
       "      <td>32</td>\n",
       "      <td>4432.0</td>\n",
       "    </tr>\n",
       "  </tbody>\n",
       "</table>\n",
       "</div>"
      ],
      "text/plain": [
       "         id       date         city category  age   price\n",
       "one    1001 2013-01-02     Beijing     100-A   23  1200.0\n",
       "three  1003 2013-01-04   guangzhou     110-A   54  2133.0\n",
       "four   1004 2013-01-05     Shenzhen    110-C   32  5433.0\n",
       "six    1006 2013-01-07     BEIJING     130-F   32  4432.0"
      ]
     },
     "execution_count": 4,
     "metadata": {},
     "output_type": "execute_result"
    }
   ],
   "source": [
    "df.dropna()#滤除任何含有缺失值的行"
   ]
  },
  {
   "cell_type": "code",
   "execution_count": 5,
   "metadata": {
    "scrolled": false
   },
   "outputs": [
    {
     "data": {
      "text/html": [
       "<div>\n",
       "<style scoped>\n",
       "    .dataframe tbody tr th:only-of-type {\n",
       "        vertical-align: middle;\n",
       "    }\n",
       "\n",
       "    .dataframe tbody tr th {\n",
       "        vertical-align: top;\n",
       "    }\n",
       "\n",
       "    .dataframe thead th {\n",
       "        text-align: right;\n",
       "    }\n",
       "</style>\n",
       "<table border=\"1\" class=\"dataframe\">\n",
       "  <thead>\n",
       "    <tr style=\"text-align: right;\">\n",
       "      <th></th>\n",
       "      <th>id</th>\n",
       "      <th>date</th>\n",
       "      <th>category</th>\n",
       "      <th>age</th>\n",
       "    </tr>\n",
       "  </thead>\n",
       "  <tbody>\n",
       "    <tr>\n",
       "      <th>one</th>\n",
       "      <td>1001</td>\n",
       "      <td>2013-01-02</td>\n",
       "      <td>100-A</td>\n",
       "      <td>23</td>\n",
       "    </tr>\n",
       "    <tr>\n",
       "      <th>two</th>\n",
       "      <td>1002</td>\n",
       "      <td>2013-01-03</td>\n",
       "      <td>100-B</td>\n",
       "      <td>44</td>\n",
       "    </tr>\n",
       "    <tr>\n",
       "      <th>three</th>\n",
       "      <td>1003</td>\n",
       "      <td>2013-01-04</td>\n",
       "      <td>110-A</td>\n",
       "      <td>54</td>\n",
       "    </tr>\n",
       "    <tr>\n",
       "      <th>four</th>\n",
       "      <td>1004</td>\n",
       "      <td>2013-01-05</td>\n",
       "      <td>110-C</td>\n",
       "      <td>32</td>\n",
       "    </tr>\n",
       "    <tr>\n",
       "      <th>five</th>\n",
       "      <td>1005</td>\n",
       "      <td>2013-01-06</td>\n",
       "      <td>210-A</td>\n",
       "      <td>34</td>\n",
       "    </tr>\n",
       "    <tr>\n",
       "      <th>six</th>\n",
       "      <td>1006</td>\n",
       "      <td>2013-01-07</td>\n",
       "      <td>130-F</td>\n",
       "      <td>32</td>\n",
       "    </tr>\n",
       "  </tbody>\n",
       "</table>\n",
       "</div>"
      ],
      "text/plain": [
       "         id       date category  age\n",
       "one    1001 2013-01-02    100-A   23\n",
       "two    1002 2013-01-03    100-B   44\n",
       "three  1003 2013-01-04    110-A   54\n",
       "four   1004 2013-01-05    110-C   32\n",
       "five   1005 2013-01-06    210-A   34\n",
       "six    1006 2013-01-07    130-F   32"
      ]
     },
     "execution_count": 5,
     "metadata": {},
     "output_type": "execute_result"
    }
   ],
   "source": [
    "df.dropna(axis=1)#针对列向有nan值的情况"
   ]
  },
  {
   "cell_type": "code",
   "execution_count": 6,
   "metadata": {
    "scrolled": true
   },
   "outputs": [
    {
     "data": {
      "text/html": [
       "<div>\n",
       "<style scoped>\n",
       "    .dataframe tbody tr th:only-of-type {\n",
       "        vertical-align: middle;\n",
       "    }\n",
       "\n",
       "    .dataframe tbody tr th {\n",
       "        vertical-align: top;\n",
       "    }\n",
       "\n",
       "    .dataframe thead th {\n",
       "        text-align: right;\n",
       "    }\n",
       "</style>\n",
       "<table border=\"1\" class=\"dataframe\">\n",
       "  <thead>\n",
       "    <tr style=\"text-align: right;\">\n",
       "      <th></th>\n",
       "      <th>id</th>\n",
       "      <th>date</th>\n",
       "      <th>city</th>\n",
       "      <th>category</th>\n",
       "      <th>age</th>\n",
       "      <th>price</th>\n",
       "    </tr>\n",
       "  </thead>\n",
       "  <tbody>\n",
       "    <tr>\n",
       "      <th>one</th>\n",
       "      <td>1001</td>\n",
       "      <td>2013-01-02</td>\n",
       "      <td>Beijing</td>\n",
       "      <td>100-A</td>\n",
       "      <td>23</td>\n",
       "      <td>1200.0</td>\n",
       "    </tr>\n",
       "    <tr>\n",
       "      <th>two</th>\n",
       "      <td>1002</td>\n",
       "      <td>2013-01-03</td>\n",
       "      <td>NaN</td>\n",
       "      <td>100-B</td>\n",
       "      <td>44</td>\n",
       "      <td>NaN</td>\n",
       "    </tr>\n",
       "    <tr>\n",
       "      <th>three</th>\n",
       "      <td>1003</td>\n",
       "      <td>2013-01-04</td>\n",
       "      <td>guangzhou</td>\n",
       "      <td>110-A</td>\n",
       "      <td>54</td>\n",
       "      <td>2133.0</td>\n",
       "    </tr>\n",
       "    <tr>\n",
       "      <th>four</th>\n",
       "      <td>1004</td>\n",
       "      <td>2013-01-05</td>\n",
       "      <td>Shenzhen</td>\n",
       "      <td>110-C</td>\n",
       "      <td>32</td>\n",
       "      <td>5433.0</td>\n",
       "    </tr>\n",
       "    <tr>\n",
       "      <th>five</th>\n",
       "      <td>1005</td>\n",
       "      <td>2013-01-06</td>\n",
       "      <td>shanghai</td>\n",
       "      <td>210-A</td>\n",
       "      <td>34</td>\n",
       "      <td>NaN</td>\n",
       "    </tr>\n",
       "    <tr>\n",
       "      <th>six</th>\n",
       "      <td>1006</td>\n",
       "      <td>2013-01-07</td>\n",
       "      <td>BEIJING</td>\n",
       "      <td>130-F</td>\n",
       "      <td>32</td>\n",
       "      <td>4432.0</td>\n",
       "    </tr>\n",
       "  </tbody>\n",
       "</table>\n",
       "</div>"
      ],
      "text/plain": [
       "         id       date         city category  age   price\n",
       "one    1001 2013-01-02     Beijing     100-A   23  1200.0\n",
       "two    1002 2013-01-03          NaN    100-B   44     NaN\n",
       "three  1003 2013-01-04   guangzhou     110-A   54  2133.0\n",
       "four   1004 2013-01-05     Shenzhen    110-C   32  5433.0\n",
       "five   1005 2013-01-06     shanghai    210-A   34     NaN\n",
       "six    1006 2013-01-07     BEIJING     130-F   32  4432.0"
      ]
     },
     "execution_count": 6,
     "metadata": {},
     "output_type": "execute_result"
    }
   ],
   "source": [
    "df"
   ]
  },
  {
   "cell_type": "code",
   "execution_count": 7,
   "metadata": {},
   "outputs": [
    {
     "data": {
      "text/html": [
       "<div>\n",
       "<style scoped>\n",
       "    .dataframe tbody tr th:only-of-type {\n",
       "        vertical-align: middle;\n",
       "    }\n",
       "\n",
       "    .dataframe tbody tr th {\n",
       "        vertical-align: top;\n",
       "    }\n",
       "\n",
       "    .dataframe thead th {\n",
       "        text-align: right;\n",
       "    }\n",
       "</style>\n",
       "<table border=\"1\" class=\"dataframe\">\n",
       "  <thead>\n",
       "    <tr style=\"text-align: right;\">\n",
       "      <th></th>\n",
       "      <th>id</th>\n",
       "      <th>date</th>\n",
       "      <th>city</th>\n",
       "      <th>category</th>\n",
       "      <th>age</th>\n",
       "      <th>price</th>\n",
       "    </tr>\n",
       "  </thead>\n",
       "  <tbody>\n",
       "    <tr>\n",
       "      <th>one</th>\n",
       "      <td>1001</td>\n",
       "      <td>2013-01-02</td>\n",
       "      <td>Beijing</td>\n",
       "      <td>100-A</td>\n",
       "      <td>23</td>\n",
       "      <td>1200.0</td>\n",
       "    </tr>\n",
       "    <tr>\n",
       "      <th>two</th>\n",
       "      <td>1002</td>\n",
       "      <td>2013-01-03</td>\n",
       "      <td>NaN</td>\n",
       "      <td>100-B</td>\n",
       "      <td>44</td>\n",
       "      <td>NaN</td>\n",
       "    </tr>\n",
       "    <tr>\n",
       "      <th>three</th>\n",
       "      <td>1003</td>\n",
       "      <td>2013-01-04</td>\n",
       "      <td>guangzhou</td>\n",
       "      <td>110-A</td>\n",
       "      <td>54</td>\n",
       "      <td>2133.0</td>\n",
       "    </tr>\n",
       "    <tr>\n",
       "      <th>four</th>\n",
       "      <td>1004</td>\n",
       "      <td>2013-01-05</td>\n",
       "      <td>Shenzhen</td>\n",
       "      <td>110-C</td>\n",
       "      <td>32</td>\n",
       "      <td>5433.0</td>\n",
       "    </tr>\n",
       "    <tr>\n",
       "      <th>five</th>\n",
       "      <td>1005</td>\n",
       "      <td>2013-01-06</td>\n",
       "      <td>shanghai</td>\n",
       "      <td>210-A</td>\n",
       "      <td>34</td>\n",
       "      <td>NaN</td>\n",
       "    </tr>\n",
       "    <tr>\n",
       "      <th>six</th>\n",
       "      <td>1006</td>\n",
       "      <td>2013-01-07</td>\n",
       "      <td>BEIJING</td>\n",
       "      <td>130-F</td>\n",
       "      <td>32</td>\n",
       "      <td>4432.0</td>\n",
       "    </tr>\n",
       "  </tbody>\n",
       "</table>\n",
       "</div>"
      ],
      "text/plain": [
       "         id       date         city category  age   price\n",
       "one    1001 2013-01-02     Beijing     100-A   23  1200.0\n",
       "two    1002 2013-01-03          NaN    100-B   44     NaN\n",
       "three  1003 2013-01-04   guangzhou     110-A   54  2133.0\n",
       "four   1004 2013-01-05     Shenzhen    110-C   32  5433.0\n",
       "five   1005 2013-01-06     shanghai    210-A   34     NaN\n",
       "six    1006 2013-01-07     BEIJING     130-F   32  4432.0"
      ]
     },
     "execution_count": 7,
     "metadata": {},
     "output_type": "execute_result"
    }
   ],
   "source": [
    "df.dropna(how='all')"
   ]
  },
  {
   "cell_type": "code",
   "execution_count": 9,
   "metadata": {},
   "outputs": [
    {
     "name": "stdout",
     "output_type": "stream",
     "text": [
      "           id       date         city category   age   price\n",
      "one    1001.0 2013-01-02     Beijing     100-A  23.0  1200.0\n",
      "two       NaN        NaT          NaN      NaN   NaN     NaN\n",
      "three  1003.0 2013-01-04   guangzhou     110-A  54.0  2133.0\n",
      "four   1004.0 2013-01-05     Shenzhen    110-C  32.0  5433.0\n",
      "five   1005.0 2013-01-06     shanghai    210-A  34.0     NaN\n",
      "six    1006.0 2013-01-07     BEIJING     130-F  32.0  4432.0\n"
     ]
    },
    {
     "data": {
      "text/html": [
       "<div>\n",
       "<style scoped>\n",
       "    .dataframe tbody tr th:only-of-type {\n",
       "        vertical-align: middle;\n",
       "    }\n",
       "\n",
       "    .dataframe tbody tr th {\n",
       "        vertical-align: top;\n",
       "    }\n",
       "\n",
       "    .dataframe thead th {\n",
       "        text-align: right;\n",
       "    }\n",
       "</style>\n",
       "<table border=\"1\" class=\"dataframe\">\n",
       "  <thead>\n",
       "    <tr style=\"text-align: right;\">\n",
       "      <th></th>\n",
       "      <th>id</th>\n",
       "      <th>date</th>\n",
       "      <th>city</th>\n",
       "      <th>category</th>\n",
       "      <th>age</th>\n",
       "      <th>price</th>\n",
       "    </tr>\n",
       "  </thead>\n",
       "  <tbody>\n",
       "    <tr>\n",
       "      <th>one</th>\n",
       "      <td>1001.0</td>\n",
       "      <td>2013-01-02</td>\n",
       "      <td>Beijing</td>\n",
       "      <td>100-A</td>\n",
       "      <td>23.0</td>\n",
       "      <td>1200.0</td>\n",
       "    </tr>\n",
       "    <tr>\n",
       "      <th>three</th>\n",
       "      <td>1003.0</td>\n",
       "      <td>2013-01-04</td>\n",
       "      <td>guangzhou</td>\n",
       "      <td>110-A</td>\n",
       "      <td>54.0</td>\n",
       "      <td>2133.0</td>\n",
       "    </tr>\n",
       "    <tr>\n",
       "      <th>four</th>\n",
       "      <td>1004.0</td>\n",
       "      <td>2013-01-05</td>\n",
       "      <td>Shenzhen</td>\n",
       "      <td>110-C</td>\n",
       "      <td>32.0</td>\n",
       "      <td>5433.0</td>\n",
       "    </tr>\n",
       "    <tr>\n",
       "      <th>five</th>\n",
       "      <td>1005.0</td>\n",
       "      <td>2013-01-06</td>\n",
       "      <td>shanghai</td>\n",
       "      <td>210-A</td>\n",
       "      <td>34.0</td>\n",
       "      <td>NaN</td>\n",
       "    </tr>\n",
       "    <tr>\n",
       "      <th>six</th>\n",
       "      <td>1006.0</td>\n",
       "      <td>2013-01-07</td>\n",
       "      <td>BEIJING</td>\n",
       "      <td>130-F</td>\n",
       "      <td>32.0</td>\n",
       "      <td>4432.0</td>\n",
       "    </tr>\n",
       "  </tbody>\n",
       "</table>\n",
       "</div>"
      ],
      "text/plain": [
       "           id       date         city category   age   price\n",
       "one    1001.0 2013-01-02     Beijing     100-A  23.0  1200.0\n",
       "three  1003.0 2013-01-04   guangzhou     110-A  54.0  2133.0\n",
       "four   1004.0 2013-01-05     Shenzhen    110-C  32.0  5433.0\n",
       "five   1005.0 2013-01-06     shanghai    210-A  34.0     NaN\n",
       "six    1006.0 2013-01-07     BEIJING     130-F  32.0  4432.0"
      ]
     },
     "execution_count": 9,
     "metadata": {},
     "output_type": "execute_result"
    }
   ],
   "source": [
    "df.iloc[1]=np.nan#将第二行设置全为空\n",
    "print(df)\n",
    "df.dropna(how='all')#how='all'只针对全为空的行；如果加上axis=1，则只针对全为空的列"
   ]
  },
  {
   "cell_type": "markdown",
   "metadata": {},
   "source": [
    "在很多情况下，你可能不想滤除缺失值，而是想通过其他方式填补这些空洞。\n",
    "\n",
    "**填充缺失值**，pandas提供了fillna()函数"
   ]
  },
  {
   "cell_type": "code",
   "execution_count": 22,
   "metadata": {
    "scrolled": false
   },
   "outputs": [
    {
     "data": {
      "text/html": [
       "<div>\n",
       "<style scoped>\n",
       "    .dataframe tbody tr th:only-of-type {\n",
       "        vertical-align: middle;\n",
       "    }\n",
       "\n",
       "    .dataframe tbody tr th {\n",
       "        vertical-align: top;\n",
       "    }\n",
       "\n",
       "    .dataframe thead th {\n",
       "        text-align: right;\n",
       "    }\n",
       "</style>\n",
       "<table border=\"1\" class=\"dataframe\">\n",
       "  <thead>\n",
       "    <tr style=\"text-align: right;\">\n",
       "      <th></th>\n",
       "      <th>id</th>\n",
       "      <th>date</th>\n",
       "      <th>city</th>\n",
       "      <th>category</th>\n",
       "      <th>age</th>\n",
       "      <th>price</th>\n",
       "    </tr>\n",
       "  </thead>\n",
       "  <tbody>\n",
       "    <tr>\n",
       "      <th>one</th>\n",
       "      <td>1001</td>\n",
       "      <td>2013-01-02</td>\n",
       "      <td>Beijing</td>\n",
       "      <td>100-A</td>\n",
       "      <td>23</td>\n",
       "      <td>1200.0</td>\n",
       "    </tr>\n",
       "    <tr>\n",
       "      <th>two</th>\n",
       "      <td>1002</td>\n",
       "      <td>2013-01-03</td>\n",
       "      <td>SH</td>\n",
       "      <td>100-B</td>\n",
       "      <td>44</td>\n",
       "      <td>NaN</td>\n",
       "    </tr>\n",
       "    <tr>\n",
       "      <th>three</th>\n",
       "      <td>1003</td>\n",
       "      <td>2013-01-04</td>\n",
       "      <td>guangzhou</td>\n",
       "      <td>110-A</td>\n",
       "      <td>54</td>\n",
       "      <td>NaN</td>\n",
       "    </tr>\n",
       "    <tr>\n",
       "      <th>four</th>\n",
       "      <td>1004</td>\n",
       "      <td>2013-01-05</td>\n",
       "      <td>Shenzhen</td>\n",
       "      <td>110-C</td>\n",
       "      <td>32</td>\n",
       "      <td>5433.0</td>\n",
       "    </tr>\n",
       "    <tr>\n",
       "      <th>five</th>\n",
       "      <td>1005</td>\n",
       "      <td>2013-01-06</td>\n",
       "      <td>shanghai</td>\n",
       "      <td>210-A</td>\n",
       "      <td>34</td>\n",
       "      <td>NaN</td>\n",
       "    </tr>\n",
       "    <tr>\n",
       "      <th>six</th>\n",
       "      <td>1006</td>\n",
       "      <td>2013-01-07</td>\n",
       "      <td>BEIJING</td>\n",
       "      <td>130-F</td>\n",
       "      <td>32</td>\n",
       "      <td>4432.0</td>\n",
       "    </tr>\n",
       "  </tbody>\n",
       "</table>\n",
       "</div>"
      ],
      "text/plain": [
       "         id       date         city category  age   price\n",
       "one    1001 2013-01-02     Beijing     100-A   23  1200.0\n",
       "two    1002 2013-01-03           SH    100-B   44     NaN\n",
       "three  1003 2013-01-04   guangzhou     110-A   54     NaN\n",
       "four   1004 2013-01-05     Shenzhen    110-C   32  5433.0\n",
       "five   1005 2013-01-06     shanghai    210-A   34     NaN\n",
       "six    1006 2013-01-07     BEIJING     130-F   32  4432.0"
      ]
     },
     "execution_count": 22,
     "metadata": {},
     "output_type": "execute_result"
    }
   ],
   "source": [
    "data = {'id':[1001,1002,1003,1004,1005,1006], \n",
    "        'date':pd.date_range('20130102', periods=6),\n",
    "        'city':['Beijing ', 'SH', ' guangzhou ', 'Shenzhen', 'shanghai', 'BEIJING '],\n",
    "        'age':[23,44,54,32,34,32],\n",
    "        'category':['100-A','100-B','110-A','110-C','210-A','130-F'],\n",
    "        'price':[1200,np.nan,np.nan,5433,np.nan,4432]}\n",
    "df = pd.DataFrame(data,columns =['id','date','city','category','age','price'],index=['one','two','three','four','five','six'])\n",
    "#df.fillna(0)#可以直接进行填充\n",
    "#也可以通过字典进行填充\n",
    "df"
   ]
  },
  {
   "cell_type": "code",
   "execution_count": 23,
   "metadata": {},
   "outputs": [
    {
     "data": {
      "text/plain": [
       "one      1200.0\n",
       "two      1200.0\n",
       "three       NaN\n",
       "four     5433.0\n",
       "five     5433.0\n",
       "six      4432.0\n",
       "Name: price, dtype: float64"
      ]
     },
     "execution_count": 23,
     "metadata": {},
     "output_type": "execute_result"
    }
   ],
   "source": [
    "df['price'].fillna(method='ffill',limit=1) #向上填充，连续性填充只填充一次"
   ]
  },
  {
   "cell_type": "code",
   "execution_count": 24,
   "metadata": {},
   "outputs": [
    {
     "data": {
      "text/html": [
       "<div>\n",
       "<style scoped>\n",
       "    .dataframe tbody tr th:only-of-type {\n",
       "        vertical-align: middle;\n",
       "    }\n",
       "\n",
       "    .dataframe tbody tr th {\n",
       "        vertical-align: top;\n",
       "    }\n",
       "\n",
       "    .dataframe thead th {\n",
       "        text-align: right;\n",
       "    }\n",
       "</style>\n",
       "<table border=\"1\" class=\"dataframe\">\n",
       "  <thead>\n",
       "    <tr style=\"text-align: right;\">\n",
       "      <th></th>\n",
       "      <th>id</th>\n",
       "      <th>date</th>\n",
       "      <th>city</th>\n",
       "      <th>category</th>\n",
       "      <th>age</th>\n",
       "      <th>price</th>\n",
       "    </tr>\n",
       "  </thead>\n",
       "  <tbody>\n",
       "    <tr>\n",
       "      <th>one</th>\n",
       "      <td>1001</td>\n",
       "      <td>2013-01-02</td>\n",
       "      <td>Beijing</td>\n",
       "      <td>100-A</td>\n",
       "      <td>23</td>\n",
       "      <td>1200.0</td>\n",
       "    </tr>\n",
       "    <tr>\n",
       "      <th>two</th>\n",
       "      <td>1002</td>\n",
       "      <td>2013-01-03</td>\n",
       "      <td>SH</td>\n",
       "      <td>100-B</td>\n",
       "      <td>44</td>\n",
       "      <td>19999.0</td>\n",
       "    </tr>\n",
       "    <tr>\n",
       "      <th>three</th>\n",
       "      <td>1003</td>\n",
       "      <td>2013-01-04</td>\n",
       "      <td>guangzhou</td>\n",
       "      <td>110-A</td>\n",
       "      <td>54</td>\n",
       "      <td>19999.0</td>\n",
       "    </tr>\n",
       "    <tr>\n",
       "      <th>four</th>\n",
       "      <td>1004</td>\n",
       "      <td>2013-01-05</td>\n",
       "      <td>Shenzhen</td>\n",
       "      <td>110-C</td>\n",
       "      <td>32</td>\n",
       "      <td>5433.0</td>\n",
       "    </tr>\n",
       "    <tr>\n",
       "      <th>five</th>\n",
       "      <td>1005</td>\n",
       "      <td>2013-01-06</td>\n",
       "      <td>shanghai</td>\n",
       "      <td>210-A</td>\n",
       "      <td>34</td>\n",
       "      <td>19999.0</td>\n",
       "    </tr>\n",
       "    <tr>\n",
       "      <th>six</th>\n",
       "      <td>1006</td>\n",
       "      <td>2013-01-07</td>\n",
       "      <td>BEIJING</td>\n",
       "      <td>130-F</td>\n",
       "      <td>32</td>\n",
       "      <td>4432.0</td>\n",
       "    </tr>\n",
       "  </tbody>\n",
       "</table>\n",
       "</div>"
      ],
      "text/plain": [
       "         id       date         city category  age    price\n",
       "one    1001 2013-01-02     Beijing     100-A   23   1200.0\n",
       "two    1002 2013-01-03           SH    100-B   44  19999.0\n",
       "three  1003 2013-01-04   guangzhou     110-A   54  19999.0\n",
       "four   1004 2013-01-05     Shenzhen    110-C   32   5433.0\n",
       "five   1005 2013-01-06     shanghai    210-A   34  19999.0\n",
       "six    1006 2013-01-07     BEIJING     130-F   32   4432.0"
      ]
     },
     "execution_count": 24,
     "metadata": {},
     "output_type": "execute_result"
    }
   ],
   "source": [
    "df.fillna({'price':19999}) #使用字典进行整列填充"
   ]
  },
  {
   "cell_type": "code",
   "execution_count": 26,
   "metadata": {},
   "outputs": [
    {
     "data": {
      "text/html": [
       "<div>\n",
       "<style scoped>\n",
       "    .dataframe tbody tr th:only-of-type {\n",
       "        vertical-align: middle;\n",
       "    }\n",
       "\n",
       "    .dataframe tbody tr th {\n",
       "        vertical-align: top;\n",
       "    }\n",
       "\n",
       "    .dataframe thead th {\n",
       "        text-align: right;\n",
       "    }\n",
       "</style>\n",
       "<table border=\"1\" class=\"dataframe\">\n",
       "  <thead>\n",
       "    <tr style=\"text-align: right;\">\n",
       "      <th></th>\n",
       "      <th>id</th>\n",
       "      <th>date</th>\n",
       "      <th>city</th>\n",
       "      <th>category</th>\n",
       "      <th>age</th>\n",
       "      <th>price</th>\n",
       "    </tr>\n",
       "  </thead>\n",
       "  <tbody>\n",
       "    <tr>\n",
       "      <th>one</th>\n",
       "      <td>1001</td>\n",
       "      <td>2013-01-02 00:00:00</td>\n",
       "      <td>Beijing</td>\n",
       "      <td>100-A</td>\n",
       "      <td>23</td>\n",
       "      <td>1200</td>\n",
       "    </tr>\n",
       "    <tr>\n",
       "      <th>two</th>\n",
       "      <td>1002</td>\n",
       "      <td>2013-01-03 00:00:00</td>\n",
       "      <td>SH</td>\n",
       "      <td>100-B</td>\n",
       "      <td>44</td>\n",
       "      <td>44</td>\n",
       "    </tr>\n",
       "    <tr>\n",
       "      <th>three</th>\n",
       "      <td>1003</td>\n",
       "      <td>2013-01-04 00:00:00</td>\n",
       "      <td>guangzhou</td>\n",
       "      <td>110-A</td>\n",
       "      <td>54</td>\n",
       "      <td>54</td>\n",
       "    </tr>\n",
       "    <tr>\n",
       "      <th>four</th>\n",
       "      <td>1004</td>\n",
       "      <td>2013-01-05 00:00:00</td>\n",
       "      <td>Shenzhen</td>\n",
       "      <td>110-C</td>\n",
       "      <td>32</td>\n",
       "      <td>5433</td>\n",
       "    </tr>\n",
       "    <tr>\n",
       "      <th>five</th>\n",
       "      <td>1005</td>\n",
       "      <td>2013-01-06 00:00:00</td>\n",
       "      <td>shanghai</td>\n",
       "      <td>210-A</td>\n",
       "      <td>34</td>\n",
       "      <td>34</td>\n",
       "    </tr>\n",
       "    <tr>\n",
       "      <th>six</th>\n",
       "      <td>1006</td>\n",
       "      <td>2013-01-07 00:00:00</td>\n",
       "      <td>BEIJING</td>\n",
       "      <td>130-F</td>\n",
       "      <td>32</td>\n",
       "      <td>4432</td>\n",
       "    </tr>\n",
       "  </tbody>\n",
       "</table>\n",
       "</div>"
      ],
      "text/plain": [
       "         id                 date         city category age price\n",
       "one    1001  2013-01-02 00:00:00     Beijing     100-A  23  1200\n",
       "two    1002  2013-01-03 00:00:00           SH    100-B  44    44\n",
       "three  1003  2013-01-04 00:00:00   guangzhou     110-A  54    54\n",
       "four   1004  2013-01-05 00:00:00     Shenzhen    110-C  32  5433\n",
       "five   1005  2013-01-06 00:00:00     shanghai    210-A  34    34\n",
       "six    1006  2013-01-07 00:00:00     BEIJING     130-F  32  4432"
      ]
     },
     "execution_count": 26,
     "metadata": {},
     "output_type": "execute_result"
    }
   ],
   "source": [
    "df.fillna(axis=1,method='ffill')#按照axis=1向前填充缺失值"
   ]
  },
  {
   "cell_type": "code",
   "execution_count": 20,
   "metadata": {},
   "outputs": [
    {
     "name": "stdout",
     "output_type": "stream",
     "text": [
      "Help on function fillna in module pandas.core.frame:\n",
      "\n",
      "fillna(self, value=None, method=None, axis=None, inplace=False, limit=None, downcast=None, **kwargs)\n",
      "    Fill NA/NaN values using the specified method\n",
      "    \n",
      "    Parameters\n",
      "    ----------\n",
      "    value : scalar, dict, Series, or DataFrame\n",
      "        Value to use to fill holes (e.g. 0), alternately a\n",
      "        dict/Series/DataFrame of values specifying which value to use for\n",
      "        each index (for a Series) or column (for a DataFrame). (values not\n",
      "        in the dict/Series/DataFrame will not be filled). This value cannot\n",
      "        be a list.\n",
      "    method : {'backfill', 'bfill', 'pad', 'ffill', None}, default None\n",
      "        Method to use for filling holes in reindexed Series\n",
      "        pad / ffill: propagate last valid observation forward to next valid\n",
      "        backfill / bfill: use NEXT valid observation to fill gap\n",
      "    axis : {0 or 'index', 1 or 'columns'}\n",
      "    inplace : boolean, default False\n",
      "        If True, fill in place. Note: this will modify any\n",
      "        other views on this object, (e.g. a no-copy slice for a column in a\n",
      "        DataFrame).\n",
      "    limit : int, default None\n",
      "        If method is specified, this is the maximum number of consecutive\n",
      "        NaN values to forward/backward fill. In other words, if there is\n",
      "        a gap with more than this number of consecutive NaNs, it will only\n",
      "        be partially filled. If method is not specified, this is the\n",
      "        maximum number of entries along the entire axis where NaNs will be\n",
      "        filled. Must be greater than 0 if not None.\n",
      "    downcast : dict, default is None\n",
      "        a dict of item->dtype of what to downcast if possible,\n",
      "        or the string 'infer' which will try to downcast to an appropriate\n",
      "        equal type (e.g. float64 to int64 if possible)\n",
      "    \n",
      "    See Also\n",
      "    --------\n",
      "    reindex, asfreq\n",
      "    \n",
      "    Returns\n",
      "    -------\n",
      "    filled : DataFrame\n",
      "    \n",
      "    Examples\n",
      "    --------\n",
      "    >>> df = pd.DataFrame([[np.nan, 2, np.nan, 0],\n",
      "    ...                    [3, 4, np.nan, 1],\n",
      "    ...                    [np.nan, np.nan, np.nan, 5],\n",
      "    ...                    [np.nan, 3, np.nan, 4]],\n",
      "    ...                    columns=list('ABCD'))\n",
      "    >>> df\n",
      "         A    B   C  D\n",
      "    0  NaN  2.0 NaN  0\n",
      "    1  3.0  4.0 NaN  1\n",
      "    2  NaN  NaN NaN  5\n",
      "    3  NaN  3.0 NaN  4\n",
      "    \n",
      "    Replace all NaN elements with 0s.\n",
      "    \n",
      "    >>> df.fillna(0)\n",
      "        A   B   C   D\n",
      "    0   0.0 2.0 0.0 0\n",
      "    1   3.0 4.0 0.0 1\n",
      "    2   0.0 0.0 0.0 5\n",
      "    3   0.0 3.0 0.0 4\n",
      "    \n",
      "    We can also propagate non-null values forward or backward.\n",
      "    \n",
      "    >>> df.fillna(method='ffill')\n",
      "        A   B   C   D\n",
      "    0   NaN 2.0 NaN 0\n",
      "    1   3.0 4.0 NaN 1\n",
      "    2   3.0 4.0 NaN 5\n",
      "    3   3.0 3.0 NaN 4\n",
      "    \n",
      "    Replace all NaN elements in column 'A', 'B', 'C', and 'D', with 0, 1,\n",
      "    2, and 3 respectively.\n",
      "    \n",
      "    >>> values = {'A': 0, 'B': 1, 'C': 2, 'D': 3}\n",
      "    >>> df.fillna(value=values)\n",
      "        A   B   C   D\n",
      "    0   0.0 2.0 2.0 0\n",
      "    1   3.0 4.0 2.0 1\n",
      "    2   0.0 1.0 2.0 5\n",
      "    3   0.0 3.0 2.0 4\n",
      "    \n",
      "    Only replace the first NaN element.\n",
      "    \n",
      "    >>> df.fillna(value=values, limit=1)\n",
      "        A   B   C   D\n",
      "    0   0.0 2.0 2.0 0\n",
      "    1   3.0 4.0 NaN 1\n",
      "    2   NaN 1.0 NaN 5\n",
      "    3   NaN 3.0 NaN 4\n",
      "\n"
     ]
    }
   ],
   "source": [
    "help(pd.DataFrame.fillna)"
   ]
  },
  {
   "cell_type": "code",
   "execution_count": 27,
   "metadata": {},
   "outputs": [
    {
     "data": {
      "text/html": [
       "<div>\n",
       "<style scoped>\n",
       "    .dataframe tbody tr th:only-of-type {\n",
       "        vertical-align: middle;\n",
       "    }\n",
       "\n",
       "    .dataframe tbody tr th {\n",
       "        vertical-align: top;\n",
       "    }\n",
       "\n",
       "    .dataframe thead th {\n",
       "        text-align: right;\n",
       "    }\n",
       "</style>\n",
       "<table border=\"1\" class=\"dataframe\">\n",
       "  <thead>\n",
       "    <tr style=\"text-align: right;\">\n",
       "      <th></th>\n",
       "      <th>id</th>\n",
       "      <th>date</th>\n",
       "      <th>city</th>\n",
       "      <th>category</th>\n",
       "      <th>age</th>\n",
       "      <th>price</th>\n",
       "    </tr>\n",
       "  </thead>\n",
       "  <tbody>\n",
       "    <tr>\n",
       "      <th>one</th>\n",
       "      <td>1001</td>\n",
       "      <td>2013-01-02</td>\n",
       "      <td>Beijing</td>\n",
       "      <td>100-A</td>\n",
       "      <td>23</td>\n",
       "      <td>1200.0</td>\n",
       "    </tr>\n",
       "    <tr>\n",
       "      <th>two</th>\n",
       "      <td>1002</td>\n",
       "      <td>2013-01-03</td>\n",
       "      <td>SH</td>\n",
       "      <td>100-B</td>\n",
       "      <td>44</td>\n",
       "      <td>NaN</td>\n",
       "    </tr>\n",
       "    <tr>\n",
       "      <th>three</th>\n",
       "      <td>1003</td>\n",
       "      <td>2013-01-04</td>\n",
       "      <td>guangzhou</td>\n",
       "      <td>110-A</td>\n",
       "      <td>54</td>\n",
       "      <td>NaN</td>\n",
       "    </tr>\n",
       "    <tr>\n",
       "      <th>four</th>\n",
       "      <td>1004</td>\n",
       "      <td>2013-01-05</td>\n",
       "      <td>Shenzhen</td>\n",
       "      <td>110-C</td>\n",
       "      <td>32</td>\n",
       "      <td>5433.0</td>\n",
       "    </tr>\n",
       "    <tr>\n",
       "      <th>five</th>\n",
       "      <td>1005</td>\n",
       "      <td>2013-01-06</td>\n",
       "      <td>shanghai</td>\n",
       "      <td>210-A</td>\n",
       "      <td>34</td>\n",
       "      <td>NaN</td>\n",
       "    </tr>\n",
       "    <tr>\n",
       "      <th>six</th>\n",
       "      <td>1006</td>\n",
       "      <td>2013-01-07</td>\n",
       "      <td>BEIJING</td>\n",
       "      <td>130-F</td>\n",
       "      <td>32</td>\n",
       "      <td>4432.0</td>\n",
       "    </tr>\n",
       "  </tbody>\n",
       "</table>\n",
       "</div>"
      ],
      "text/plain": [
       "         id       date         city category  age   price\n",
       "one    1001 2013-01-02     Beijing     100-A   23  1200.0\n",
       "two    1002 2013-01-03           SH    100-B   44     NaN\n",
       "three  1003 2013-01-04   guangzhou     110-A   54     NaN\n",
       "four   1004 2013-01-05     Shenzhen    110-C   32  5433.0\n",
       "five   1005 2013-01-06     shanghai    210-A   34     NaN\n",
       "six    1006 2013-01-07     BEIJING     130-F   32  4432.0"
      ]
     },
     "execution_count": 27,
     "metadata": {},
     "output_type": "execute_result"
    }
   ],
   "source": [
    "df"
   ]
  },
  {
   "cell_type": "code",
   "execution_count": 12,
   "metadata": {},
   "outputs": [
    {
     "data": {
      "text/html": [
       "<div>\n",
       "<style scoped>\n",
       "    .dataframe tbody tr th:only-of-type {\n",
       "        vertical-align: middle;\n",
       "    }\n",
       "\n",
       "    .dataframe tbody tr th {\n",
       "        vertical-align: top;\n",
       "    }\n",
       "\n",
       "    .dataframe thead th {\n",
       "        text-align: right;\n",
       "    }\n",
       "</style>\n",
       "<table border=\"1\" class=\"dataframe\">\n",
       "  <thead>\n",
       "    <tr style=\"text-align: right;\">\n",
       "      <th></th>\n",
       "      <th>id</th>\n",
       "      <th>date</th>\n",
       "      <th>city</th>\n",
       "      <th>category</th>\n",
       "      <th>age</th>\n",
       "      <th>price</th>\n",
       "    </tr>\n",
       "  </thead>\n",
       "  <tbody>\n",
       "    <tr>\n",
       "      <th>one</th>\n",
       "      <td>1001</td>\n",
       "      <td>2013-01-02</td>\n",
       "      <td>Beijing</td>\n",
       "      <td>100-A</td>\n",
       "      <td>23</td>\n",
       "      <td>1200.0</td>\n",
       "    </tr>\n",
       "    <tr>\n",
       "      <th>two</th>\n",
       "      <td>1002</td>\n",
       "      <td>2013-01-03</td>\n",
       "      <td>SH</td>\n",
       "      <td>100-B</td>\n",
       "      <td>44</td>\n",
       "      <td>3000.0</td>\n",
       "    </tr>\n",
       "    <tr>\n",
       "      <th>three</th>\n",
       "      <td>1003</td>\n",
       "      <td>2013-01-04</td>\n",
       "      <td>guangzhou</td>\n",
       "      <td>110-A</td>\n",
       "      <td>54</td>\n",
       "      <td>2133.0</td>\n",
       "    </tr>\n",
       "    <tr>\n",
       "      <th>four</th>\n",
       "      <td>1004</td>\n",
       "      <td>2013-01-05</td>\n",
       "      <td>Shenzhen</td>\n",
       "      <td>110-C</td>\n",
       "      <td>32</td>\n",
       "      <td>5433.0</td>\n",
       "    </tr>\n",
       "    <tr>\n",
       "      <th>five</th>\n",
       "      <td>1005</td>\n",
       "      <td>2013-01-06</td>\n",
       "      <td>shanghai</td>\n",
       "      <td>210-A</td>\n",
       "      <td>34</td>\n",
       "      <td>3000.0</td>\n",
       "    </tr>\n",
       "    <tr>\n",
       "      <th>six</th>\n",
       "      <td>1006</td>\n",
       "      <td>2013-01-07</td>\n",
       "      <td>BEIJING</td>\n",
       "      <td>130-F</td>\n",
       "      <td>32</td>\n",
       "      <td>4432.0</td>\n",
       "    </tr>\n",
       "  </tbody>\n",
       "</table>\n",
       "</div>"
      ],
      "text/plain": [
       "         id       date         city category  age   price\n",
       "one    1001 2013-01-02     Beijing     100-A   23  1200.0\n",
       "two    1002 2013-01-03           SH    100-B   44  3000.0\n",
       "three  1003 2013-01-04   guangzhou     110-A   54  2133.0\n",
       "four   1004 2013-01-05     Shenzhen    110-C   32  5433.0\n",
       "five   1005 2013-01-06     shanghai    210-A   34  3000.0\n",
       "six    1006 2013-01-07     BEIJING     130-F   32  4432.0"
      ]
     },
     "execution_count": 12,
     "metadata": {},
     "output_type": "execute_result"
    }
   ],
   "source": [
    "df.fillna({'price':3000.0})\n",
    "df"
   ]
  },
  {
   "cell_type": "code",
   "execution_count": 28,
   "metadata": {
    "scrolled": true
   },
   "outputs": [
    {
     "data": {
      "text/html": [
       "<div>\n",
       "<style scoped>\n",
       "    .dataframe tbody tr th:only-of-type {\n",
       "        vertical-align: middle;\n",
       "    }\n",
       "\n",
       "    .dataframe tbody tr th {\n",
       "        vertical-align: top;\n",
       "    }\n",
       "\n",
       "    .dataframe thead th {\n",
       "        text-align: right;\n",
       "    }\n",
       "</style>\n",
       "<table border=\"1\" class=\"dataframe\">\n",
       "  <thead>\n",
       "    <tr style=\"text-align: right;\">\n",
       "      <th></th>\n",
       "      <th>id</th>\n",
       "      <th>date</th>\n",
       "      <th>city</th>\n",
       "      <th>category</th>\n",
       "      <th>age</th>\n",
       "      <th>price</th>\n",
       "    </tr>\n",
       "  </thead>\n",
       "  <tbody>\n",
       "    <tr>\n",
       "      <th>one</th>\n",
       "      <td>1001</td>\n",
       "      <td>2013-01-02</td>\n",
       "      <td>Beijing</td>\n",
       "      <td>100-A</td>\n",
       "      <td>23</td>\n",
       "      <td>1200.0</td>\n",
       "    </tr>\n",
       "    <tr>\n",
       "      <th>two</th>\n",
       "      <td>1002</td>\n",
       "      <td>2013-01-03</td>\n",
       "      <td>SH</td>\n",
       "      <td>100-B</td>\n",
       "      <td>44</td>\n",
       "      <td>3000.0</td>\n",
       "    </tr>\n",
       "    <tr>\n",
       "      <th>three</th>\n",
       "      <td>1003</td>\n",
       "      <td>2013-01-04</td>\n",
       "      <td>guangzhou</td>\n",
       "      <td>110-A</td>\n",
       "      <td>54</td>\n",
       "      <td>3000.0</td>\n",
       "    </tr>\n",
       "    <tr>\n",
       "      <th>four</th>\n",
       "      <td>1004</td>\n",
       "      <td>2013-01-05</td>\n",
       "      <td>Shenzhen</td>\n",
       "      <td>110-C</td>\n",
       "      <td>32</td>\n",
       "      <td>5433.0</td>\n",
       "    </tr>\n",
       "    <tr>\n",
       "      <th>five</th>\n",
       "      <td>1005</td>\n",
       "      <td>2013-01-06</td>\n",
       "      <td>shanghai</td>\n",
       "      <td>210-A</td>\n",
       "      <td>34</td>\n",
       "      <td>3000.0</td>\n",
       "    </tr>\n",
       "    <tr>\n",
       "      <th>six</th>\n",
       "      <td>1006</td>\n",
       "      <td>2013-01-07</td>\n",
       "      <td>BEIJING</td>\n",
       "      <td>130-F</td>\n",
       "      <td>32</td>\n",
       "      <td>4432.0</td>\n",
       "    </tr>\n",
       "  </tbody>\n",
       "</table>\n",
       "</div>"
      ],
      "text/plain": [
       "         id       date         city category  age   price\n",
       "one    1001 2013-01-02     Beijing     100-A   23  1200.0\n",
       "two    1002 2013-01-03           SH    100-B   44  3000.0\n",
       "three  1003 2013-01-04   guangzhou     110-A   54  3000.0\n",
       "four   1004 2013-01-05     Shenzhen    110-C   32  5433.0\n",
       "five   1005 2013-01-06     shanghai    210-A   34  3000.0\n",
       "six    1006 2013-01-07     BEIJING     130-F   32  4432.0"
      ]
     },
     "execution_count": 28,
     "metadata": {},
     "output_type": "execute_result"
    }
   ],
   "source": [
    "#fillna默认返回新对象，但也可以通过修改参数对现有对象进行就地修改\n",
    "df.fillna({'price':3000.0},inplace=True)#通过设置inplace=Ture，可以保证每次返回的被填充对象的引用\n",
    "df"
   ]
  },
  {
   "cell_type": "code",
   "execution_count": 33,
   "metadata": {},
   "outputs": [
    {
     "data": {
      "text/html": [
       "<div>\n",
       "<style scoped>\n",
       "    .dataframe tbody tr th:only-of-type {\n",
       "        vertical-align: middle;\n",
       "    }\n",
       "\n",
       "    .dataframe tbody tr th {\n",
       "        vertical-align: top;\n",
       "    }\n",
       "\n",
       "    .dataframe thead th {\n",
       "        text-align: right;\n",
       "    }\n",
       "</style>\n",
       "<table border=\"1\" class=\"dataframe\">\n",
       "  <thead>\n",
       "    <tr style=\"text-align: right;\">\n",
       "      <th></th>\n",
       "      <th>id</th>\n",
       "      <th>date</th>\n",
       "      <th>city</th>\n",
       "      <th>category</th>\n",
       "      <th>age</th>\n",
       "      <th>price</th>\n",
       "    </tr>\n",
       "  </thead>\n",
       "  <tbody>\n",
       "    <tr>\n",
       "      <th>one</th>\n",
       "      <td>1001</td>\n",
       "      <td>2013-01-02</td>\n",
       "      <td>Beijing</td>\n",
       "      <td>100-A</td>\n",
       "      <td>23.0</td>\n",
       "      <td>1200.0</td>\n",
       "    </tr>\n",
       "    <tr>\n",
       "      <th>two</th>\n",
       "      <td>1002</td>\n",
       "      <td>2013-01-03</td>\n",
       "      <td>SH</td>\n",
       "      <td>100-B</td>\n",
       "      <td>44.0</td>\n",
       "      <td>3000.0</td>\n",
       "    </tr>\n",
       "    <tr>\n",
       "      <th>three</th>\n",
       "      <td>1003</td>\n",
       "      <td>2013-01-04</td>\n",
       "      <td>guangzhou</td>\n",
       "      <td>110-A</td>\n",
       "      <td>NaN</td>\n",
       "      <td>3000.0</td>\n",
       "    </tr>\n",
       "    <tr>\n",
       "      <th>four</th>\n",
       "      <td>1004</td>\n",
       "      <td>2013-01-05</td>\n",
       "      <td>Shenzhen</td>\n",
       "      <td>110-C</td>\n",
       "      <td>NaN</td>\n",
       "      <td>5433.0</td>\n",
       "    </tr>\n",
       "    <tr>\n",
       "      <th>five</th>\n",
       "      <td>1005</td>\n",
       "      <td>2013-01-06</td>\n",
       "      <td>shanghai</td>\n",
       "      <td>210-A</td>\n",
       "      <td>NaN</td>\n",
       "      <td>NaN</td>\n",
       "    </tr>\n",
       "    <tr>\n",
       "      <th>six</th>\n",
       "      <td>1006</td>\n",
       "      <td>2013-01-07</td>\n",
       "      <td>BEIJING</td>\n",
       "      <td>130-F</td>\n",
       "      <td>20.0</td>\n",
       "      <td>NaN</td>\n",
       "    </tr>\n",
       "  </tbody>\n",
       "</table>\n",
       "</div>"
      ],
      "text/plain": [
       "         id       date         city category   age   price\n",
       "one    1001 2013-01-02     Beijing     100-A  23.0  1200.0\n",
       "two    1002 2013-01-03           SH    100-B  44.0  3000.0\n",
       "three  1003 2013-01-04   guangzhou     110-A   NaN  3000.0\n",
       "four   1004 2013-01-05     Shenzhen    110-C   NaN  5433.0\n",
       "five   1005 2013-01-06     shanghai    210-A   NaN     NaN\n",
       "six    1006 2013-01-07     BEIJING     130-F  20.0     NaN"
      ]
     },
     "execution_count": 33,
     "metadata": {},
     "output_type": "execute_result"
    }
   ],
   "source": [
    "df.iloc[2:,4] = np.nan\n",
    "df.iloc[4:,5] = np.nan\n",
    "df.iloc[5,4]=20\n",
    "df"
   ]
  },
  {
   "cell_type": "code",
   "execution_count": 34,
   "metadata": {},
   "outputs": [
    {
     "data": {
      "text/html": [
       "<div>\n",
       "<style scoped>\n",
       "    .dataframe tbody tr th:only-of-type {\n",
       "        vertical-align: middle;\n",
       "    }\n",
       "\n",
       "    .dataframe tbody tr th {\n",
       "        vertical-align: top;\n",
       "    }\n",
       "\n",
       "    .dataframe thead th {\n",
       "        text-align: right;\n",
       "    }\n",
       "</style>\n",
       "<table border=\"1\" class=\"dataframe\">\n",
       "  <thead>\n",
       "    <tr style=\"text-align: right;\">\n",
       "      <th></th>\n",
       "      <th>id</th>\n",
       "      <th>date</th>\n",
       "      <th>city</th>\n",
       "      <th>category</th>\n",
       "      <th>age</th>\n",
       "      <th>price</th>\n",
       "    </tr>\n",
       "  </thead>\n",
       "  <tbody>\n",
       "    <tr>\n",
       "      <th>one</th>\n",
       "      <td>1001</td>\n",
       "      <td>2013-01-02</td>\n",
       "      <td>Beijing</td>\n",
       "      <td>100-A</td>\n",
       "      <td>23.0</td>\n",
       "      <td>1200.0</td>\n",
       "    </tr>\n",
       "    <tr>\n",
       "      <th>two</th>\n",
       "      <td>1002</td>\n",
       "      <td>2013-01-03</td>\n",
       "      <td>SH</td>\n",
       "      <td>100-B</td>\n",
       "      <td>44.0</td>\n",
       "      <td>3000.0</td>\n",
       "    </tr>\n",
       "    <tr>\n",
       "      <th>three</th>\n",
       "      <td>1003</td>\n",
       "      <td>2013-01-04</td>\n",
       "      <td>guangzhou</td>\n",
       "      <td>110-A</td>\n",
       "      <td>44.0</td>\n",
       "      <td>3000.0</td>\n",
       "    </tr>\n",
       "    <tr>\n",
       "      <th>four</th>\n",
       "      <td>1004</td>\n",
       "      <td>2013-01-05</td>\n",
       "      <td>Shenzhen</td>\n",
       "      <td>110-C</td>\n",
       "      <td>44.0</td>\n",
       "      <td>5433.0</td>\n",
       "    </tr>\n",
       "    <tr>\n",
       "      <th>five</th>\n",
       "      <td>1005</td>\n",
       "      <td>2013-01-06</td>\n",
       "      <td>shanghai</td>\n",
       "      <td>210-A</td>\n",
       "      <td>NaN</td>\n",
       "      <td>5433.0</td>\n",
       "    </tr>\n",
       "    <tr>\n",
       "      <th>six</th>\n",
       "      <td>1006</td>\n",
       "      <td>2013-01-07</td>\n",
       "      <td>BEIJING</td>\n",
       "      <td>130-F</td>\n",
       "      <td>20.0</td>\n",
       "      <td>5433.0</td>\n",
       "    </tr>\n",
       "  </tbody>\n",
       "</table>\n",
       "</div>"
      ],
      "text/plain": [
       "         id       date         city category   age   price\n",
       "one    1001 2013-01-02     Beijing     100-A  23.0  1200.0\n",
       "two    1002 2013-01-03           SH    100-B  44.0  3000.0\n",
       "three  1003 2013-01-04   guangzhou     110-A  44.0  3000.0\n",
       "four   1004 2013-01-05     Shenzhen    110-C  44.0  5433.0\n",
       "five   1005 2013-01-06     shanghai    210-A   NaN  5433.0\n",
       "six    1006 2013-01-07     BEIJING     130-F  20.0  5433.0"
      ]
     },
     "execution_count": 34,
     "metadata": {},
     "output_type": "execute_result"
    }
   ],
   "source": [
    "df.fillna(method='ffill',limit=2)"
   ]
  },
  {
   "cell_type": "code",
   "execution_count": 14,
   "metadata": {
    "scrolled": false
   },
   "outputs": [
    {
     "data": {
      "text/html": [
       "<div>\n",
       "<style scoped>\n",
       "    .dataframe tbody tr th:only-of-type {\n",
       "        vertical-align: middle;\n",
       "    }\n",
       "\n",
       "    .dataframe tbody tr th {\n",
       "        vertical-align: top;\n",
       "    }\n",
       "\n",
       "    .dataframe thead th {\n",
       "        text-align: right;\n",
       "    }\n",
       "</style>\n",
       "<table border=\"1\" class=\"dataframe\">\n",
       "  <thead>\n",
       "    <tr style=\"text-align: right;\">\n",
       "      <th></th>\n",
       "      <th>id</th>\n",
       "      <th>date</th>\n",
       "      <th>city</th>\n",
       "      <th>category</th>\n",
       "      <th>age</th>\n",
       "      <th>price</th>\n",
       "    </tr>\n",
       "  </thead>\n",
       "  <tbody>\n",
       "    <tr>\n",
       "      <th>one</th>\n",
       "      <td>1001</td>\n",
       "      <td>2013-01-02</td>\n",
       "      <td>Beijing</td>\n",
       "      <td>100-A</td>\n",
       "      <td>23.0</td>\n",
       "      <td>1200.0</td>\n",
       "    </tr>\n",
       "    <tr>\n",
       "      <th>two</th>\n",
       "      <td>1002</td>\n",
       "      <td>2013-01-03</td>\n",
       "      <td>SH</td>\n",
       "      <td>100-B</td>\n",
       "      <td>44.0</td>\n",
       "      <td>3000.0</td>\n",
       "    </tr>\n",
       "    <tr>\n",
       "      <th>three</th>\n",
       "      <td>1003</td>\n",
       "      <td>2013-01-04</td>\n",
       "      <td>guangzhou</td>\n",
       "      <td>110-A</td>\n",
       "      <td>NaN</td>\n",
       "      <td>2133.0</td>\n",
       "    </tr>\n",
       "    <tr>\n",
       "      <th>four</th>\n",
       "      <td>1004</td>\n",
       "      <td>2013-01-05</td>\n",
       "      <td>Shenzhen</td>\n",
       "      <td>110-C</td>\n",
       "      <td>NaN</td>\n",
       "      <td>5433.0</td>\n",
       "    </tr>\n",
       "    <tr>\n",
       "      <th>five</th>\n",
       "      <td>1005</td>\n",
       "      <td>2013-01-06</td>\n",
       "      <td>shanghai</td>\n",
       "      <td>210-A</td>\n",
       "      <td>NaN</td>\n",
       "      <td>NaN</td>\n",
       "    </tr>\n",
       "    <tr>\n",
       "      <th>six</th>\n",
       "      <td>1006</td>\n",
       "      <td>2013-01-07</td>\n",
       "      <td>BEIJING</td>\n",
       "      <td>130-F</td>\n",
       "      <td>NaN</td>\n",
       "      <td>NaN</td>\n",
       "    </tr>\n",
       "  </tbody>\n",
       "</table>\n",
       "</div>"
      ],
      "text/plain": [
       "         id       date         city category   age   price\n",
       "one    1001 2013-01-02     Beijing     100-A  23.0  1200.0\n",
       "two    1002 2013-01-03           SH    100-B  44.0  3000.0\n",
       "three  1003 2013-01-04   guangzhou     110-A   NaN  2133.0\n",
       "four   1004 2013-01-05     Shenzhen    110-C   NaN  5433.0\n",
       "five   1005 2013-01-06     shanghai    210-A   NaN     NaN\n",
       "six    1006 2013-01-07     BEIJING     130-F   NaN     NaN"
      ]
     },
     "execution_count": 14,
     "metadata": {},
     "output_type": "execute_result"
    }
   ],
   "source": [
    "df.iloc[2:,4]=np.nan\n",
    "df.iloc[4:,5]=np.nan\n",
    "df"
   ]
  },
  {
   "cell_type": "code",
   "execution_count": 16,
   "metadata": {
    "scrolled": true
   },
   "outputs": [
    {
     "data": {
      "text/html": [
       "<div>\n",
       "<style scoped>\n",
       "    .dataframe tbody tr th:only-of-type {\n",
       "        vertical-align: middle;\n",
       "    }\n",
       "\n",
       "    .dataframe tbody tr th {\n",
       "        vertical-align: top;\n",
       "    }\n",
       "\n",
       "    .dataframe thead th {\n",
       "        text-align: right;\n",
       "    }\n",
       "</style>\n",
       "<table border=\"1\" class=\"dataframe\">\n",
       "  <thead>\n",
       "    <tr style=\"text-align: right;\">\n",
       "      <th></th>\n",
       "      <th>id</th>\n",
       "      <th>date</th>\n",
       "      <th>city</th>\n",
       "      <th>category</th>\n",
       "      <th>age</th>\n",
       "      <th>price</th>\n",
       "    </tr>\n",
       "  </thead>\n",
       "  <tbody>\n",
       "    <tr>\n",
       "      <th>one</th>\n",
       "      <td>1001</td>\n",
       "      <td>2013-01-02</td>\n",
       "      <td>Beijing</td>\n",
       "      <td>100-A</td>\n",
       "      <td>23.0</td>\n",
       "      <td>1200.0</td>\n",
       "    </tr>\n",
       "    <tr>\n",
       "      <th>two</th>\n",
       "      <td>1002</td>\n",
       "      <td>2013-01-03</td>\n",
       "      <td>SH</td>\n",
       "      <td>100-B</td>\n",
       "      <td>44.0</td>\n",
       "      <td>3000.0</td>\n",
       "    </tr>\n",
       "    <tr>\n",
       "      <th>three</th>\n",
       "      <td>1003</td>\n",
       "      <td>2013-01-04</td>\n",
       "      <td>guangzhou</td>\n",
       "      <td>110-A</td>\n",
       "      <td>44.0</td>\n",
       "      <td>2133.0</td>\n",
       "    </tr>\n",
       "    <tr>\n",
       "      <th>four</th>\n",
       "      <td>1004</td>\n",
       "      <td>2013-01-05</td>\n",
       "      <td>Shenzhen</td>\n",
       "      <td>110-C</td>\n",
       "      <td>NaN</td>\n",
       "      <td>5433.0</td>\n",
       "    </tr>\n",
       "    <tr>\n",
       "      <th>five</th>\n",
       "      <td>1005</td>\n",
       "      <td>2013-01-06</td>\n",
       "      <td>shanghai</td>\n",
       "      <td>210-A</td>\n",
       "      <td>NaN</td>\n",
       "      <td>5433.0</td>\n",
       "    </tr>\n",
       "    <tr>\n",
       "      <th>six</th>\n",
       "      <td>1006</td>\n",
       "      <td>2013-01-07</td>\n",
       "      <td>BEIJING</td>\n",
       "      <td>130-F</td>\n",
       "      <td>NaN</td>\n",
       "      <td>NaN</td>\n",
       "    </tr>\n",
       "  </tbody>\n",
       "</table>\n",
       "</div>"
      ],
      "text/plain": [
       "         id       date         city category   age   price\n",
       "one    1001 2013-01-02     Beijing     100-A  23.0  1200.0\n",
       "two    1002 2013-01-03           SH    100-B  44.0  3000.0\n",
       "three  1003 2013-01-04   guangzhou     110-A  44.0  2133.0\n",
       "four   1004 2013-01-05     Shenzhen    110-C   NaN  5433.0\n",
       "five   1005 2013-01-06     shanghai    210-A   NaN  5433.0\n",
       "six    1006 2013-01-07     BEIJING     130-F   NaN     NaN"
      ]
     },
     "execution_count": 16,
     "metadata": {},
     "output_type": "execute_result"
    }
   ],
   "source": [
    "df.fillna(method='ffill',limit=1)"
   ]
  },
  {
   "cell_type": "markdown",
   "metadata": {},
   "source": [
    "也可以通过replace()对缺失值进行处理。"
   ]
  },
  {
   "cell_type": "code",
   "execution_count": 35,
   "metadata": {},
   "outputs": [
    {
     "data": {
      "text/html": [
       "<div>\n",
       "<style scoped>\n",
       "    .dataframe tbody tr th:only-of-type {\n",
       "        vertical-align: middle;\n",
       "    }\n",
       "\n",
       "    .dataframe tbody tr th {\n",
       "        vertical-align: top;\n",
       "    }\n",
       "\n",
       "    .dataframe thead th {\n",
       "        text-align: right;\n",
       "    }\n",
       "</style>\n",
       "<table border=\"1\" class=\"dataframe\">\n",
       "  <thead>\n",
       "    <tr style=\"text-align: right;\">\n",
       "      <th></th>\n",
       "      <th>id</th>\n",
       "      <th>date</th>\n",
       "      <th>city</th>\n",
       "      <th>category</th>\n",
       "      <th>age</th>\n",
       "      <th>price</th>\n",
       "    </tr>\n",
       "  </thead>\n",
       "  <tbody>\n",
       "    <tr>\n",
       "      <th>one</th>\n",
       "      <td>1001</td>\n",
       "      <td>2013-01-02</td>\n",
       "      <td>Beijing</td>\n",
       "      <td>100-A</td>\n",
       "      <td>23.0</td>\n",
       "      <td>1200.0</td>\n",
       "    </tr>\n",
       "    <tr>\n",
       "      <th>two</th>\n",
       "      <td>1002</td>\n",
       "      <td>2013-01-03</td>\n",
       "      <td>SH</td>\n",
       "      <td>100-B</td>\n",
       "      <td>44.0</td>\n",
       "      <td>3000.0</td>\n",
       "    </tr>\n",
       "    <tr>\n",
       "      <th>three</th>\n",
       "      <td>1003</td>\n",
       "      <td>2013-01-04</td>\n",
       "      <td>guangzhou</td>\n",
       "      <td>110-A</td>\n",
       "      <td>NaN</td>\n",
       "      <td>3000.0</td>\n",
       "    </tr>\n",
       "    <tr>\n",
       "      <th>four</th>\n",
       "      <td>1004</td>\n",
       "      <td>2013-01-05</td>\n",
       "      <td>Shenzhen</td>\n",
       "      <td>110-C</td>\n",
       "      <td>NaN</td>\n",
       "      <td>5433.0</td>\n",
       "    </tr>\n",
       "    <tr>\n",
       "      <th>five</th>\n",
       "      <td>1005</td>\n",
       "      <td>2013-01-06</td>\n",
       "      <td>shanghai</td>\n",
       "      <td>210-A</td>\n",
       "      <td>NaN</td>\n",
       "      <td>NaN</td>\n",
       "    </tr>\n",
       "    <tr>\n",
       "      <th>six</th>\n",
       "      <td>1006</td>\n",
       "      <td>2013-01-07</td>\n",
       "      <td>BEIJING</td>\n",
       "      <td>130-F</td>\n",
       "      <td>20.0</td>\n",
       "      <td>NaN</td>\n",
       "    </tr>\n",
       "  </tbody>\n",
       "</table>\n",
       "</div>"
      ],
      "text/plain": [
       "         id       date         city category   age   price\n",
       "one    1001 2013-01-02     Beijing     100-A  23.0  1200.0\n",
       "two    1002 2013-01-03           SH    100-B  44.0  3000.0\n",
       "three  1003 2013-01-04   guangzhou     110-A   NaN  3000.0\n",
       "four   1004 2013-01-05     Shenzhen    110-C   NaN  5433.0\n",
       "five   1005 2013-01-06     shanghai    210-A   NaN     NaN\n",
       "six    1006 2013-01-07     BEIJING     130-F  20.0     NaN"
      ]
     },
     "execution_count": 35,
     "metadata": {},
     "output_type": "execute_result"
    }
   ],
   "source": [
    "df"
   ]
  },
  {
   "cell_type": "code",
   "execution_count": 38,
   "metadata": {},
   "outputs": [
    {
     "data": {
      "text/plain": [
       "one      23.0\n",
       "two      44.0\n",
       "three    20.0\n",
       "four     20.0\n",
       "five     20.0\n",
       "six      20.0\n",
       "Name: age, dtype: float64"
      ]
     },
     "execution_count": 38,
     "metadata": {},
     "output_type": "execute_result"
    }
   ],
   "source": [
    "df['age'].replace(np.nan,20)"
   ]
  },
  {
   "cell_type": "code",
   "execution_count": 39,
   "metadata": {},
   "outputs": [
    {
     "data": {
      "text/html": [
       "<div>\n",
       "<style scoped>\n",
       "    .dataframe tbody tr th:only-of-type {\n",
       "        vertical-align: middle;\n",
       "    }\n",
       "\n",
       "    .dataframe tbody tr th {\n",
       "        vertical-align: top;\n",
       "    }\n",
       "\n",
       "    .dataframe thead th {\n",
       "        text-align: right;\n",
       "    }\n",
       "</style>\n",
       "<table border=\"1\" class=\"dataframe\">\n",
       "  <thead>\n",
       "    <tr style=\"text-align: right;\">\n",
       "      <th></th>\n",
       "      <th>id</th>\n",
       "      <th>date</th>\n",
       "      <th>city</th>\n",
       "      <th>category</th>\n",
       "      <th>age</th>\n",
       "      <th>price</th>\n",
       "    </tr>\n",
       "  </thead>\n",
       "  <tbody>\n",
       "    <tr>\n",
       "      <th>one</th>\n",
       "      <td>1001</td>\n",
       "      <td>2013-01-02</td>\n",
       "      <td>Beijing</td>\n",
       "      <td>100-A</td>\n",
       "      <td>23.0</td>\n",
       "      <td>1200.0</td>\n",
       "    </tr>\n",
       "    <tr>\n",
       "      <th>two</th>\n",
       "      <td>1002</td>\n",
       "      <td>2013-01-03</td>\n",
       "      <td>SH</td>\n",
       "      <td>100-B</td>\n",
       "      <td>44.0</td>\n",
       "      <td>3000.0</td>\n",
       "    </tr>\n",
       "    <tr>\n",
       "      <th>three</th>\n",
       "      <td>1003</td>\n",
       "      <td>2013-01-04</td>\n",
       "      <td>guangzhou</td>\n",
       "      <td>110-A</td>\n",
       "      <td>35.0</td>\n",
       "      <td>3000.0</td>\n",
       "    </tr>\n",
       "    <tr>\n",
       "      <th>four</th>\n",
       "      <td>1004</td>\n",
       "      <td>2013-01-05</td>\n",
       "      <td>Shenzhen</td>\n",
       "      <td>110-C</td>\n",
       "      <td>35.0</td>\n",
       "      <td>5433.0</td>\n",
       "    </tr>\n",
       "    <tr>\n",
       "      <th>five</th>\n",
       "      <td>1005</td>\n",
       "      <td>2013-01-06</td>\n",
       "      <td>shanghai</td>\n",
       "      <td>210-A</td>\n",
       "      <td>35.0</td>\n",
       "      <td>NaN</td>\n",
       "    </tr>\n",
       "    <tr>\n",
       "      <th>six</th>\n",
       "      <td>1006</td>\n",
       "      <td>2013-01-07</td>\n",
       "      <td>BEIJING</td>\n",
       "      <td>130-F</td>\n",
       "      <td>35.0</td>\n",
       "      <td>NaN</td>\n",
       "    </tr>\n",
       "  </tbody>\n",
       "</table>\n",
       "</div>"
      ],
      "text/plain": [
       "         id       date         city category   age   price\n",
       "one    1001 2013-01-02     Beijing     100-A  23.0  1200.0\n",
       "two    1002 2013-01-03           SH    100-B  44.0  3000.0\n",
       "three  1003 2013-01-04   guangzhou     110-A  35.0  3000.0\n",
       "four   1004 2013-01-05     Shenzhen    110-C  35.0  5433.0\n",
       "five   1005 2013-01-06     shanghai    210-A  35.0     NaN\n",
       "six    1006 2013-01-07     BEIJING     130-F  35.0     NaN"
      ]
     },
     "execution_count": 39,
     "metadata": {},
     "output_type": "execute_result"
    }
   ],
   "source": [
    "df['age']=df['age'].replace(np.nan,35)\n",
    "df"
   ]
  },
  {
   "cell_type": "code",
   "execution_count": 41,
   "metadata": {},
   "outputs": [
    {
     "data": {
      "text/html": [
       "<div>\n",
       "<style scoped>\n",
       "    .dataframe tbody tr th:only-of-type {\n",
       "        vertical-align: middle;\n",
       "    }\n",
       "\n",
       "    .dataframe tbody tr th {\n",
       "        vertical-align: top;\n",
       "    }\n",
       "\n",
       "    .dataframe thead th {\n",
       "        text-align: right;\n",
       "    }\n",
       "</style>\n",
       "<table border=\"1\" class=\"dataframe\">\n",
       "  <thead>\n",
       "    <tr style=\"text-align: right;\">\n",
       "      <th></th>\n",
       "      <th>id</th>\n",
       "      <th>date</th>\n",
       "      <th>city</th>\n",
       "      <th>category</th>\n",
       "      <th>age</th>\n",
       "      <th>price</th>\n",
       "    </tr>\n",
       "  </thead>\n",
       "  <tbody>\n",
       "    <tr>\n",
       "      <th>one</th>\n",
       "      <td>1001</td>\n",
       "      <td>2013-01-02</td>\n",
       "      <td>Beijing</td>\n",
       "      <td>100-A</td>\n",
       "      <td>23.0</td>\n",
       "      <td>1200.0</td>\n",
       "    </tr>\n",
       "    <tr>\n",
       "      <th>two</th>\n",
       "      <td>1002</td>\n",
       "      <td>2013-01-03</td>\n",
       "      <td>SH</td>\n",
       "      <td>100-B</td>\n",
       "      <td>44.0</td>\n",
       "      <td>3000.0</td>\n",
       "    </tr>\n",
       "    <tr>\n",
       "      <th>three</th>\n",
       "      <td>1003</td>\n",
       "      <td>2013-01-04</td>\n",
       "      <td>guangzhou</td>\n",
       "      <td>110-A</td>\n",
       "      <td>35.0</td>\n",
       "      <td>3000.0</td>\n",
       "    </tr>\n",
       "    <tr>\n",
       "      <th>four</th>\n",
       "      <td>1004</td>\n",
       "      <td>2013-01-05</td>\n",
       "      <td>Shenzhen</td>\n",
       "      <td>110-C</td>\n",
       "      <td>35.0</td>\n",
       "      <td>5433.0</td>\n",
       "    </tr>\n",
       "    <tr>\n",
       "      <th>five</th>\n",
       "      <td>1005</td>\n",
       "      <td>2013-01-06</td>\n",
       "      <td>shanghai</td>\n",
       "      <td>210-A</td>\n",
       "      <td>35.0</td>\n",
       "      <td>NaN</td>\n",
       "    </tr>\n",
       "    <tr>\n",
       "      <th>six</th>\n",
       "      <td>1006</td>\n",
       "      <td>2013-01-07</td>\n",
       "      <td>BEIJING</td>\n",
       "      <td>130-F</td>\n",
       "      <td>35.0</td>\n",
       "      <td>10000.0</td>\n",
       "    </tr>\n",
       "  </tbody>\n",
       "</table>\n",
       "</div>"
      ],
      "text/plain": [
       "         id       date         city category   age    price\n",
       "one    1001 2013-01-02     Beijing     100-A  23.0   1200.0\n",
       "two    1002 2013-01-03           SH    100-B  44.0   3000.0\n",
       "three  1003 2013-01-04   guangzhou     110-A  35.0   3000.0\n",
       "four   1004 2013-01-05     Shenzhen    110-C  35.0   5433.0\n",
       "five   1005 2013-01-06     shanghai    210-A  35.0      NaN\n",
       "six    1006 2013-01-07     BEIJING     130-F  35.0  10000.0"
      ]
     },
     "execution_count": 41,
     "metadata": {},
     "output_type": "execute_result"
    }
   ],
   "source": [
    "df.loc['six']=df.loc['six'].replace(np.nan,10000)\n",
    "df"
   ]
  },
  {
   "cell_type": "markdown",
   "metadata": {},
   "source": [
    "在这里顺便也扩展一下replace()。"
   ]
  },
  {
   "cell_type": "code",
   "execution_count": 32,
   "metadata": {},
   "outputs": [
    {
     "data": {
      "text/html": [
       "<div>\n",
       "<style scoped>\n",
       "    .dataframe tbody tr th:only-of-type {\n",
       "        vertical-align: middle;\n",
       "    }\n",
       "\n",
       "    .dataframe tbody tr th {\n",
       "        vertical-align: top;\n",
       "    }\n",
       "\n",
       "    .dataframe thead th {\n",
       "        text-align: right;\n",
       "    }\n",
       "</style>\n",
       "<table border=\"1\" class=\"dataframe\">\n",
       "  <thead>\n",
       "    <tr style=\"text-align: right;\">\n",
       "      <th></th>\n",
       "      <th>id</th>\n",
       "      <th>date</th>\n",
       "      <th>city</th>\n",
       "      <th>category</th>\n",
       "      <th>age</th>\n",
       "      <th>price</th>\n",
       "    </tr>\n",
       "  </thead>\n",
       "  <tbody>\n",
       "    <tr>\n",
       "      <th>one</th>\n",
       "      <td>1001</td>\n",
       "      <td>2013-01-02</td>\n",
       "      <td>BEIJING</td>\n",
       "      <td>100-A</td>\n",
       "      <td>23.0</td>\n",
       "      <td>1200.0</td>\n",
       "    </tr>\n",
       "    <tr>\n",
       "      <th>two</th>\n",
       "      <td>1002</td>\n",
       "      <td>2013-01-03</td>\n",
       "      <td>SHANGHAI</td>\n",
       "      <td>100-B</td>\n",
       "      <td>44.0</td>\n",
       "      <td>3000.0</td>\n",
       "    </tr>\n",
       "    <tr>\n",
       "      <th>three</th>\n",
       "      <td>1003</td>\n",
       "      <td>2013-01-04</td>\n",
       "      <td>GUANGZHOU</td>\n",
       "      <td>110-A</td>\n",
       "      <td>20.0</td>\n",
       "      <td>2133.0</td>\n",
       "    </tr>\n",
       "    <tr>\n",
       "      <th>four</th>\n",
       "      <td>1004</td>\n",
       "      <td>2013-01-05</td>\n",
       "      <td>SHENZHEN</td>\n",
       "      <td>110-C</td>\n",
       "      <td>20.0</td>\n",
       "      <td>5433.0</td>\n",
       "    </tr>\n",
       "    <tr>\n",
       "      <th>five</th>\n",
       "      <td>1005</td>\n",
       "      <td>2013-01-06</td>\n",
       "      <td>SHANGHAI</td>\n",
       "      <td>210-A</td>\n",
       "      <td>20.0</td>\n",
       "      <td>NaN</td>\n",
       "    </tr>\n",
       "    <tr>\n",
       "      <th>six</th>\n",
       "      <td>1006</td>\n",
       "      <td>2013-01-07</td>\n",
       "      <td>BEIJING</td>\n",
       "      <td>130-F</td>\n",
       "      <td>20.0</td>\n",
       "      <td>NaN</td>\n",
       "    </tr>\n",
       "  </tbody>\n",
       "</table>\n",
       "</div>"
      ],
      "text/plain": [
       "         id       date         city category   age   price\n",
       "one    1001 2013-01-02     BEIJING     100-A  23.0  1200.0\n",
       "two    1002 2013-01-03     SHANGHAI    100-B  44.0  3000.0\n",
       "three  1003 2013-01-04   GUANGZHOU     110-A  20.0  2133.0\n",
       "four   1004 2013-01-05     SHENZHEN    110-C  20.0  5433.0\n",
       "five   1005 2013-01-06     SHANGHAI    210-A  20.0     NaN\n",
       "six    1006 2013-01-07     BEIJING     130-F  20.0     NaN"
      ]
     },
     "execution_count": 32,
     "metadata": {},
     "output_type": "execute_result"
    }
   ],
   "source": [
    "df['city']=df['city'].replace('SH','Shanghai')\n",
    "df['city']=df['city'].str.upper()\n",
    "df"
   ]
  },
  {
   "cell_type": "markdown",
   "metadata": {},
   "source": [
    "## 4.2 字符串处理"
   ]
  },
  {
   "cell_type": "markdown",
   "metadata": {},
   "source": [
    "Series包含专门的字符串的处理函数，详情见[官方文档](http://pandas.pydata.org/pandas-docs/stable/api.html#string-handling)。"
   ]
  },
  {
   "cell_type": "markdown",
   "metadata": {},
   "source": [
    "pandas也包含了很多字符串的处理方法，我们主要介绍比较常用的：\n",
    "+ contains\n",
    "+ strip\n",
    "+ split\n",
    "+ lower和upper、title\n",
    "+ join\n",
    "+ slice  切片"
   ]
  },
  {
   "cell_type": "code",
   "execution_count": 24,
   "metadata": {},
   "outputs": [
    {
     "data": {
      "text/html": [
       "<div>\n",
       "<style scoped>\n",
       "    .dataframe tbody tr th:only-of-type {\n",
       "        vertical-align: middle;\n",
       "    }\n",
       "\n",
       "    .dataframe tbody tr th {\n",
       "        vertical-align: top;\n",
       "    }\n",
       "\n",
       "    .dataframe thead th {\n",
       "        text-align: right;\n",
       "    }\n",
       "</style>\n",
       "<table border=\"1\" class=\"dataframe\">\n",
       "  <thead>\n",
       "    <tr style=\"text-align: right;\">\n",
       "      <th></th>\n",
       "      <th>id</th>\n",
       "      <th>date</th>\n",
       "      <th>city</th>\n",
       "      <th>category</th>\n",
       "      <th>age</th>\n",
       "      <th>price</th>\n",
       "    </tr>\n",
       "  </thead>\n",
       "  <tbody>\n",
       "    <tr>\n",
       "      <th>one</th>\n",
       "      <td>1001</td>\n",
       "      <td>2013-01-02</td>\n",
       "      <td>BEIJING</td>\n",
       "      <td>100-A</td>\n",
       "      <td>23</td>\n",
       "      <td>1200.0</td>\n",
       "    </tr>\n",
       "    <tr>\n",
       "      <th>two</th>\n",
       "      <td>1002</td>\n",
       "      <td>2013-01-03</td>\n",
       "      <td>SHANGHAI</td>\n",
       "      <td>100-B</td>\n",
       "      <td>44</td>\n",
       "      <td>3000.0</td>\n",
       "    </tr>\n",
       "    <tr>\n",
       "      <th>three</th>\n",
       "      <td>1003</td>\n",
       "      <td>2013-01-04</td>\n",
       "      <td>GUANGZHOU</td>\n",
       "      <td>110-A</td>\n",
       "      <td>54</td>\n",
       "      <td>2133.0</td>\n",
       "    </tr>\n",
       "    <tr>\n",
       "      <th>four</th>\n",
       "      <td>1004</td>\n",
       "      <td>2013-01-05</td>\n",
       "      <td>SHENZHEN</td>\n",
       "      <td>110-C</td>\n",
       "      <td>32</td>\n",
       "      <td>5433.0</td>\n",
       "    </tr>\n",
       "    <tr>\n",
       "      <th>five</th>\n",
       "      <td>1005</td>\n",
       "      <td>2013-01-06</td>\n",
       "      <td>SHANGHAI</td>\n",
       "      <td>210-A</td>\n",
       "      <td>34</td>\n",
       "      <td>3000.0</td>\n",
       "    </tr>\n",
       "    <tr>\n",
       "      <th>six</th>\n",
       "      <td>1006</td>\n",
       "      <td>2013-01-07</td>\n",
       "      <td>BEIJING</td>\n",
       "      <td>130-F</td>\n",
       "      <td>32</td>\n",
       "      <td>4432.0</td>\n",
       "    </tr>\n",
       "  </tbody>\n",
       "</table>\n",
       "</div>"
      ],
      "text/plain": [
       "         id       date       city category  age   price\n",
       "one    1001 2013-01-02    BEIJING    100-A   23  1200.0\n",
       "two    1002 2013-01-03   SHANGHAI    100-B   44  3000.0\n",
       "three  1003 2013-01-04  GUANGZHOU    110-A   54  2133.0\n",
       "four   1004 2013-01-05   SHENZHEN    110-C   32  5433.0\n",
       "five   1005 2013-01-06   SHANGHAI    210-A   34  3000.0\n",
       "six    1006 2013-01-07    BEIJING    130-F   32  4432.0"
      ]
     },
     "execution_count": 24,
     "metadata": {},
     "output_type": "execute_result"
    }
   ],
   "source": [
    "df['city'] = df['city'].replace('SH','Shanghai')\n",
    "df['city'] = df['city'].str.strip().str.upper()\n",
    "df"
   ]
  },
  {
   "cell_type": "code",
   "execution_count": 43,
   "metadata": {},
   "outputs": [
    {
     "data": {
      "text/plain": [
       "0       A\n",
       "1       B\n",
       "2       C\n",
       "3    Aaba\n",
       "4    Baca\n",
       "5     NaN\n",
       "6    CABA\n",
       "7     dog\n",
       "8     cat\n",
       "dtype: object"
      ]
     },
     "execution_count": 43,
     "metadata": {},
     "output_type": "execute_result"
    }
   ],
   "source": [
    "s = pd.Series(['A', 'B', 'C', 'Aaba', 'Baca', np.nan, 'CABA', 'dog', 'cat'])\n",
    "s"
   ]
  },
  {
   "cell_type": "code",
   "execution_count": 35,
   "metadata": {},
   "outputs": [
    {
     "data": {
      "text/plain": [
       "0       a\n",
       "1       b\n",
       "2       c\n",
       "3    aaba\n",
       "4    baca\n",
       "5     NaN\n",
       "6    caba\n",
       "7     dog\n",
       "8     cat\n",
       "dtype: object"
      ]
     },
     "execution_count": 35,
     "metadata": {},
     "output_type": "execute_result"
    }
   ],
   "source": [
    "s=s.str.lower()\n",
    "s"
   ]
  },
  {
   "cell_type": "code",
   "execution_count": 23,
   "metadata": {},
   "outputs": [
    {
     "data": {
      "text/plain": [
       "0       a\n",
       "1       b\n",
       "2       c\n",
       "3    aaba\n",
       "4    baca\n",
       "5     NaN\n",
       "6    caba\n",
       "7     dog\n",
       "8     cat\n",
       "dtype: object"
      ]
     },
     "execution_count": 23,
     "metadata": {},
     "output_type": "execute_result"
    }
   ],
   "source": [
    "s=s.str.lower()#全部转化为小写\n",
    "s"
   ]
  },
  {
   "cell_type": "code",
   "execution_count": 24,
   "metadata": {
    "scrolled": true
   },
   "outputs": [
    {
     "data": {
      "text/plain": [
       "0       A\n",
       "1       B\n",
       "2       C\n",
       "3    AABA\n",
       "4    BACA\n",
       "5     NaN\n",
       "6    CABA\n",
       "7     DOG\n",
       "8     CAT\n",
       "dtype: object"
      ]
     },
     "execution_count": 24,
     "metadata": {},
     "output_type": "execute_result"
    }
   ],
   "source": [
    "s.str.upper()#全部转化为大写"
   ]
  },
  {
   "cell_type": "code",
   "execution_count": 44,
   "metadata": {},
   "outputs": [
    {
     "data": {
      "text/plain": [
       "0       A\n",
       "1       B\n",
       "2       C\n",
       "3    Aaba\n",
       "4    Baca\n",
       "5     NaN\n",
       "6    CABA\n",
       "7     dog\n",
       "8     cat\n",
       "dtype: object"
      ]
     },
     "execution_count": 44,
     "metadata": {},
     "output_type": "execute_result"
    }
   ],
   "source": [
    "s"
   ]
  },
  {
   "cell_type": "code",
   "execution_count": 36,
   "metadata": {},
   "outputs": [
    {
     "data": {
      "text/plain": [
       "0    1.0\n",
       "1    1.0\n",
       "2    1.0\n",
       "3    4.0\n",
       "4    4.0\n",
       "5    NaN\n",
       "6    4.0\n",
       "7    3.0\n",
       "8    3.0\n",
       "dtype: float64"
      ]
     },
     "execution_count": 36,
     "metadata": {},
     "output_type": "execute_result"
    }
   ],
   "source": [
    "s.str.len()"
   ]
  },
  {
   "cell_type": "code",
   "execution_count": 25,
   "metadata": {},
   "outputs": [
    {
     "name": "stdout",
     "output_type": "stream",
     "text": [
      "9\n"
     ]
    },
    {
     "data": {
      "text/plain": [
       "0    1.0\n",
       "1    1.0\n",
       "2    1.0\n",
       "3    4.0\n",
       "4    4.0\n",
       "5    NaN\n",
       "6    4.0\n",
       "7    3.0\n",
       "8    3.0\n",
       "dtype: float64"
      ]
     },
     "execution_count": 25,
     "metadata": {},
     "output_type": "execute_result"
    }
   ],
   "source": [
    "print(len(s))\n",
    "s.str.len()#每个元素字符串的长度"
   ]
  },
  {
   "cell_type": "code",
   "execution_count": 107,
   "metadata": {},
   "outputs": [
    {
     "name": "stdout",
     "output_type": "stream",
     "text": [
      "Help on function drop_duplicates in module pandas.core.frame:\n",
      "\n",
      "drop_duplicates(self, subset=None, keep='first', inplace=False)\n",
      "    Return DataFrame with duplicate rows removed, optionally only\n",
      "    considering certain columns\n",
      "    \n",
      "    Parameters\n",
      "    ----------\n",
      "    subset : column label or sequence of labels, optional\n",
      "        Only consider certain columns for identifying duplicates, by\n",
      "        default use all of the columns\n",
      "    keep : {'first', 'last', False}, default 'first'\n",
      "        - ``first`` : Drop duplicates except for the first occurrence.\n",
      "        - ``last`` : Drop duplicates except for the last occurrence.\n",
      "        - False : Drop all duplicates.\n",
      "    inplace : boolean, default False\n",
      "        Whether to drop duplicates in place or to return a copy\n",
      "    \n",
      "    Returns\n",
      "    -------\n",
      "    deduplicated : DataFrame\n",
      "\n"
     ]
    }
   ],
   "source": [
    "help(pd.DataFrame.drop_duplicates)"
   ]
  },
  {
   "cell_type": "code",
   "execution_count": 48,
   "metadata": {},
   "outputs": [
    {
     "name": "stdout",
     "output_type": "stream",
     "text": [
      "Index([' jack', 'jill ', ' jesse ', 'frank'], dtype='object')\n",
      "Index(['jack', 'jill', 'jesse', 'frank'], dtype='object')\n"
     ]
    }
   ],
   "source": [
    "idx = pd.Index([' jack', 'jill ', ' jesse ', 'frank'])\n",
    "print(idx)\n",
    "idx = idx.str.strip()  #去除空白字符\n",
    "print(idx)"
   ]
  },
  {
   "cell_type": "code",
   "execution_count": 52,
   "metadata": {},
   "outputs": [
    {
     "name": "stdout",
     "output_type": "stream",
     "text": [
      "    Column A    Column B \n",
      "0    0.236580   -0.526107\n",
      "1    0.678764    0.814039\n",
      "2   -2.062617   -0.870511\n",
      "   Column_A  Column_B\n",
      "0  0.236580 -0.526107\n",
      "1  0.678764  0.814039\n",
      "2 -2.062617 -0.870511\n"
     ]
    }
   ],
   "source": [
    "df = pd.DataFrame(np.random.randn(3, 2), columns=[' Column A ', ' Column B '],index=range(3))\n",
    "print(df)\n",
    "df.columns = df.columns.str.strip().str.replace(' ','_')#对列名称去除空白符，并且用‘-’代替字之间的‘ ’\n",
    "print(df)"
   ]
  },
  {
   "cell_type": "code",
   "execution_count": 57,
   "metadata": {},
   "outputs": [
    {
     "name": "stdout",
     "output_type": "stream",
     "text": [
      "0     [ a, b_c]\n",
      "1    [ c, d_e ]\n",
      "2           NaN\n",
      "3     [ f, g_h]\n",
      "4          [aa]\n",
      "dtype: object\n"
     ]
    },
    {
     "data": {
      "text/plain": [
       "0      a_b_c\n",
       "1     c_d_e \n",
       "2        NaN\n",
       "3      f_g_h\n",
       "4         aa\n",
       "dtype: object"
      ]
     },
     "execution_count": 57,
     "metadata": {},
     "output_type": "execute_result"
    }
   ],
   "source": [
    "s2 = pd.Series([' a_b_c', ' c_d_e ', np.nan, ' f_g_h','aa'])\n",
    "\n",
    "s = s2.str.split('_',n=1)#按照‘-’进行拆分,n=1表示只拆一个\n",
    "print(s)\n",
    "s.str.join('_')#拼接"
   ]
  },
  {
   "cell_type": "code",
   "execution_count": 46,
   "metadata": {
    "scrolled": true
   },
   "outputs": [
    {
     "data": {
      "text/plain": [
       "0     True\n",
       "1    False\n",
       "2      NaN\n",
       "3    False\n",
       "4     True\n",
       "dtype: object"
      ]
     },
     "execution_count": 46,
     "metadata": {},
     "output_type": "execute_result"
    }
   ],
   "source": [
    "s2\n",
    "s2.str.contains('a') #检查每个元素是否包含‘a’"
   ]
  },
  {
   "cell_type": "code",
   "execution_count": 106,
   "metadata": {},
   "outputs": [
    {
     "data": {
      "text/plain": [
       "'a_b_c_b'"
      ]
     },
     "execution_count": 106,
     "metadata": {},
     "output_type": "execute_result"
    }
   ],
   "source": [
    "s = list('abcb')\n",
    "'_'.join(s)"
   ]
  },
  {
   "cell_type": "code",
   "execution_count": 30,
   "metadata": {
    "scrolled": true
   },
   "outputs": [
    {
     "name": "stdout",
     "output_type": "stream",
     "text": [
      "0     [ a, b, c]\n",
      "1    [ c, d, e ]\n",
      "2            NaN\n",
      "3     [ f, g, h]\n",
      "4           [aa]\n",
      "dtype: object\n",
      "0      a_b_c\n",
      "1     c_d_e \n",
      "2        NaN\n",
      "3      f_g_h\n",
      "4         aa\n",
      "dtype: object\n"
     ]
    }
   ],
   "source": [
    "s = s2.str.split('_')\n",
    "print(s)\n",
    "s=s.str.join('_')\n",
    "print(s)"
   ]
  },
  {
   "cell_type": "markdown",
   "metadata": {},
   "source": [
    "更多的操作方法见官方的文档的[Working with Text Data](http://pandas.pydata.org/pandas-docs/stable/text.html#working-with-text-data)"
   ]
  },
  {
   "cell_type": "markdown",
   "metadata": {},
   "source": [
    "## 4.3 数据转换"
   ]
  },
  {
   "cell_type": "markdown",
   "metadata": {},
   "source": [
    "接下来我们学习数据过滤、清洗以及其他的转换工作。"
   ]
  },
  {
   "cell_type": "markdown",
   "metadata": {},
   "source": [
    "### 4.3.1 删除重复项"
   ]
  },
  {
   "cell_type": "code",
   "execution_count": 58,
   "metadata": {
    "scrolled": true
   },
   "outputs": [
    {
     "data": {
      "text/html": [
       "<div>\n",
       "<style scoped>\n",
       "    .dataframe tbody tr th:only-of-type {\n",
       "        vertical-align: middle;\n",
       "    }\n",
       "\n",
       "    .dataframe tbody tr th {\n",
       "        vertical-align: top;\n",
       "    }\n",
       "\n",
       "    .dataframe thead th {\n",
       "        text-align: right;\n",
       "    }\n",
       "</style>\n",
       "<table border=\"1\" class=\"dataframe\">\n",
       "  <thead>\n",
       "    <tr style=\"text-align: right;\">\n",
       "      <th></th>\n",
       "      <th>k1</th>\n",
       "      <th>k2</th>\n",
       "    </tr>\n",
       "  </thead>\n",
       "  <tbody>\n",
       "    <tr>\n",
       "      <th>0</th>\n",
       "      <td>one</td>\n",
       "      <td>1</td>\n",
       "    </tr>\n",
       "    <tr>\n",
       "      <th>1</th>\n",
       "      <td>one</td>\n",
       "      <td>1</td>\n",
       "    </tr>\n",
       "    <tr>\n",
       "      <th>2</th>\n",
       "      <td>one</td>\n",
       "      <td>2</td>\n",
       "    </tr>\n",
       "    <tr>\n",
       "      <th>3</th>\n",
       "      <td>two</td>\n",
       "      <td>3</td>\n",
       "    </tr>\n",
       "    <tr>\n",
       "      <th>4</th>\n",
       "      <td>two</td>\n",
       "      <td>3</td>\n",
       "    </tr>\n",
       "    <tr>\n",
       "      <th>5</th>\n",
       "      <td>two</td>\n",
       "      <td>4</td>\n",
       "    </tr>\n",
       "    <tr>\n",
       "      <th>6</th>\n",
       "      <td>two</td>\n",
       "      <td>4</td>\n",
       "    </tr>\n",
       "    <tr>\n",
       "      <th>7</th>\n",
       "      <td>one</td>\n",
       "      <td>1</td>\n",
       "    </tr>\n",
       "  </tbody>\n",
       "</table>\n",
       "</div>"
      ],
      "text/plain": [
       "    k1  k2\n",
       "0  one   1\n",
       "1  one   1\n",
       "2  one   2\n",
       "3  two   3\n",
       "4  two   3\n",
       "5  two   4\n",
       "6  two   4\n",
       "7  one   1"
      ]
     },
     "execution_count": 58,
     "metadata": {},
     "output_type": "execute_result"
    }
   ],
   "source": [
    "data=pd.DataFrame({'k1':['one']*3+['two']*4+['one']*1,\n",
    "                   'k2':[1,1,2,3,3,4,4,1]})\n",
    "data"
   ]
  },
  {
   "cell_type": "code",
   "execution_count": 61,
   "metadata": {},
   "outputs": [
    {
     "data": {
      "text/plain": [
       "0    False\n",
       "1     True\n",
       "2    False\n",
       "3    False\n",
       "4     True\n",
       "5    False\n",
       "6     True\n",
       "7     True\n",
       "dtype: bool"
      ]
     },
     "execution_count": 61,
     "metadata": {},
     "output_type": "execute_result"
    }
   ],
   "source": [
    "data.duplicated()#判断是否重复"
   ]
  },
  {
   "cell_type": "code",
   "execution_count": 62,
   "metadata": {},
   "outputs": [
    {
     "data": {
      "text/plain": [
       "0     True\n",
       "1     True\n",
       "2    False\n",
       "3     True\n",
       "4    False\n",
       "5     True\n",
       "6    False\n",
       "7    False\n",
       "dtype: bool"
      ]
     },
     "execution_count": 62,
     "metadata": {},
     "output_type": "execute_result"
    }
   ],
   "source": [
    "data.duplicated(keep='last')# 结果中的True表示重复"
   ]
  },
  {
   "cell_type": "code",
   "execution_count": 34,
   "metadata": {},
   "outputs": [
    {
     "data": {
      "text/html": [
       "<div>\n",
       "<style scoped>\n",
       "    .dataframe tbody tr th:only-of-type {\n",
       "        vertical-align: middle;\n",
       "    }\n",
       "\n",
       "    .dataframe tbody tr th {\n",
       "        vertical-align: top;\n",
       "    }\n",
       "\n",
       "    .dataframe thead th {\n",
       "        text-align: right;\n",
       "    }\n",
       "</style>\n",
       "<table border=\"1\" class=\"dataframe\">\n",
       "  <thead>\n",
       "    <tr style=\"text-align: right;\">\n",
       "      <th></th>\n",
       "      <th>k1</th>\n",
       "      <th>k2</th>\n",
       "    </tr>\n",
       "  </thead>\n",
       "  <tbody>\n",
       "    <tr>\n",
       "      <th>2</th>\n",
       "      <td>one</td>\n",
       "      <td>2</td>\n",
       "    </tr>\n",
       "    <tr>\n",
       "      <th>4</th>\n",
       "      <td>two</td>\n",
       "      <td>3</td>\n",
       "    </tr>\n",
       "    <tr>\n",
       "      <th>6</th>\n",
       "      <td>two</td>\n",
       "      <td>4</td>\n",
       "    </tr>\n",
       "    <tr>\n",
       "      <th>7</th>\n",
       "      <td>one</td>\n",
       "      <td>1</td>\n",
       "    </tr>\n",
       "  </tbody>\n",
       "</table>\n",
       "</div>"
      ],
      "text/plain": [
       "    k1  k2\n",
       "2  one   2\n",
       "4  two   3\n",
       "6  two   4\n",
       "7  one   1"
      ]
     },
     "execution_count": 34,
     "metadata": {},
     "output_type": "execute_result"
    }
   ],
   "source": [
    "data.drop_duplicates(keep='last') #去重,从后面开始计算是否重复"
   ]
  },
  {
   "cell_type": "code",
   "execution_count": 33,
   "metadata": {},
   "outputs": [
    {
     "data": {
      "text/html": [
       "<div>\n",
       "<style scoped>\n",
       "    .dataframe tbody tr th:only-of-type {\n",
       "        vertical-align: middle;\n",
       "    }\n",
       "\n",
       "    .dataframe tbody tr th {\n",
       "        vertical-align: top;\n",
       "    }\n",
       "\n",
       "    .dataframe thead th {\n",
       "        text-align: right;\n",
       "    }\n",
       "</style>\n",
       "<table border=\"1\" class=\"dataframe\">\n",
       "  <thead>\n",
       "    <tr style=\"text-align: right;\">\n",
       "      <th></th>\n",
       "      <th>k1</th>\n",
       "      <th>k2</th>\n",
       "    </tr>\n",
       "  </thead>\n",
       "  <tbody>\n",
       "    <tr>\n",
       "      <th>0</th>\n",
       "      <td>one</td>\n",
       "      <td>1</td>\n",
       "    </tr>\n",
       "    <tr>\n",
       "      <th>2</th>\n",
       "      <td>one</td>\n",
       "      <td>2</td>\n",
       "    </tr>\n",
       "    <tr>\n",
       "      <th>3</th>\n",
       "      <td>two</td>\n",
       "      <td>3</td>\n",
       "    </tr>\n",
       "    <tr>\n",
       "      <th>5</th>\n",
       "      <td>two</td>\n",
       "      <td>4</td>\n",
       "    </tr>\n",
       "  </tbody>\n",
       "</table>\n",
       "</div>"
      ],
      "text/plain": [
       "    k1  k2\n",
       "0  one   1\n",
       "2  one   2\n",
       "3  two   3\n",
       "5  two   4"
      ]
     },
     "execution_count": 33,
     "metadata": {},
     "output_type": "execute_result"
    }
   ],
   "source": [
    "data.drop_duplicates(keep='first') #去重,从前面开始计算是否重复"
   ]
  },
  {
   "cell_type": "code",
   "execution_count": 39,
   "metadata": {},
   "outputs": [
    {
     "name": "stdout",
     "output_type": "stream",
     "text": [
      "    k1  k2\n",
      "0  one   1\n",
      "1  one   1\n",
      "2  one   2\n",
      "3  two   3\n",
      "4  two   3\n",
      "5  two   4\n",
      "6  two   4\n"
     ]
    },
    {
     "data": {
      "text/plain": [
       "0    False\n",
       "1     True\n",
       "2    False\n",
       "3    False\n",
       "4     True\n",
       "5    False\n",
       "6     True\n",
       "dtype: bool"
      ]
     },
     "execution_count": 39,
     "metadata": {},
     "output_type": "execute_result"
    }
   ],
   "source": [
    "data=pd.DataFrame({'k1':['one']*3+['two']*4,\n",
    "                   'k2':[1,1,2,3,3,4,4]})\n",
    "print(data)\n",
    "data.duplicated()#判断各行是否有重复项"
   ]
  },
  {
   "cell_type": "code",
   "execution_count": 40,
   "metadata": {
    "scrolled": true
   },
   "outputs": [
    {
     "data": {
      "text/html": [
       "<div>\n",
       "<style scoped>\n",
       "    .dataframe tbody tr th:only-of-type {\n",
       "        vertical-align: middle;\n",
       "    }\n",
       "\n",
       "    .dataframe tbody tr th {\n",
       "        vertical-align: top;\n",
       "    }\n",
       "\n",
       "    .dataframe thead th {\n",
       "        text-align: right;\n",
       "    }\n",
       "</style>\n",
       "<table border=\"1\" class=\"dataframe\">\n",
       "  <thead>\n",
       "    <tr style=\"text-align: right;\">\n",
       "      <th></th>\n",
       "      <th>k1</th>\n",
       "      <th>k2</th>\n",
       "    </tr>\n",
       "  </thead>\n",
       "  <tbody>\n",
       "    <tr>\n",
       "      <th>0</th>\n",
       "      <td>one</td>\n",
       "      <td>1</td>\n",
       "    </tr>\n",
       "    <tr>\n",
       "      <th>2</th>\n",
       "      <td>one</td>\n",
       "      <td>2</td>\n",
       "    </tr>\n",
       "    <tr>\n",
       "      <th>3</th>\n",
       "      <td>two</td>\n",
       "      <td>3</td>\n",
       "    </tr>\n",
       "    <tr>\n",
       "      <th>5</th>\n",
       "      <td>two</td>\n",
       "      <td>4</td>\n",
       "    </tr>\n",
       "  </tbody>\n",
       "</table>\n",
       "</div>"
      ],
      "text/plain": [
       "    k1  k2\n",
       "0  one   1\n",
       "2  one   2\n",
       "3  two   3\n",
       "5  two   4"
      ]
     },
     "execution_count": 40,
     "metadata": {},
     "output_type": "execute_result"
    }
   ],
   "source": [
    "data.drop_duplicates()#将各行的重复项进行删除，默认从头开始计算是否是重复项"
   ]
  },
  {
   "cell_type": "markdown",
   "metadata": {},
   "source": [
    "duplicated()和drop_duplicates()默认的是全部列，我们也可以指定某一列过滤重复项"
   ]
  },
  {
   "cell_type": "code",
   "execution_count": 63,
   "metadata": {},
   "outputs": [
    {
     "name": "stdout",
     "output_type": "stream",
     "text": [
      "    k1  k2  v1\n",
      "0  one   1   0\n",
      "1  one   1   1\n",
      "2  one   2   2\n",
      "3  two   3   3\n",
      "4  two   3   4\n",
      "5  two   4   5\n",
      "6  two   4   6\n",
      "7  one   1   7\n"
     ]
    }
   ],
   "source": [
    "data['v1']=np.arange(8)#为了表示的更加清楚，在添加一列\n",
    "print(data)\n",
    "\n",
    "# data.drop_duplicates(['k1','k2'],keep='last')"
   ]
  },
  {
   "cell_type": "code",
   "execution_count": 65,
   "metadata": {},
   "outputs": [
    {
     "data": {
      "text/html": [
       "<div>\n",
       "<style scoped>\n",
       "    .dataframe tbody tr th:only-of-type {\n",
       "        vertical-align: middle;\n",
       "    }\n",
       "\n",
       "    .dataframe tbody tr th {\n",
       "        vertical-align: top;\n",
       "    }\n",
       "\n",
       "    .dataframe thead th {\n",
       "        text-align: right;\n",
       "    }\n",
       "</style>\n",
       "<table border=\"1\" class=\"dataframe\">\n",
       "  <thead>\n",
       "    <tr style=\"text-align: right;\">\n",
       "      <th></th>\n",
       "      <th>k1</th>\n",
       "      <th>k2</th>\n",
       "      <th>v1</th>\n",
       "    </tr>\n",
       "  </thead>\n",
       "  <tbody>\n",
       "    <tr>\n",
       "      <th>0</th>\n",
       "      <td>one</td>\n",
       "      <td>1</td>\n",
       "      <td>0</td>\n",
       "    </tr>\n",
       "    <tr>\n",
       "      <th>1</th>\n",
       "      <td>one</td>\n",
       "      <td>1</td>\n",
       "      <td>1</td>\n",
       "    </tr>\n",
       "    <tr>\n",
       "      <th>2</th>\n",
       "      <td>one</td>\n",
       "      <td>2</td>\n",
       "      <td>2</td>\n",
       "    </tr>\n",
       "    <tr>\n",
       "      <th>3</th>\n",
       "      <td>two</td>\n",
       "      <td>3</td>\n",
       "      <td>3</td>\n",
       "    </tr>\n",
       "    <tr>\n",
       "      <th>4</th>\n",
       "      <td>two</td>\n",
       "      <td>3</td>\n",
       "      <td>4</td>\n",
       "    </tr>\n",
       "    <tr>\n",
       "      <th>5</th>\n",
       "      <td>two</td>\n",
       "      <td>4</td>\n",
       "      <td>5</td>\n",
       "    </tr>\n",
       "    <tr>\n",
       "      <th>6</th>\n",
       "      <td>two</td>\n",
       "      <td>4</td>\n",
       "      <td>6</td>\n",
       "    </tr>\n",
       "    <tr>\n",
       "      <th>7</th>\n",
       "      <td>one</td>\n",
       "      <td>1</td>\n",
       "      <td>7</td>\n",
       "    </tr>\n",
       "  </tbody>\n",
       "</table>\n",
       "</div>"
      ],
      "text/plain": [
       "    k1  k2  v1\n",
       "0  one   1   0\n",
       "1  one   1   1\n",
       "2  one   2   2\n",
       "3  two   3   3\n",
       "4  two   3   4\n",
       "5  two   4   5\n",
       "6  two   4   6\n",
       "7  one   1   7"
      ]
     },
     "execution_count": 65,
     "metadata": {},
     "output_type": "execute_result"
    }
   ],
   "source": [
    "data.drop_duplicates(keep='last') "
   ]
  },
  {
   "cell_type": "code",
   "execution_count": 67,
   "metadata": {},
   "outputs": [
    {
     "data": {
      "text/html": [
       "<div>\n",
       "<style scoped>\n",
       "    .dataframe tbody tr th:only-of-type {\n",
       "        vertical-align: middle;\n",
       "    }\n",
       "\n",
       "    .dataframe tbody tr th {\n",
       "        vertical-align: top;\n",
       "    }\n",
       "\n",
       "    .dataframe thead th {\n",
       "        text-align: right;\n",
       "    }\n",
       "</style>\n",
       "<table border=\"1\" class=\"dataframe\">\n",
       "  <thead>\n",
       "    <tr style=\"text-align: right;\">\n",
       "      <th></th>\n",
       "      <th>k1</th>\n",
       "      <th>k2</th>\n",
       "      <th>v1</th>\n",
       "    </tr>\n",
       "  </thead>\n",
       "  <tbody>\n",
       "    <tr>\n",
       "      <th>2</th>\n",
       "      <td>one</td>\n",
       "      <td>2</td>\n",
       "      <td>2</td>\n",
       "    </tr>\n",
       "    <tr>\n",
       "      <th>4</th>\n",
       "      <td>two</td>\n",
       "      <td>3</td>\n",
       "      <td>4</td>\n",
       "    </tr>\n",
       "    <tr>\n",
       "      <th>6</th>\n",
       "      <td>two</td>\n",
       "      <td>4</td>\n",
       "      <td>6</td>\n",
       "    </tr>\n",
       "    <tr>\n",
       "      <th>7</th>\n",
       "      <td>one</td>\n",
       "      <td>1</td>\n",
       "      <td>7</td>\n",
       "    </tr>\n",
       "  </tbody>\n",
       "</table>\n",
       "</div>"
      ],
      "text/plain": [
       "    k1  k2  v1\n",
       "2  one   2   2\n",
       "4  two   3   4\n",
       "6  two   4   6\n",
       "7  one   1   7"
      ]
     },
     "execution_count": 67,
     "metadata": {},
     "output_type": "execute_result"
    }
   ],
   "source": [
    "data.drop_duplicates(['k1','k2'],keep='last')  #若某行的k1和k2和其他行有重复的k1和k2，则丢弃"
   ]
  },
  {
   "cell_type": "markdown",
   "metadata": {},
   "source": [
    "### 4.3.2 重命名轴索引"
   ]
  },
  {
   "cell_type": "code",
   "execution_count": 68,
   "metadata": {},
   "outputs": [
    {
     "data": {
      "text/plain": [
       "Index(['SHENZHEN', 'SHANGHAI', 'BEIJING'], dtype='object')"
      ]
     },
     "execution_count": 68,
     "metadata": {},
     "output_type": "execute_result"
    }
   ],
   "source": [
    "data = pd.DataFrame(np.arange(12).reshape(3,4),index=['Shenzhen','Shanghai','Beijing'],columns=['one','two','three','four'])\n",
    "data.index = data.index.str.upper()\n",
    "data.index"
   ]
  },
  {
   "cell_type": "code",
   "execution_count": 69,
   "metadata": {},
   "outputs": [
    {
     "data": {
      "text/html": [
       "<div>\n",
       "<style scoped>\n",
       "    .dataframe tbody tr th:only-of-type {\n",
       "        vertical-align: middle;\n",
       "    }\n",
       "\n",
       "    .dataframe tbody tr th {\n",
       "        vertical-align: top;\n",
       "    }\n",
       "\n",
       "    .dataframe thead th {\n",
       "        text-align: right;\n",
       "    }\n",
       "</style>\n",
       "<table border=\"1\" class=\"dataframe\">\n",
       "  <thead>\n",
       "    <tr style=\"text-align: right;\">\n",
       "      <th></th>\n",
       "      <th>ONE</th>\n",
       "      <th>TWO</th>\n",
       "      <th>THREE</th>\n",
       "      <th>FOUR</th>\n",
       "    </tr>\n",
       "  </thead>\n",
       "  <tbody>\n",
       "    <tr>\n",
       "      <th>SHENZHEN</th>\n",
       "      <td>0</td>\n",
       "      <td>1</td>\n",
       "      <td>2</td>\n",
       "      <td>3</td>\n",
       "    </tr>\n",
       "    <tr>\n",
       "      <th>SHANGHAI</th>\n",
       "      <td>4</td>\n",
       "      <td>5</td>\n",
       "      <td>6</td>\n",
       "      <td>7</td>\n",
       "    </tr>\n",
       "    <tr>\n",
       "      <th>BEIJING</th>\n",
       "      <td>8</td>\n",
       "      <td>9</td>\n",
       "      <td>10</td>\n",
       "      <td>11</td>\n",
       "    </tr>\n",
       "  </tbody>\n",
       "</table>\n",
       "</div>"
      ],
      "text/plain": [
       "          ONE  TWO  THREE  FOUR\n",
       "SHENZHEN    0    1      2     3\n",
       "SHANGHAI    4    5      6     7\n",
       "BEIJING     8    9     10    11"
      ]
     },
     "execution_count": 69,
     "metadata": {},
     "output_type": "execute_result"
    }
   ],
   "source": [
    "data.columns=data.columns.str.upper()\n",
    "data"
   ]
  },
  {
   "cell_type": "code",
   "execution_count": 37,
   "metadata": {},
   "outputs": [
    {
     "data": {
      "text/html": [
       "<div>\n",
       "<style scoped>\n",
       "    .dataframe tbody tr th:only-of-type {\n",
       "        vertical-align: middle;\n",
       "    }\n",
       "\n",
       "    .dataframe tbody tr th {\n",
       "        vertical-align: top;\n",
       "    }\n",
       "\n",
       "    .dataframe thead th {\n",
       "        text-align: right;\n",
       "    }\n",
       "</style>\n",
       "<table border=\"1\" class=\"dataframe\">\n",
       "  <thead>\n",
       "    <tr style=\"text-align: right;\">\n",
       "      <th></th>\n",
       "      <th>ONE</th>\n",
       "      <th>TWO</th>\n",
       "      <th>THREE</th>\n",
       "      <th>FOUR</th>\n",
       "    </tr>\n",
       "  </thead>\n",
       "  <tbody>\n",
       "    <tr>\n",
       "      <th>SZ</th>\n",
       "      <td>0</td>\n",
       "      <td>1</td>\n",
       "      <td>2</td>\n",
       "      <td>3</td>\n",
       "    </tr>\n",
       "    <tr>\n",
       "      <th>SH</th>\n",
       "      <td>4</td>\n",
       "      <td>5</td>\n",
       "      <td>6</td>\n",
       "      <td>7</td>\n",
       "    </tr>\n",
       "    <tr>\n",
       "      <th>BJ</th>\n",
       "      <td>8</td>\n",
       "      <td>9</td>\n",
       "      <td>10</td>\n",
       "      <td>11</td>\n",
       "    </tr>\n",
       "  </tbody>\n",
       "</table>\n",
       "</div>"
      ],
      "text/plain": [
       "    ONE  TWO  THREE  FOUR\n",
       "SZ    0    1      2     3\n",
       "SH    4    5      6     7\n",
       "BJ    8    9     10    11"
      ]
     },
     "execution_count": 37,
     "metadata": {},
     "output_type": "execute_result"
    }
   ],
   "source": [
    "data.index = ['SZ','SH','BJ']\n",
    "data"
   ]
  },
  {
   "cell_type": "code",
   "execution_count": 69,
   "metadata": {},
   "outputs": [
    {
     "data": {
      "text/plain": [
       "1"
      ]
     },
     "execution_count": 69,
     "metadata": {},
     "output_type": "execute_result"
    }
   ],
   "source": [
    "def maxs(a):\n",
    "    return max(a)\n",
    "def mins(a):\n",
    "    return min(a)\n",
    "def function(f,a):\n",
    "    x=f(a)\n",
    "    return x\n",
    "\n",
    "a = [1,5,2,4,9,3]\n",
    "function(mins,a)"
   ]
  },
  {
   "cell_type": "code",
   "execution_count": 71,
   "metadata": {
    "scrolled": true
   },
   "outputs": [
    {
     "name": "stdout",
     "output_type": "stream",
     "text": [
      "Help on function rename in module pandas.core.frame:\n",
      "\n",
      "rename(self, mapper=None, index=None, columns=None, axis=None, copy=True, inplace=False, level=None)\n",
      "    Alter axes labels.\n",
      "    \n",
      "    Function / dict values must be unique (1-to-1). Labels not contained in\n",
      "    a dict / Series will be left as-is. Extra labels listed don't throw an\n",
      "    error.\n",
      "    \n",
      "    See the :ref:`user guide <basics.rename>` for more.\n",
      "    \n",
      "    Parameters\n",
      "    ----------\n",
      "    mapper, index, columns : dict-like or function, optional\n",
      "        dict-like or functions transformations to apply to\n",
      "        that axis' values. Use either ``mapper`` and ``axis`` to\n",
      "        specify the axis to target with ``mapper``, or ``index`` and\n",
      "        ``columns``.\n",
      "    axis : int or str, optional\n",
      "        Axis to target with ``mapper``. Can be either the axis name\n",
      "        ('index', 'columns') or number (0, 1). The default is 'index'.\n",
      "    copy : boolean, default True\n",
      "        Also copy underlying data\n",
      "    inplace : boolean, default False\n",
      "        Whether to return a new %(klass)s. If True then value of copy is\n",
      "        ignored.\n",
      "    level : int or level name, default None\n",
      "        In case of a MultiIndex, only rename labels in the specified\n",
      "        level.\n",
      "    \n",
      "    Returns\n",
      "    -------\n",
      "    renamed : DataFrame\n",
      "    \n",
      "    See Also\n",
      "    --------\n",
      "    pandas.DataFrame.rename_axis\n",
      "    \n",
      "    Examples\n",
      "    --------\n",
      "    \n",
      "    ``DataFrame.rename`` supports two calling conventions\n",
      "    \n",
      "    * ``(index=index_mapper, columns=columns_mapper, ...)``\n",
      "    * ``(mapper, axis={'index', 'columns'}, ...)``\n",
      "    \n",
      "    We *highly* recommend using keyword arguments to clarify your\n",
      "    intent.\n",
      "    \n",
      "    >>> df = pd.DataFrame({\"A\": [1, 2, 3], \"B\": [4, 5, 6]})\n",
      "    >>> df.rename(index=str, columns={\"A\": \"a\", \"B\": \"c\"})\n",
      "       a  c\n",
      "    0  1  4\n",
      "    1  2  5\n",
      "    2  3  6\n",
      "    \n",
      "    >>> df.rename(index=str, columns={\"A\": \"a\", \"C\": \"c\"})\n",
      "       a  B\n",
      "    0  1  4\n",
      "    1  2  5\n",
      "    2  3  6\n",
      "    \n",
      "    Using axis-style parameters\n",
      "    \n",
      "    >>> df.rename(str.lower, axis='columns')\n",
      "       a  b\n",
      "    0  1  4\n",
      "    1  2  5\n",
      "    2  3  6\n",
      "    \n",
      "    >>> df.rename({1: 2, 2: 4}, axis='index')\n",
      "       A  B\n",
      "    0  1  4\n",
      "    2  2  5\n",
      "    4  3  6\n",
      "\n"
     ]
    }
   ],
   "source": [
    "help(pd.DataFrame.rename)"
   ]
  },
  {
   "cell_type": "code",
   "execution_count": 78,
   "metadata": {},
   "outputs": [
    {
     "data": {
      "text/html": [
       "<div>\n",
       "<style scoped>\n",
       "    .dataframe tbody tr th:only-of-type {\n",
       "        vertical-align: middle;\n",
       "    }\n",
       "\n",
       "    .dataframe tbody tr th {\n",
       "        vertical-align: top;\n",
       "    }\n",
       "\n",
       "    .dataframe thead th {\n",
       "        text-align: right;\n",
       "    }\n",
       "</style>\n",
       "<table border=\"1\" class=\"dataframe\">\n",
       "  <thead>\n",
       "    <tr style=\"text-align: right;\">\n",
       "      <th></th>\n",
       "      <th>ONE</th>\n",
       "      <th>TWO</th>\n",
       "      <th>THREE</th>\n",
       "      <th>FOUR</th>\n",
       "    </tr>\n",
       "  </thead>\n",
       "  <tbody>\n",
       "    <tr>\n",
       "      <th>SZ</th>\n",
       "      <td>0</td>\n",
       "      <td>1</td>\n",
       "      <td>2</td>\n",
       "      <td>3</td>\n",
       "    </tr>\n",
       "    <tr>\n",
       "      <th>SHANGHAI</th>\n",
       "      <td>4</td>\n",
       "      <td>5</td>\n",
       "      <td>6</td>\n",
       "      <td>7</td>\n",
       "    </tr>\n",
       "    <tr>\n",
       "      <th>BEIJING</th>\n",
       "      <td>8</td>\n",
       "      <td>9</td>\n",
       "      <td>10</td>\n",
       "      <td>11</td>\n",
       "    </tr>\n",
       "  </tbody>\n",
       "</table>\n",
       "</div>"
      ],
      "text/plain": [
       "          ONE  TWO  THREE  FOUR\n",
       "SZ          0    1      2     3\n",
       "SHANGHAI    4    5      6     7\n",
       "BEIJING     8    9     10    11"
      ]
     },
     "execution_count": 78,
     "metadata": {},
     "output_type": "execute_result"
    }
   ],
   "source": [
    "data.rename({'SHENZHEN':'SZ'},axis='index')"
   ]
  },
  {
   "cell_type": "code",
   "execution_count": 79,
   "metadata": {},
   "outputs": [
    {
     "data": {
      "text/html": [
       "<div>\n",
       "<style scoped>\n",
       "    .dataframe tbody tr th:only-of-type {\n",
       "        vertical-align: middle;\n",
       "    }\n",
       "\n",
       "    .dataframe tbody tr th {\n",
       "        vertical-align: top;\n",
       "    }\n",
       "\n",
       "    .dataframe thead th {\n",
       "        text-align: right;\n",
       "    }\n",
       "</style>\n",
       "<table border=\"1\" class=\"dataframe\">\n",
       "  <thead>\n",
       "    <tr style=\"text-align: right;\">\n",
       "      <th></th>\n",
       "      <th>ONE</th>\n",
       "      <th>TWO</th>\n",
       "      <th>THREE</th>\n",
       "      <th>FOUR</th>\n",
       "    </tr>\n",
       "  </thead>\n",
       "  <tbody>\n",
       "    <tr>\n",
       "      <th>sz</th>\n",
       "      <td>0</td>\n",
       "      <td>1</td>\n",
       "      <td>2</td>\n",
       "      <td>3</td>\n",
       "    </tr>\n",
       "    <tr>\n",
       "      <th>SHANGHAI</th>\n",
       "      <td>4</td>\n",
       "      <td>5</td>\n",
       "      <td>6</td>\n",
       "      <td>7</td>\n",
       "    </tr>\n",
       "    <tr>\n",
       "      <th>BEIJING</th>\n",
       "      <td>8</td>\n",
       "      <td>9</td>\n",
       "      <td>10</td>\n",
       "      <td>11</td>\n",
       "    </tr>\n",
       "  </tbody>\n",
       "</table>\n",
       "</div>"
      ],
      "text/plain": [
       "          ONE  TWO  THREE  FOUR\n",
       "sz          0    1      2     3\n",
       "SHANGHAI    4    5      6     7\n",
       "BEIJING     8    9     10    11"
      ]
     },
     "execution_count": 79,
     "metadata": {},
     "output_type": "execute_result"
    }
   ],
   "source": [
    "data.rename(index={'SHENZHEN':'sz'})"
   ]
  },
  {
   "cell_type": "code",
   "execution_count": 72,
   "metadata": {},
   "outputs": [
    {
     "data": {
      "text/html": [
       "<div>\n",
       "<style scoped>\n",
       "    .dataframe tbody tr th:only-of-type {\n",
       "        vertical-align: middle;\n",
       "    }\n",
       "\n",
       "    .dataframe tbody tr th {\n",
       "        vertical-align: top;\n",
       "    }\n",
       "\n",
       "    .dataframe thead th {\n",
       "        text-align: right;\n",
       "    }\n",
       "</style>\n",
       "<table border=\"1\" class=\"dataframe\">\n",
       "  <thead>\n",
       "    <tr style=\"text-align: right;\">\n",
       "      <th></th>\n",
       "      <th>one</th>\n",
       "      <th>two</th>\n",
       "      <th>three</th>\n",
       "      <th>four</th>\n",
       "    </tr>\n",
       "  </thead>\n",
       "  <tbody>\n",
       "    <tr>\n",
       "      <th>Shenzhen</th>\n",
       "      <td>0</td>\n",
       "      <td>1</td>\n",
       "      <td>2</td>\n",
       "      <td>3</td>\n",
       "    </tr>\n",
       "    <tr>\n",
       "      <th>Shanghai</th>\n",
       "      <td>4</td>\n",
       "      <td>5</td>\n",
       "      <td>6</td>\n",
       "      <td>7</td>\n",
       "    </tr>\n",
       "    <tr>\n",
       "      <th>Beijing</th>\n",
       "      <td>8</td>\n",
       "      <td>9</td>\n",
       "      <td>10</td>\n",
       "      <td>11</td>\n",
       "    </tr>\n",
       "  </tbody>\n",
       "</table>\n",
       "</div>"
      ],
      "text/plain": [
       "          one  two  three  four\n",
       "Shenzhen    0    1      2     3\n",
       "Shanghai    4    5      6     7\n",
       "Beijing     8    9     10    11"
      ]
     },
     "execution_count": 72,
     "metadata": {},
     "output_type": "execute_result"
    }
   ],
   "source": [
    "data.rename(index=str.title,columns=str.lower)"
   ]
  },
  {
   "cell_type": "code",
   "execution_count": 38,
   "metadata": {},
   "outputs": [
    {
     "data": {
      "text/html": [
       "<div>\n",
       "<style scoped>\n",
       "    .dataframe tbody tr th:only-of-type {\n",
       "        vertical-align: middle;\n",
       "    }\n",
       "\n",
       "    .dataframe tbody tr th {\n",
       "        vertical-align: top;\n",
       "    }\n",
       "\n",
       "    .dataframe thead th {\n",
       "        text-align: right;\n",
       "    }\n",
       "</style>\n",
       "<table border=\"1\" class=\"dataframe\">\n",
       "  <thead>\n",
       "    <tr style=\"text-align: right;\">\n",
       "      <th></th>\n",
       "      <th>ONE</th>\n",
       "      <th>TWO</th>\n",
       "      <th>THREE</th>\n",
       "      <th>FOUR</th>\n",
       "    </tr>\n",
       "  </thead>\n",
       "  <tbody>\n",
       "    <tr>\n",
       "      <th>Sz</th>\n",
       "      <td>0</td>\n",
       "      <td>1</td>\n",
       "      <td>2</td>\n",
       "      <td>3</td>\n",
       "    </tr>\n",
       "    <tr>\n",
       "      <th>Sh</th>\n",
       "      <td>4</td>\n",
       "      <td>5</td>\n",
       "      <td>6</td>\n",
       "      <td>7</td>\n",
       "    </tr>\n",
       "    <tr>\n",
       "      <th>Bj</th>\n",
       "      <td>8</td>\n",
       "      <td>9</td>\n",
       "      <td>10</td>\n",
       "      <td>11</td>\n",
       "    </tr>\n",
       "  </tbody>\n",
       "</table>\n",
       "</div>"
      ],
      "text/plain": [
       "    ONE  TWO  THREE  FOUR\n",
       "Sz    0    1      2     3\n",
       "Sh    4    5      6     7\n",
       "Bj    8    9     10    11"
      ]
     },
     "execution_count": 38,
     "metadata": {},
     "output_type": "execute_result"
    }
   ],
   "source": [
    "data.rename(index=str.title,columns=str.upper)#对行名和列名进行相应的处理"
   ]
  },
  {
   "cell_type": "code",
   "execution_count": 39,
   "metadata": {
    "scrolled": false
   },
   "outputs": [
    {
     "data": {
      "text/html": [
       "<div>\n",
       "<style scoped>\n",
       "    .dataframe tbody tr th:only-of-type {\n",
       "        vertical-align: middle;\n",
       "    }\n",
       "\n",
       "    .dataframe tbody tr th {\n",
       "        vertical-align: top;\n",
       "    }\n",
       "\n",
       "    .dataframe thead th {\n",
       "        text-align: right;\n",
       "    }\n",
       "</style>\n",
       "<table border=\"1\" class=\"dataframe\">\n",
       "  <thead>\n",
       "    <tr style=\"text-align: right;\">\n",
       "      <th></th>\n",
       "      <th>ONE</th>\n",
       "      <th>TWO</th>\n",
       "      <th>THREE</th>\n",
       "      <th>FOUR</th>\n",
       "    </tr>\n",
       "  </thead>\n",
       "  <tbody>\n",
       "    <tr>\n",
       "      <th>SZ</th>\n",
       "      <td>0</td>\n",
       "      <td>1</td>\n",
       "      <td>2</td>\n",
       "      <td>3</td>\n",
       "    </tr>\n",
       "    <tr>\n",
       "      <th>SH</th>\n",
       "      <td>4</td>\n",
       "      <td>5</td>\n",
       "      <td>6</td>\n",
       "      <td>7</td>\n",
       "    </tr>\n",
       "    <tr>\n",
       "      <th>BJ</th>\n",
       "      <td>8</td>\n",
       "      <td>9</td>\n",
       "      <td>10</td>\n",
       "      <td>11</td>\n",
       "    </tr>\n",
       "  </tbody>\n",
       "</table>\n",
       "</div>"
      ],
      "text/plain": [
       "    ONE  TWO  THREE  FOUR\n",
       "SZ    0    1      2     3\n",
       "SH    4    5      6     7\n",
       "BJ    8    9     10    11"
      ]
     },
     "execution_count": 39,
     "metadata": {},
     "output_type": "execute_result"
    }
   ],
   "source": [
    "data"
   ]
  },
  {
   "cell_type": "code",
   "execution_count": 40,
   "metadata": {
    "scrolled": true
   },
   "outputs": [
    {
     "data": {
      "text/html": [
       "<div>\n",
       "<style scoped>\n",
       "    .dataframe tbody tr th:only-of-type {\n",
       "        vertical-align: middle;\n",
       "    }\n",
       "\n",
       "    .dataframe tbody tr th {\n",
       "        vertical-align: top;\n",
       "    }\n",
       "\n",
       "    .dataframe thead th {\n",
       "        text-align: right;\n",
       "    }\n",
       "</style>\n",
       "<table border=\"1\" class=\"dataframe\">\n",
       "  <thead>\n",
       "    <tr style=\"text-align: right;\">\n",
       "      <th></th>\n",
       "      <th>ONE</th>\n",
       "      <th>TWO</th>\n",
       "      <th>python</th>\n",
       "      <th>FOUR</th>\n",
       "    </tr>\n",
       "  </thead>\n",
       "  <tbody>\n",
       "    <tr>\n",
       "      <th>Guangzhou</th>\n",
       "      <td>0</td>\n",
       "      <td>1</td>\n",
       "      <td>2</td>\n",
       "      <td>3</td>\n",
       "    </tr>\n",
       "    <tr>\n",
       "      <th>SH</th>\n",
       "      <td>4</td>\n",
       "      <td>5</td>\n",
       "      <td>6</td>\n",
       "      <td>7</td>\n",
       "    </tr>\n",
       "    <tr>\n",
       "      <th>BJ</th>\n",
       "      <td>8</td>\n",
       "      <td>9</td>\n",
       "      <td>10</td>\n",
       "      <td>11</td>\n",
       "    </tr>\n",
       "  </tbody>\n",
       "</table>\n",
       "</div>"
      ],
      "text/plain": [
       "           ONE  TWO  python  FOUR\n",
       "Guangzhou    0    1       2     3\n",
       "SH           4    5       6     7\n",
       "BJ           8    9      10    11"
      ]
     },
     "execution_count": 40,
     "metadata": {},
     "output_type": "execute_result"
    }
   ],
   "source": [
    "data.rename(index={'SZ':'Guangzhou'},columns={'THREE':'python'})#也可以传入字典，对部分轴进行更新"
   ]
  },
  {
   "cell_type": "markdown",
   "metadata": {},
   "source": [
    "### 4.3.3 离散化"
   ]
  },
  {
   "cell_type": "markdown",
   "metadata": {},
   "source": [
    "为了便于分析，连续数据常常需要被离散化或者拆分为“面元”。需要用到cut()和qcut()函数。"
   ]
  },
  {
   "cell_type": "markdown",
   "metadata": {},
   "source": [
    "cut()函数的面向边界对数据进行划分。函数详情点击[这里](http://pandas.pydata.org/pandas-docs/stable/generated/pandas.cut.html#pandas.cut)。"
   ]
  },
  {
   "cell_type": "code",
   "execution_count": 76,
   "metadata": {},
   "outputs": [
    {
     "name": "stdout",
     "output_type": "stream",
     "text": [
      "Help on function cut in module pandas.core.reshape.tile:\n",
      "\n",
      "cut(x, bins, right=True, labels=None, retbins=False, precision=3, include_lowest=False)\n",
      "    Return indices of half-open bins to which each value of `x` belongs.\n",
      "    \n",
      "    Parameters\n",
      "    ----------\n",
      "    x : array-like\n",
      "        Input array to be binned. It has to be 1-dimensional.\n",
      "    bins : int, sequence of scalars, or IntervalIndex\n",
      "        If `bins` is an int, it defines the number of equal-width bins in the\n",
      "        range of `x`. However, in this case, the range of `x` is extended\n",
      "        by .1% on each side to include the min or max values of `x`. If\n",
      "        `bins` is a sequence it defines the bin edges allowing for\n",
      "        non-uniform bin width. No extension of the range of `x` is done in\n",
      "        this case.\n",
      "    right : bool, optional\n",
      "        Indicates whether the bins include the rightmost edge or not. If\n",
      "        right == True (the default), then the bins [1,2,3,4] indicate\n",
      "        (1,2], (2,3], (3,4].\n",
      "    labels : array or boolean, default None\n",
      "        Used as labels for the resulting bins. Must be of the same length as\n",
      "        the resulting bins. If False, return only integer indicators of the\n",
      "        bins.\n",
      "    retbins : bool, optional\n",
      "        Whether to return the bins or not. Can be useful if bins is given\n",
      "        as a scalar.\n",
      "    precision : int, optional\n",
      "        The precision at which to store and display the bins labels\n",
      "    include_lowest : bool, optional\n",
      "        Whether the first interval should be left-inclusive or not.\n",
      "    \n",
      "    Returns\n",
      "    -------\n",
      "    out : Categorical or Series or array of integers if labels is False\n",
      "        The return type (Categorical or Series) depends on the input: a Series\n",
      "        of type category if input is a Series else Categorical. Bins are\n",
      "        represented as categories when categorical data is returned.\n",
      "    bins : ndarray of floats\n",
      "        Returned only if `retbins` is True.\n",
      "    \n",
      "    Notes\n",
      "    -----\n",
      "    The `cut` function can be useful for going from a continuous variable to\n",
      "    a categorical variable. For example, `cut` could convert ages to groups\n",
      "    of age ranges.\n",
      "    \n",
      "    Any NA values will be NA in the result.  Out of bounds values will be NA in\n",
      "    the resulting Categorical object\n",
      "    \n",
      "    \n",
      "    Examples\n",
      "    --------\n",
      "    >>> pd.cut(np.array([.2, 1.4, 2.5, 6.2, 9.7, 2.1]), 3, retbins=True)\n",
      "    ... # doctest: +ELLIPSIS\n",
      "    ([(0.19, 3.367], (0.19, 3.367], (0.19, 3.367], (3.367, 6.533], ...\n",
      "    Categories (3, interval[float64]): [(0.19, 3.367] < (3.367, 6.533] ...\n",
      "    \n",
      "    >>> pd.cut(np.array([.2, 1.4, 2.5, 6.2, 9.7, 2.1]),\n",
      "    ...        3, labels=[\"good\", \"medium\", \"bad\"])\n",
      "    ... # doctest: +SKIP\n",
      "    [good, good, good, medium, bad, good]\n",
      "    Categories (3, object): [good < medium < bad]\n",
      "    \n",
      "    >>> pd.cut(np.ones(5), 4, labels=False)\n",
      "    array([1, 1, 1, 1, 1])\n",
      "\n"
     ]
    }
   ],
   "source": [
    "help(pd.cut)"
   ]
  },
  {
   "cell_type": "code",
   "execution_count": 80,
   "metadata": {
    "scrolled": true
   },
   "outputs": [
    {
     "name": "stdout",
     "output_type": "stream",
     "text": [
      "[24 46 53 47 58 35 50 45 59 22 47 47]\n",
      "[(20, 30], (40, 50], (50, 60], (40, 50], (50, 60], ..., (40, 50], (50, 60], (20, 30], (40, 50], (40, 50]]\n",
      "Length: 12\n",
      "Categories (4, interval[int64]): [(20, 30] < (30, 40] < (40, 50] < (50, 60]]\n",
      "(20, 30]    2\n",
      "(30, 40]    1\n",
      "(40, 50]    6\n",
      "(50, 60]    3\n",
      "dtype: int64\n"
     ]
    }
   ],
   "source": [
    "age = np.random.randint(20,60,12)\n",
    "print(age)\n",
    "bins=[20,30,40,50,60]\n",
    "cats=pd.cut(age,bins)\n",
    "print(cats)\n",
    "print(cats.value_counts())"
   ]
  },
  {
   "cell_type": "code",
   "execution_count": 81,
   "metadata": {},
   "outputs": [
    {
     "name": "stdout",
     "output_type": "stream",
     "text": [
      "[[22.0, 31.25), [40.5, 49.75), [49.75, 59.037), [40.5, 49.75), [49.75, 59.037), ..., [40.5, 49.75), [49.75, 59.037), [22.0, 31.25), [40.5, 49.75), [40.5, 49.75)]\n",
      "Length: 12\n",
      "Categories (4, interval[float64]): [[22.0, 31.25) < [31.25, 40.5) < [40.5, 49.75) < [49.75, 59.037)]\n",
      "[22.0, 31.25)      2\n",
      "[31.25, 40.5)      1\n",
      "[40.5, 49.75)      5\n",
      "[49.75, 59.037)    4\n",
      "dtype: int64\n"
     ]
    }
   ],
   "source": [
    "li=['one','two','three','four']\n",
    "cats=pd.cut(age,4,right=False,labels=li)#根据最大值最小值等长划分,bins=4,分成4等份\n",
    "print(cats)\n",
    "print(cats.value_counts())"
   ]
  },
  {
   "cell_type": "code",
   "execution_count": 85,
   "metadata": {},
   "outputs": [
    {
     "name": "stdout",
     "output_type": "stream",
     "text": [
      "[(56.0, 67.0], (45.0, 56.0], (45.0, 56.0], (22.945, 34.0], (22.945, 34.0], ..., (67.0, 78.0], (45.0, 56.0], (67.0, 78.0], (67.0, 78.0], (34.0, 45.0]]\n",
      "Length: 20\n",
      "Categories (5, interval[float64]): [(22.945, 34.0] < (34.0, 45.0] < (45.0, 56.0] < (56.0, 67.0] < (67.0, 78.0]]\n",
      "(22.945, 34.0]    5\n",
      "(34.0, 45.0]      3\n",
      "(45.0, 56.0]      5\n",
      "(56.0, 67.0]      3\n",
      "(67.0, 78.0]      4\n",
      "dtype: int64\n"
     ]
    }
   ],
   "source": [
    "age = np.random.randint(20,80,20)\n",
    "cats = pd.cut(age,5,right=True)\n",
    "print(cats)\n",
    "print(cats.value_counts())"
   ]
  },
  {
   "cell_type": "markdown",
   "metadata": {},
   "source": [
    "qcut()函数可以根据样本的分位数对数据进行面元划分。了解函数参数和更多用法点击[这里](http://pandas.pydata.org/pandas-docs/stable/generated/pandas.qcut.html#pandas.qcut)。"
   ]
  },
  {
   "cell_type": "code",
   "execution_count": 130,
   "metadata": {},
   "outputs": [
    {
     "data": {
      "text/plain": [
       "array([-8.79727939e-01,  1.61324861e-01, -9.61362789e-01,  1.17492987e-01,\n",
       "        8.22706627e-01, -1.47471694e+00, -8.53002143e-01, -6.23953120e-01,\n",
       "        1.13560557e+00, -5.44518153e-01,  1.03841968e+00,  9.56738556e-01,\n",
       "        1.62559853e+00, -1.65953936e-01, -5.06461001e-01, -9.49367638e-01,\n",
       "       -5.15840377e-01, -1.17690702e+00, -5.49809836e-01,  1.28985500e+00,\n",
       "       -5.93031145e-01,  7.38954962e-01,  2.09867400e+00,  1.22035379e+00,\n",
       "        9.68420792e-01, -7.14685951e-01,  1.69744769e-01,  5.22916321e-01,\n",
       "       -1.29629036e+00,  5.95048482e-01,  1.66046781e+00, -8.45847713e-01,\n",
       "        6.25584977e-01, -1.43212972e+00, -2.37319596e+00, -1.46390192e+00,\n",
       "        8.55456639e-01, -2.02481639e-01, -2.27731893e+00, -4.79532589e-01,\n",
       "        2.42237171e-01, -1.87668714e+00,  1.65941450e-01,  4.04785678e-01,\n",
       "       -1.11225478e+00, -1.29774236e+00,  7.51258158e-01,  3.87419978e-01,\n",
       "       -2.14278677e-01, -9.21642162e-01,  1.63626346e+00, -4.83724030e-01,\n",
       "        7.31983834e-01, -8.22467541e-01,  1.08033389e+00,  3.86939951e-01,\n",
       "        7.58038391e-01, -3.84476240e+00,  2.40974040e+00,  1.05200813e+00,\n",
       "       -1.30646647e+00, -8.50004451e-01, -1.46138428e-01, -4.98390523e-01,\n",
       "       -1.33805936e+00,  2.78784213e+00, -8.54145397e-01, -6.89125545e-01,\n",
       "       -1.18277656e-02, -1.84535881e+00,  5.59215609e-01,  1.17469612e+00,\n",
       "       -5.05212026e-01,  8.96557694e-01,  2.59837756e-01,  7.14261143e-01,\n",
       "       -9.36327074e-01, -1.60385742e-01,  6.57608498e-01, -5.79234641e-01,\n",
       "       -1.06715011e+00,  4.66876834e-02, -1.76930836e+00, -3.23604718e-02,\n",
       "        1.07310355e+00, -8.37373581e-01,  7.27217120e-02,  8.22307120e-01,\n",
       "        1.64865642e+00, -1.03084312e+00,  5.29894561e-01,  9.66560290e-02,\n",
       "       -8.62113820e-01,  4.03022275e-01, -2.06938998e-01,  2.26101156e+00,\n",
       "        6.57371899e-01, -3.98035145e-02, -4.50638980e-01, -8.00997528e-01,\n",
       "        7.89979366e-01,  4.46495502e-02, -1.00157668e+00, -6.54328223e-01,\n",
       "        1.61036139e-01,  6.14232081e-01, -1.43479692e+00, -7.04863045e-02,\n",
       "        1.19052180e+00, -2.12964843e+00, -1.00752756e-01, -8.36101020e-01,\n",
       "       -6.02387583e-01, -1.57043592e+00,  5.89812242e-02, -3.66179057e-02,\n",
       "       -1.00087500e+00, -2.04790425e+00,  7.09194431e-01, -8.85252201e-01,\n",
       "       -1.01810477e+00, -5.41965744e-02, -1.29534079e+00,  7.23716086e-02,\n",
       "       -2.39165049e-01,  9.04360033e-01, -2.94185038e-01, -3.05566088e-01,\n",
       "        3.41104865e-01, -1.80014990e+00, -2.55656774e-02,  3.28955200e-01,\n",
       "       -1.20901274e+00, -1.67061036e+00,  3.80568517e-01,  8.78473100e-01,\n",
       "       -8.38260470e-01, -6.30800127e-02,  3.76967985e-01,  8.53166894e-01,\n",
       "       -1.00083609e-01,  1.85108262e+00, -9.36013191e-01, -1.43788510e-01,\n",
       "       -9.22658132e-01,  1.41767218e+00,  4.45648553e-01,  7.16376005e-01,\n",
       "       -6.55721061e-01, -1.11921351e-02,  8.11576082e-01,  1.12915014e-01,\n",
       "       -3.79646906e-01, -1.23120297e+00, -6.84703069e-01, -8.67275596e-01,\n",
       "        5.15527407e-01, -1.04579738e+00,  5.18191393e-01, -5.49786146e-01,\n",
       "        5.67250611e-01,  4.16393852e-01, -2.91303983e-01, -1.11707357e+00,\n",
       "       -6.65869384e-01,  4.95433749e-02, -9.94060382e-01, -7.00170280e-01,\n",
       "       -5.69601117e-01,  3.02611751e-01, -1.00980770e-01, -1.03329732e+00,\n",
       "       -3.99339771e-01,  8.14654723e-01,  6.57062579e-01,  6.42417474e-03,\n",
       "        5.81070726e-01,  5.12550004e-01,  3.58110918e-02,  1.51254802e+00,\n",
       "        7.07947377e-01, -1.43567130e+00, -6.67623096e-01, -2.36770080e-01,\n",
       "       -1.08425659e+00,  1.71752052e+00, -1.44518962e+00, -1.92401272e+00,\n",
       "        1.19152611e+00,  2.39624068e-01,  3.46988218e-01,  4.49670303e-01,\n",
       "       -4.29359074e-01,  1.72227026e-01, -1.31398613e+00, -2.34446396e-01,\n",
       "        7.64217025e-01, -6.74456566e-01, -2.12894196e-01, -1.33617208e-01,\n",
       "        7.21204959e-01,  2.62794695e+00, -3.66566760e-01,  1.10495253e-01,\n",
       "       -1.31649398e-01,  1.08723897e+00, -1.71988739e+00, -3.80234006e-01,\n",
       "        3.89607320e-01,  4.60772386e-02,  7.15585096e-01, -8.62746640e-01,\n",
       "       -1.46315218e+00,  5.59585386e-01,  7.77715036e-01,  9.85881945e-02,\n",
       "       -2.31754789e-01,  6.41829423e-01, -1.85372418e-01,  8.88966109e-01,\n",
       "        1.87417370e+00,  5.75363328e-01,  6.83097722e-01,  2.25268011e+00,\n",
       "        2.71166904e+00,  8.14368995e-02,  1.54772862e+00,  6.33507582e-01,\n",
       "        2.15730294e+00,  1.75485100e+00,  3.40558163e+00,  1.72376944e+00,\n",
       "        4.52183777e-01, -1.16017409e-01,  7.48393323e-01,  2.85182705e+00,\n",
       "       -5.49565656e-01, -2.02865052e+00, -1.55841743e-01,  8.59622725e-02,\n",
       "        9.53955431e-01,  8.90857217e-01,  1.22201224e+00,  4.60541648e-01,\n",
       "        4.04831524e-01, -2.09636036e+00,  5.03291250e-01,  9.24118499e-01,\n",
       "        7.72317708e-01, -5.32241142e-01, -5.07952002e-01,  1.08513280e+00,\n",
       "       -4.68938150e-01,  1.49496448e-01, -3.91454314e-01,  3.25796777e-01,\n",
       "        1.27151057e-01,  1.30111802e+00, -1.49760889e+00,  3.44120101e-01,\n",
       "        8.28445907e-01, -1.32295180e-01,  5.51047477e-02,  1.36061127e+00,\n",
       "        1.94635509e-01,  1.37422324e+00,  1.23080221e-01,  1.21759726e+00,\n",
       "       -4.93959163e-01, -8.60816487e-02, -1.08925034e+00,  2.40338194e-01,\n",
       "       -2.66454229e-02,  7.15047647e-01,  9.24591787e-02,  7.78135908e-01,\n",
       "       -1.02728643e+00, -1.23176796e+00, -4.04645931e-01,  3.51270686e-01,\n",
       "       -7.62316013e-01, -5.39116276e-01,  2.30801552e-01, -8.08627468e-01,\n",
       "       -5.35640212e-01, -6.39489087e-01, -7.89287789e-01, -1.24589634e+00,\n",
       "       -3.67769023e-01, -4.10547726e-01, -1.21820626e+00,  1.07293135e+00,\n",
       "       -1.06922116e-01, -1.43576345e-01, -1.40291192e-01,  1.03256357e+00,\n",
       "       -2.03492564e-02,  1.89632812e+00, -1.21153979e+00,  9.95345889e-01,\n",
       "        3.98181451e-01,  5.89771589e-02, -3.16785540e+00, -9.90666107e-01,\n",
       "       -2.39160865e-01, -8.01518711e-01,  2.35587487e-01, -7.27893588e-02,\n",
       "       -1.24151684e-01,  2.82214790e-01, -7.71772981e-01,  1.52156581e+00,\n",
       "        1.43018811e+00, -2.54125277e-01, -8.36996649e-02, -8.67775651e-01,\n",
       "        3.97480387e-01,  6.19925110e-01,  9.88791704e-01, -1.25722726e+00,\n",
       "       -5.86709330e-01, -3.93090680e-01, -1.82047324e+00,  6.59313491e-01,\n",
       "       -6.84678017e-01, -6.61784593e-01,  1.95630015e-01,  1.13028910e-01,\n",
       "        9.21186833e-04, -2.36602396e-01, -6.79975414e-01,  1.19244237e+00,\n",
       "       -1.64159175e+00, -6.87765828e-01,  1.15435578e+00, -2.59635257e-01,\n",
       "       -1.08856013e+00,  1.17115216e+00,  2.24886242e-01, -2.63902625e-01,\n",
       "       -1.82533956e-01,  1.42164569e+00,  2.40945799e+00,  4.35476081e-01,\n",
       "        1.24441964e+00, -9.33348900e-01, -6.87940522e-01,  1.17606713e+00,\n",
       "        4.51769019e-01,  1.58469412e+00,  4.76187326e-01,  2.50622320e-01,\n",
       "       -3.62368808e-01, -7.77147681e-01, -7.47352577e-03, -3.14277416e-01,\n",
       "        4.18313122e-01, -1.00326149e+00,  9.26407862e-01,  2.26725114e+00,\n",
       "       -1.03899880e+00, -1.61005821e+00, -1.91455592e-02,  2.33761384e-01,\n",
       "        3.22381931e-01,  1.73390627e+00, -2.24307071e+00,  9.56972563e-01,\n",
       "       -3.03077321e+00,  2.38449542e-01, -1.68393389e+00, -3.01113735e-01,\n",
       "        2.28608133e-01, -4.79196412e-01, -1.55883569e+00, -1.25546593e-01,\n",
       "       -7.35443901e-02,  8.64611596e-01,  1.18978607e+00,  5.78007993e-01,\n",
       "        3.30402956e-01, -2.09355220e+00, -1.09861444e+00,  4.96410987e-01,\n",
       "       -6.12084345e-01,  1.23925015e+00,  1.49832071e-01,  2.29354916e-01,\n",
       "       -1.69346616e+00, -1.19791327e-01, -1.05034811e+00,  7.36665494e-01,\n",
       "       -1.80612185e-01, -8.64838118e-01,  2.11898037e+00,  2.49034415e-01,\n",
       "        1.92336920e-01,  6.35444971e-01,  1.20495920e+00, -8.21400303e-01,\n",
       "        1.17714494e+00, -1.51860054e+00,  2.34686054e-01, -8.32509442e-01,\n",
       "        1.28843155e+00,  6.17027182e-01,  4.78581962e-01, -5.23568402e-01,\n",
       "       -1.09337256e+00,  7.21768549e-01, -1.74797910e+00, -5.29048815e-02,\n",
       "        7.63863745e-01, -7.85127303e-01,  7.51105626e-02, -2.24165044e-01,\n",
       "       -3.24676725e-01, -7.75621455e-01,  5.96506773e-01,  5.27483952e-01,\n",
       "       -2.25706369e-01, -5.66660289e-01,  1.39804822e+00, -3.95394298e-01,\n",
       "       -1.11529707e+00, -1.91091276e+00, -4.89039098e-01,  1.18821634e+00,\n",
       "        3.37944669e-01, -1.63845704e+00,  1.16982730e+00, -2.16755808e-01,\n",
       "        3.75654654e-01,  9.23790092e-02, -1.00123691e+00,  4.84350038e-01,\n",
       "        5.87815934e-01,  8.72012571e-02, -1.08690251e+00,  1.64257491e-01,\n",
       "        2.33913036e-01,  4.93781850e-01, -2.01799565e+00,  5.84599980e-01,\n",
       "        1.38574664e+00,  5.70869876e-02, -1.49550473e+00, -1.46003292e+00,\n",
       "       -7.73432890e-01,  5.87630385e-01,  2.21021720e-01, -5.70767871e-01,\n",
       "        4.49895990e-01,  9.27915010e-01, -1.15825615e+00, -2.61608705e-01,\n",
       "       -6.06129783e-01, -1.22714927e+00,  1.09570042e+00, -1.27931824e+00,\n",
       "       -2.12090471e-03,  5.16923182e-01,  7.68526412e-01,  5.19658494e-01,\n",
       "       -1.61988552e+00,  1.24823641e+00,  4.53162543e-01, -7.59620027e-01,\n",
       "        2.03475550e-01, -7.72276105e-01, -1.34548825e+00, -6.66930455e-01,\n",
       "        6.02863364e-01, -1.80683314e+00,  3.44698559e-01,  1.12368702e+00,\n",
       "       -2.34678064e+00,  8.92530762e-01,  8.72277846e-01, -9.31466375e-01,\n",
       "        1.53624732e+00, -2.79888783e+00, -2.62465454e-01, -3.30226219e-01,\n",
       "        2.84726142e-01,  7.37571170e-01,  6.77456990e-01,  4.37769494e-01,\n",
       "       -1.59356799e+00,  2.19214977e-02,  2.34410697e-01,  1.62258854e-01,\n",
       "       -4.86356495e-01, -8.90947188e-01, -6.36320802e-01, -2.70308483e-01,\n",
       "       -1.96776253e+00,  9.43638749e-01,  1.60849010e+00, -7.74588878e-01,\n",
       "        1.71551126e+00, -6.48342237e-02, -8.83898415e-01,  5.41407550e-01,\n",
       "        9.40640848e-02,  5.51558151e-01, -7.29620221e-01, -8.97968852e-01,\n",
       "        8.65845007e-02,  8.69688185e-01,  8.97445324e-01, -1.33577600e-01,\n",
       "       -1.79213481e-01,  2.57183048e-01, -4.77630429e-01, -3.11404459e-01,\n",
       "       -1.23980216e+00, -1.45127748e+00, -1.06634458e+00, -8.09833297e-02,\n",
       "        1.67302096e+00,  6.75997056e-01,  2.06748197e-01, -8.49913983e-01,\n",
       "       -9.11745327e-01,  5.94133598e-01,  2.47655517e-01, -2.53070921e+00,\n",
       "       -1.26507928e+00,  4.30840756e-01, -3.19779615e-02,  1.23939307e+00,\n",
       "       -8.42628729e-01, -1.03272377e+00, -1.63611247e+00, -1.81072989e+00,\n",
       "        7.57298686e-01, -4.03075242e-01, -1.19315102e+00,  9.96381265e-01,\n",
       "       -1.17454810e+00, -2.02731390e-01,  7.27808921e-01,  3.56183808e-01,\n",
       "        7.25192871e-02,  3.75747889e-01,  3.39063741e-01,  1.54873320e+00,\n",
       "       -1.52965651e-01,  5.58022593e-01, -4.64245545e-01,  6.32591234e-01,\n",
       "        1.73717455e-01, -9.02335855e-01,  1.93546729e-01,  1.33778957e+00,\n",
       "        1.61196045e+00, -2.81971356e-01, -1.92366449e+00, -9.55634986e-01,\n",
       "       -1.40175272e-02,  2.73205290e+00, -2.08489627e-01, -3.37348237e-01,\n",
       "        4.74622325e-01, -9.18336625e-01,  2.97331675e-03,  1.76644899e-01,\n",
       "       -5.14853280e-01, -5.23264513e-01, -1.14148877e+00, -5.80773781e-01,\n",
       "       -4.43557909e-01, -4.35451601e-01, -1.55239093e-01,  2.38795042e-01,\n",
       "       -4.63877954e-01, -3.44243142e-01,  7.37865025e-01,  1.16292836e-01,\n",
       "       -5.46822411e-01,  4.37795468e-02,  6.23096350e-01,  1.37671461e+00,\n",
       "       -8.10906059e-01, -5.02102916e-01,  3.95121032e-01,  8.69426393e-01,\n",
       "       -3.53626061e-01, -9.07840577e-03,  2.10271289e-01,  1.34060512e+00,\n",
       "        8.35981138e-01, -4.84024376e-01,  1.98163406e-01, -1.40574489e+00,\n",
       "        1.22333111e-02,  3.63233809e-01, -2.44508840e-01, -5.80912764e-02,\n",
       "       -3.64651098e-01,  5.59863364e-01, -1.50511343e+00, -7.30661652e-01,\n",
       "        1.42114252e+00, -3.44875591e-01, -1.46762130e+00,  1.55260573e+00,\n",
       "        1.63602581e+00, -7.74159754e-02, -1.49132659e+00,  3.00200606e-01,\n",
       "        5.87885046e-01,  3.70330654e+00,  9.55049545e-01, -1.93871279e-01,\n",
       "        1.34636275e+00, -2.15676579e+00, -1.44692838e+00,  1.14043329e-01,\n",
       "        9.19979486e-01, -6.18618354e-01,  1.67758996e+00,  4.85264290e-01,\n",
       "        5.08343841e-01, -1.34745626e+00, -5.53378407e-01,  1.38109657e+00,\n",
       "       -3.72871061e-01, -4.20924720e-01,  1.26222905e+00, -5.54603344e-01,\n",
       "       -9.20004232e-01, -3.32709739e-01,  7.54261882e-01,  2.32029337e-01,\n",
       "        3.30309921e-01, -1.64054246e+00,  2.13652362e-01,  2.41923473e-01,\n",
       "        1.89681250e+00,  3.05759714e-01,  8.94710317e-01,  8.03354417e-01,\n",
       "       -8.15873759e-01,  8.30594324e-01, -1.87109269e+00, -8.34987866e-01,\n",
       "        1.28255096e+00, -6.81332354e-01, -8.92056943e-01, -4.82083709e-01,\n",
       "        9.96534701e-01,  2.79190881e-01,  6.21941552e-01, -4.73090036e-01,\n",
       "        1.77148916e+00,  1.37919041e-01,  1.70734006e+00, -2.50652595e+00,\n",
       "       -1.50135733e+00, -6.47602396e-01, -4.04498877e-01, -1.06902358e+00,\n",
       "        8.81445182e-01, -1.05720271e-01, -4.25190587e-01,  3.25679914e-01,\n",
       "       -6.66505850e-02,  9.63992636e-01,  2.02474613e-01, -5.69477005e-01,\n",
       "        5.90612127e-01, -2.47200576e-02, -2.88128195e-01, -1.52459351e-01,\n",
       "        5.91002337e-01,  7.28371760e-01, -9.85778764e-01, -5.03290356e-01,\n",
       "        1.88738524e-01,  5.94082217e-01, -2.85182258e-01,  9.54199119e-01,\n",
       "        5.69488457e-01,  1.02436892e-01,  1.10146862e-01,  1.15390477e+00,\n",
       "        1.45896724e+00, -6.97190565e-01, -8.50836400e-01,  2.29096562e-01,\n",
       "       -3.60154263e-01,  5.95624154e-01,  4.83299455e-01, -1.01747312e+00,\n",
       "        1.22438803e+00,  1.39119415e+00,  6.16195261e-01,  1.31758387e+00,\n",
       "        6.36222601e-01,  1.47998301e+00,  1.70567393e+00,  8.18069214e-01,\n",
       "        6.45012009e-01, -6.46865481e-02,  3.87839603e-01,  1.27628220e+00,\n",
       "       -1.27402217e+00, -1.56517979e+00,  3.47804684e-01, -1.29280630e-01,\n",
       "       -7.08848931e-01,  3.76299369e-01, -3.80034365e-01,  1.00923653e+00,\n",
       "        9.10738096e-01,  1.68309390e+00,  1.11662615e+00,  4.79136610e-01,\n",
       "        2.05302547e-01, -2.11934640e-02,  1.39792711e-01, -3.97823071e-01,\n",
       "       -1.76662091e+00, -1.48837105e+00, -1.22703491e-01,  1.38106901e+00,\n",
       "        9.29456656e-01, -5.00069785e-01,  2.87496711e-01, -2.63887295e-01,\n",
       "       -3.46654892e-01,  7.95967641e-01, -2.94368124e-02,  2.41886637e-01,\n",
       "        1.22704892e+00,  5.07525706e-01, -2.11363900e-01,  1.84872604e-02,\n",
       "        1.08191110e-02, -1.74536844e+00,  6.20121229e-01,  4.70184746e-01,\n",
       "       -5.22009153e-01,  6.09800797e-01,  6.06995753e-01,  3.02824965e-01,\n",
       "        1.14602689e+00, -4.34413069e-01,  1.74805527e+00,  4.45328435e-01,\n",
       "        4.05472129e-01, -1.35919149e-01, -9.72522504e-01, -2.93890170e-02,\n",
       "       -5.17726317e-01,  1.73409507e+00,  7.07834541e-01, -1.84166743e-01,\n",
       "       -1.11366107e+00,  2.59939175e+00,  9.04712976e-01,  7.21919771e-01,\n",
       "        1.32049950e+00,  4.30106332e-01, -1.57831934e+00, -6.96389969e-01,\n",
       "        1.36356440e-01,  1.57112676e+00,  1.18140034e+00, -3.47826102e-01,\n",
       "        6.17358803e-01,  5.78428142e-01,  1.70616352e+00,  1.88902009e-01,\n",
       "       -8.51724369e-01, -1.37928030e+00,  1.39588439e+00, -8.89430658e-01,\n",
       "       -3.83217058e-01, -5.80407327e-01, -8.60976237e-01,  7.60580136e-01,\n",
       "        1.37004838e+00, -1.26310345e+00, -8.98825378e-01, -2.33554502e-02,\n",
       "        5.58690217e-01,  4.57561914e-01, -8.33499207e-02,  6.03330982e-01,\n",
       "        8.92241905e-01, -3.78478340e-01,  2.03086188e+00,  1.20366146e+00,\n",
       "        6.45901099e-01, -1.98428024e-01, -1.36276364e+00, -1.77137490e-01,\n",
       "       -2.23263226e-01, -1.38700069e-01,  1.00823187e-01,  2.09072321e-01,\n",
       "       -1.80640999e+00,  1.45807465e-01, -1.87081073e-01,  2.01960639e+00,\n",
       "        1.04771358e+00, -2.08381943e-01, -1.48420460e-01,  1.64084607e+00,\n",
       "        2.30279184e+00, -5.66835612e-01, -6.73159189e-01, -2.57945889e+00,\n",
       "       -2.66692663e-01, -8.82501208e-01, -5.84038559e-01, -9.04640604e-01,\n",
       "       -8.29654399e-03, -1.37466142e+00,  2.48172895e-01,  3.51785660e-01,\n",
       "        5.82061254e-01,  1.34024404e-01,  7.78264023e-01, -2.24523293e-01,\n",
       "       -4.16102358e-01,  6.59276098e-01, -1.43009029e+00,  1.25758724e+00,\n",
       "        5.58904527e-02, -7.57180996e-01, -6.92144881e-01,  2.92355863e-01,\n",
       "       -1.78778951e-01, -3.73995586e-01,  6.21677276e-01,  1.53576869e+00,\n",
       "       -6.74188552e-01, -1.51673747e+00, -5.02086650e-01, -1.34681131e+00,\n",
       "        1.55702795e-01,  1.55879211e-01,  1.20291696e+00,  4.75588718e-01,\n",
       "       -4.53511403e-01,  7.08458040e-02,  7.40980255e-01, -3.41839626e-01,\n",
       "       -1.41330743e+00, -1.51115798e+00,  3.21046246e-01, -1.31831200e+00,\n",
       "       -6.46702095e-01, -2.43984881e-01,  1.45635098e+00,  2.02885335e-01,\n",
       "       -4.19877191e-01, -4.74404277e-01,  1.10493584e+00, -1.03642764e+00,\n",
       "        1.36737341e+00, -9.72863435e-01,  2.00920808e-01, -1.07679445e+00,\n",
       "        4.55533680e-02,  2.38748466e+00,  7.14649444e-01,  1.23764825e+00,\n",
       "       -2.49760235e-02,  5.42410739e-01, -1.01484868e-01, -1.05882982e+00,\n",
       "        1.81579958e-01, -2.91395524e-01, -8.82122449e-01, -4.23086649e-01,\n",
       "        1.50037154e+00, -4.66160554e-01,  7.73001263e-02, -2.86135596e-02,\n",
       "        2.15407442e+00, -3.00122284e-01, -4.51331583e-01, -1.69102246e+00,\n",
       "        1.30740630e+00,  2.23109229e-01,  1.86312139e+00, -2.02952522e+00,\n",
       "        1.52446036e+00,  1.30111555e+00,  1.29781848e+00, -2.26176570e-01,\n",
       "       -6.00264586e-01,  2.30201511e+00, -2.23601041e-01, -6.85586133e-01,\n",
       "       -2.07580460e-01, -1.10067425e+00, -1.48153318e+00,  4.29622043e-02,\n",
       "        1.39229490e+00, -9.93470095e-01, -1.09960848e+00, -2.86316467e-01,\n",
       "       -1.24061948e+00,  3.24417905e-01,  3.19277465e-01, -9.25579090e-01,\n",
       "        2.58644737e+00, -6.04228164e-01,  7.34602306e-01,  8.82577425e-01,\n",
       "       -3.92275022e-01, -7.44124116e-01, -6.41895803e-02, -4.33692712e-01,\n",
       "       -1.13303422e-01, -9.22119065e-01,  7.35711186e-01,  1.02724419e+00,\n",
       "        8.78162417e-01, -3.24414023e-01,  1.05660254e-01, -8.32561672e-01,\n",
       "        1.40688113e+00,  7.40530115e-02,  1.97570796e+00,  9.82200840e-02,\n",
       "        2.89228026e-01, -1.66823490e+00,  1.28816526e+00,  2.27577060e+00,\n",
       "        1.05202141e+00,  1.39754785e+00, -8.76040884e-01,  1.72216670e-01,\n",
       "        1.02080138e+00,  7.93871814e-01, -9.02776087e-02, -5.94202887e-01,\n",
       "       -4.44238649e-01, -2.59899399e-01,  2.81995790e+00,  1.62409810e+00,\n",
       "        9.39837638e-01, -1.66523779e+00, -1.17217711e-01, -6.58326207e-02,\n",
       "        4.83953655e-01,  1.06439082e+00, -1.45255865e+00, -1.79252473e+00,\n",
       "       -1.04425996e+00,  3.22887957e-02,  1.52449009e+00,  1.37711165e+00,\n",
       "       -5.55709384e-01,  3.75687013e-01,  9.42601518e-01,  1.15989893e+00,\n",
       "        1.07973583e+00, -2.63821592e-01, -7.69378986e-01,  1.62331380e-02,\n",
       "       -1.42550181e-01, -1.47461146e+00, -1.17720215e+00, -7.09233441e-01,\n",
       "        9.09960545e-01,  4.57402285e-01,  3.74617333e-01,  3.65313811e-01,\n",
       "        1.46676739e+00, -1.22749808e+00,  6.02216391e-01,  1.27140239e-02,\n",
       "        1.52717570e+00,  1.82520515e+00, -8.45932127e-01, -2.94466988e-01,\n",
       "       -1.66043559e-01,  2.34957350e-02,  1.43169285e-01,  5.17035100e-01,\n",
       "        1.83202624e+00,  8.08643747e-01,  2.29055062e-01,  1.04923181e+00,\n",
       "       -1.06607499e+00, -1.35712412e+00, -2.17476064e+00,  4.12790167e-01,\n",
       "        1.98999604e+00, -2.79040446e+00,  1.60324631e-01,  3.18875904e-01])"
      ]
     },
     "execution_count": 130,
     "metadata": {},
     "output_type": "execute_result"
    }
   ],
   "source": [
    "data = np.random.randn(1000)\n",
    "data"
   ]
  },
  {
   "cell_type": "code",
   "execution_count": 131,
   "metadata": {
    "scrolled": true
   },
   "outputs": [
    {
     "data": {
      "text/plain": [
       "(-3.846, 0.0279]    500\n",
       "(0.0279, 3.703]     500\n",
       "dtype: int64"
      ]
     },
     "execution_count": 131,
     "metadata": {},
     "output_type": "execute_result"
    }
   ],
   "source": [
    "pd.qcut(data,2).value_counts()"
   ]
  },
  {
   "cell_type": "code",
   "execution_count": 132,
   "metadata": {
    "scrolled": false
   },
   "outputs": [
    {
     "data": {
      "text/plain": [
       "(-3.846, -0.836]    200\n",
       "(-0.836, -0.212]    200\n",
       "(-0.212, 0.242]     200\n",
       "(0.242, 0.829]      200\n",
       "(0.829, 3.703]      200\n",
       "dtype: int64"
      ]
     },
     "execution_count": 132,
     "metadata": {},
     "output_type": "execute_result"
    }
   ],
   "source": [
    "pd.qcut(data,5).value_counts()#等频划分"
   ]
  },
  {
   "cell_type": "code",
   "execution_count": 133,
   "metadata": {},
   "outputs": [
    {
     "data": {
      "text/plain": [
       "(-3.846, -0.649]    250\n",
       "(-0.649, 0.0279]    250\n",
       "(0.0279, 0.658]     250\n",
       "(0.658, 3.703]      250\n",
       "dtype: int64"
      ]
     },
     "execution_count": 133,
     "metadata": {},
     "output_type": "execute_result"
    }
   ],
   "source": [
    "pd.qcut(data,[0,0.25,0.5,0.75,1]).value_counts()#等频划分"
   ]
  },
  {
   "cell_type": "code",
   "execution_count": 135,
   "metadata": {},
   "outputs": [
    {
     "data": {
      "text/plain": [
       "(15.999, 36.4]    2\n",
       "(36.4, 62.2]      2\n",
       "(62.2, 67.6]      2\n",
       "(67.6, 79.2]      2\n",
       "(79.2, 84.0]      2\n",
       "dtype: int64"
      ]
     },
     "execution_count": 135,
     "metadata": {},
     "output_type": "execute_result"
    }
   ],
   "source": [
    "df = np.random.randint(0,100,10)\n",
    "pd.qcut(df,5).value_counts()"
   ]
  },
  {
   "cell_type": "markdown",
   "metadata": {},
   "source": [
    "# 练习"
   ]
  },
  {
   "cell_type": "markdown",
   "metadata": {},
   "source": [
    "什么样的数据叫做脏数据/有问题的数据？我们用'311-service-requests.csv'服务请求数据来一起看看，这个数据量不算小，同时也有一些东西确实可以处理一下。\n",
    "\n",
    "其实也没有特别好的办法，还是得先拿点数据出来看看。比如说我们这里观察到邮政编码可能有问题的字段。\n",
    "\n",
    "需要提到的一点是 .unique() 函数有很巧的用处，我们把所有出现过的邮政编码列出来（之后再看看分布？），也许会有一些想法。"
   ]
  },
  {
   "cell_type": "code",
   "execution_count": 53,
   "metadata": {},
   "outputs": [
    {
     "name": "stderr",
     "output_type": "stream",
     "text": [
      "d:\\program files\\python3.6\\lib\\site-packages\\IPython\\core\\interactiveshell.py:2728: DtypeWarning: Columns (8) have mixed types. Specify dtype option on import or set low_memory=False.\n",
      "  interactivity=interactivity, compiler=compiler, result=result)\n"
     ]
    },
    {
     "data": {
      "text/plain": [
       "array([11432.0, 11378.0, 10032.0, 10023.0, 10027.0, 11372.0, 11419.0,\n",
       "       11417.0, 10011.0, 11225.0, 11218.0, 10003.0, 10029.0, 10466.0,\n",
       "       11219.0, 10025.0, 10310.0, 11236.0, nan, 10033.0, 11216.0, 10016.0,\n",
       "       10305.0, 10312.0, 10026.0, 10309.0, 10036.0, 11433.0, 11235.0,\n",
       "       11213.0, 11379.0, 11101.0, 10014.0, 11231.0, 11234.0, 10457.0,\n",
       "       10459.0, 10465.0, 11207.0, 10002.0, 10034.0, 11233.0, 10453.0,\n",
       "       10456.0, 10469.0, 11374.0, 11221.0, 11421.0, 11215.0, 10007.0,\n",
       "       10019.0, 11205.0, 11418.0, 11369.0, 11249.0, 10005.0, 10009.0,\n",
       "       11211.0, 11412.0, 10458.0, 11229.0, 10065.0, 10030.0, 11222.0,\n",
       "       10024.0, 10013.0, 11420.0, 11365.0, 10012.0, 11214.0, 11212.0,\n",
       "       10022.0, 11232.0, 11040.0, 11226.0, 10281.0, 11102.0, 11208.0,\n",
       "       10001.0, 10472.0, 11414.0, 11223.0, 10040.0, 11220.0, 11373.0,\n",
       "       11203.0, 11691.0, 11356.0, 10017.0, 10452.0, 10280.0, 11217.0,\n",
       "       10031.0, 11201.0, 11358.0, 10128.0, 11423.0, 10039.0, 10010.0,\n",
       "       11209.0, 10021.0, 10037.0, 11413.0, 11375.0, 11238.0, 10473.0,\n",
       "       11103.0, 11354.0, 11361.0, 11106.0, 11385.0, 10463.0, 10467.0,\n",
       "       11204.0, 11237.0, 11377.0, 11364.0, 11434.0, 11435.0, 11210.0,\n",
       "       11228.0, 11368.0, 11694.0, 10464.0, 11415.0, 10314.0, 10301.0,\n",
       "       10018.0, 10038.0, 11105.0, 11230.0, 10468.0, 11104.0, 10471.0,\n",
       "       11416.0, 10075.0, 11422.0, 11355.0, 10028.0, 10462.0, 10306.0,\n",
       "       10461.0, 11224.0, 11429.0, 10035.0, 11366.0, 11362.0, 11206.0,\n",
       "       10460.0, 10304.0, 11360.0, 11411.0, 10455.0, 10475.0, 10069.0,\n",
       "       10303.0, 10308.0, 10302.0, 11357.0, 10470.0, 11367.0, 11370.0,\n",
       "       10454.0, 10451.0, 11436.0, 11426.0, 10153.0, 11004.0, 11428.0,\n",
       "       11427.0, 11001.0, 11363.0, 10004.0, 10474.0, 11430.0, 10000.0,\n",
       "       10307.0, 11239.0, 10119.0, 10006.0, 10048.0, 11697.0, 11692.0,\n",
       "       11693.0, 10573.0, 83.0, 11559.0, 10020.0, 77056.0, 11776.0,\n",
       "       70711.0, 10282.0, 11109.0, 10044.0, '10452', '11233', '10468',\n",
       "       '10310', '11105', '10462', '10029', '10301', '10457', '10467',\n",
       "       '10469', '11225', '10035', '10031', '11226', '10454', '11221',\n",
       "       '10025', '11229', '11235', '11422', '10472', '11208', '11102',\n",
       "       '10032', '11216', '10473', '10463', '11213', '10040', '10302',\n",
       "       '11231', '10470', '11204', '11104', '11212', '10466', '11416',\n",
       "       '11214', '10009', '11692', '11385', '11423', '11201', '10024',\n",
       "       '11435', '10312', '10030', '11106', '10033', '10303', '11215',\n",
       "       '11222', '11354', '10016', '10034', '11420', '10304', '10019',\n",
       "       '11237', '11249', '11230', '11372', '11207', '11378', '11419',\n",
       "       '11361', '10011', '11357', '10012', '11358', '10003', '10002',\n",
       "       '11374', '10007', '11234', '10065', '11369', '11434', '11205',\n",
       "       '11206', '11415', '11236', '11218', '11413', '10458', '11101',\n",
       "       '10306', '11355', '10023', '11368', '10314', '11421', '10010',\n",
       "       '10018', '11223', '10455', '11377', '11433', '11375', '10037',\n",
       "       '11209', '10459', '10128', '10014', '10282', '11373', '10451',\n",
       "       '11238', '11211', '10038', '11694', '11203', '11691', '11232',\n",
       "       '10305', '10021', '11228', '10036', '10001', '10017', '11217',\n",
       "       '11219', '10308', '10465', '11379', '11414', '10460', '11417',\n",
       "       '11220', '11366', '10027', '11370', '10309', '11412', '11356',\n",
       "       '10456', '11432', '10022', '10013', '11367', '11040', '10026',\n",
       "       '10475', '11210', '11364', '11426', '10471', '10119', '11224',\n",
       "       '11418', '11429', '11365', '10461', '11239', '10039', '00083',\n",
       "       '11411', '10075', '11004', '11360', '10453', '10028', '11430',\n",
       "       '10307', '11103', '10004', '10069', '10005', '10474', '11428',\n",
       "       '11436', '10020', '11001', '11362', '11693', '10464', '11427',\n",
       "       '10044', '11363', '10006', '10000', '02061', '77092-2016', '10280',\n",
       "       '11109', '14225', '55164-0737', '19711', '07306', '000000',\n",
       "       'NO CLUE', '90010', '10281', '11747', '23541', '11776', '11697',\n",
       "       '11788', '07604', 10112.0, 11788.0, 11563.0, 11580.0, 7087.0,\n",
       "       11042.0, 7093.0, 11501.0, 92123.0, 0.0, 11575.0, 7109.0, 11797.0,\n",
       "       '10803', '11716', '11722', '11549-3650', '10162', '92123', '23502',\n",
       "       '11518', '07020', '08807', '11577', '07114', '11003', '07201',\n",
       "       '11563', '61702', '10103', '29616-0759', '35209-3114', '11520',\n",
       "       '11735', '10129', '11005', '41042', '11590', 6901.0, 7208.0,\n",
       "       11530.0, 13221.0, 10954.0, 11735.0, 10103.0, 7114.0, 11111.0,\n",
       "       10107.0], dtype=object)"
      ]
     },
     "execution_count": 53,
     "metadata": {},
     "output_type": "execute_result"
    }
   ],
   "source": [
    "import pandas as pd\n",
    "import matplotlib.pyplot as plt\n",
    "import numpy as np\n",
    "requests = pd.read_csv('data/311-service-requests.csv')\n",
    "requests['Incident Zip'].unique()"
   ]
  },
  {
   "cell_type": "markdown",
   "metadata": {},
   "source": [
    "下面我们就把unique()用起来，然后你会发现，确确实实是存在一些问题的，比如：\n",
    "+ 为什么大部分被解析出数值，而有些被解析出字符串了？\n",
    "+ 好多缺省值（nan）\n",
    "+ 格式不一样，有些是29616-0759，有些是83\n",
    "+ 有一些pandas不认的，比如'N/A'或者'NO CLUE'\n",
    "\n",
    "那我们能做什么呢？\n",
    "+ 规整'N/A'和'NO CLUE'到缺省值的“队列”里\n",
    "+ 看看83是什么鬼，然后再决定怎么处理\n",
    "+ 统一一下，全处理成字符串好啦"
   ]
  },
  {
   "cell_type": "code",
   "execution_count": null,
   "metadata": {
    "scrolled": false
   },
   "outputs": [],
   "source": [
    "na_values = ['NO CLUE', 'N/A', '0']\n",
    "requests = pd.read_csv('data/311-service-requests.csv',na_values=na_values, dtype={'Incident Zip': str})\n",
    "requests['Incident Zip'].unique()"
   ]
  },
  {
   "cell_type": "markdown",
   "metadata": {},
   "source": [
    "发现有5个，打算直接把这些都设置成缺省值(nan)的：requests[requests['Incident Zip'].str.contains('-').fillna(False)]['Incident Zip'] = np.nan。\n",
    "\n",
    "后来查了查，发现邮编只有5位数，前五位确实是真是存在的邮编。所以需要截取一下。"
   ]
  },
  {
   "cell_type": "code",
   "execution_count": null,
   "metadata": {},
   "outputs": [],
   "source": [
    "requests['Incident Zip'][requests['Incident Zip'].str.len()>5]"
   ]
  },
  {
   "cell_type": "code",
   "execution_count": null,
   "metadata": {},
   "outputs": [],
   "source": [
    "requests['Incident Zip']=requests['Incident Zip'].str.slice(0,5)#对字符的前位进行切片提取\n",
    "requests['Incident Zip'].unique()"
   ]
  },
  {
   "cell_type": "markdown",
   "metadata": {},
   "source": [
    "发现'00000'根本不是什么美国加拿大的邮编，所以这个是不能这么处理的，还真得重新设为缺省值。"
   ]
  },
  {
   "cell_type": "code",
   "execution_count": null,
   "metadata": {},
   "outputs": [],
   "source": [
    "requests.loc[requests['Incident Zip']=='00000','Incident Zip']=np.nan\n",
    "unique_zips=requests['Incident Zip'].fillna(False).unique().astype('str')\n",
    "unique_zips.sort()\n",
    "unique_zips"
   ]
  },
  {
   "cell_type": "markdown",
   "metadata": {},
   "source": [
    "0或者1开始的比较正确的邮编"
   ]
  },
  {
   "cell_type": "code",
   "execution_count": null,
   "metadata": {},
   "outputs": [],
   "source": [
    "zips = requests['Incident Zip']\n",
    "# 用is_close表示0或者1开始的比较正确的邮编\n",
    "is_close = zips.str.startswith('0') | zips.str.startswith('1')\n",
    "# 非缺省值但不以0或者1开始的邮编认为是有些困惑的\n",
    "is_far = ~(is_close) & zips.notnull()\n",
    "requests[is_far]['Incident Zip']"
   ]
  },
  {
   "cell_type": "code",
   "execution_count": null,
   "metadata": {},
   "outputs": [],
   "source": [
    "requests.loc[is_far,['Incident Zip','City','Descriptor']]"
   ]
  },
  {
   "cell_type": "markdown",
   "metadata": {},
   "source": [
    "刚才做的一大堆工作，其实只是告诉你，我们可以这样去处理和补齐数据。\n",
    "但你实际上会发现，好像其实用city直接对应一下就可以补上一些东西啊。"
   ]
  },
  {
   "cell_type": "code",
   "execution_count": null,
   "metadata": {
    "scrolled": true
   },
   "outputs": [],
   "source": [
    "requests['City'].str.upper().value_counts()"
   ]
  },
  {
   "cell_type": "markdown",
   "metadata": {},
   "source": [
    "### 汇总一下"
   ]
  },
  {
   "cell_type": "markdown",
   "metadata": {},
   "source": [
    "所以汇总一下，我们在邮编这个字段，是这样做数据清洗的："
   ]
  },
  {
   "cell_type": "code",
   "execution_count": null,
   "metadata": {},
   "outputs": [],
   "source": [
    "import pandas as pd\n",
    "import matplotlib.pyplot as plt\n",
    "import numpy as np"
   ]
  },
  {
   "cell_type": "code",
   "execution_count": null,
   "metadata": {},
   "outputs": [],
   "source": [
    "na_values = ['NO CLUE', 'N/A', '0']\n",
    "requests = pd.read_csv('data/311-service-requests.csv',na_values=na_values,dtype={'Incident Zip': str})"
   ]
  },
  {
   "cell_type": "code",
   "execution_count": null,
   "metadata": {},
   "outputs": [],
   "source": [
    "def fix_zip_codes(zips):\n",
    "    # 获取前五位\n",
    "    zips = zips.str.slice(0, 5)\n",
    "    \n",
    "    # 设置00000位空值\n",
    "    zero_zips = zips == '00000'\n",
    "    zips[zero_zips] = np.nan\n",
    "    \n",
    "    return zips"
   ]
  },
  {
   "cell_type": "code",
   "execution_count": null,
   "metadata": {},
   "outputs": [],
   "source": [
    "requests['Incident Zip'] = fix_zip_codes(requests['Incident Zip'])"
   ]
  },
  {
   "cell_type": "code",
   "execution_count": null,
   "metadata": {},
   "outputs": [],
   "source": [
    "requests['Incident Zip'].unique()"
   ]
  }
 ],
 "metadata": {
  "kernelspec": {
   "display_name": "Python 3",
   "language": "python",
   "name": "python3"
  },
  "language_info": {
   "codemirror_mode": {
    "name": "ipython",
    "version": 3
   },
   "file_extension": ".py",
   "mimetype": "text/x-python",
   "name": "python",
   "nbconvert_exporter": "python",
   "pygments_lexer": "ipython3",
   "version": "3.6.5"
  }
 },
 "nbformat": 4,
 "nbformat_minor": 2
}
